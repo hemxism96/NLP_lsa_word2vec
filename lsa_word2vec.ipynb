{
 "cells": [
  {
   "cell_type": "markdown",
   "metadata": {},
   "source": [
    "# TP#2 : LSA et word2vec"
   ]
  },
  {
   "cell_type": "markdown",
   "metadata": {},
   "source": [
    "\n",
    "## Approche du TP\n",
    "\n",
    "Nous allons explorer les différents types de représentations distribuées vu au second cours, en commençant par un exemple simple d'application de la LSA. On l'appliquera ensuite à d'autres données.\n",
    "\n",
    "Dans un second temps, on chargera un modèle word2vec pré-entraîné et on pourra le manipuler."
   ]
  },
  {
   "cell_type": "markdown",
   "metadata": {},
   "source": [
    "# Première partie : Latent Semantic Analysis"
   ]
  },
  {
   "cell_type": "markdown",
   "metadata": {},
   "source": [
    "## Reprise de l'exemple du cours sur les titres de livres"
   ]
  },
  {
   "cell_type": "markdown",
   "metadata": {},
   "source": [
    "Pendant le second cours, on avait vu sur un dataset très simple comment on pouvait utiliser la LSA pour projeter à la fois des mots et des documents dans le même espace.\n",
    "\n",
    "On reprend ici les mêmes données pour voir en détails l'utilisation de la LSA."
   ]
  },
  {
   "cell_type": "code",
   "execution_count": 98,
   "metadata": {},
   "outputs": [],
   "source": [
    "titles = [ \n",
    "    \"The Neatest Little Guide to Stock Market Investing\", \n",
    "    \"Investing For Dummies, 4th Edition\", \n",
    "    \"The Little Book of Common Sense Investing: The Only Way to Guarantee Your Fair Share of Stock Market Returns\", \n",
    "    \"The Little Book of Value Investing\", \n",
    "    \"Value Investing: From Graham to Buffett and Beyond\", \n",
    "    \"Rich Dad's Guide to Investing: What the Rich Invest in, That the Poor and the Middle Class Do Not!\", \n",
    "    \"Investing in Real Estate, 5th Edition\", \n",
    "    \"Stock Investing For Dummies\", \n",
    "    \"Rich Dad's Advisors: The ABC's of Real Estate Investing: The Secrets of Finding Hidden Profits Most Investors Miss\" \n",
    "]\n",
    "\n",
    "stopwords = ['and','edition','for','in','little','of','the','to'] \n",
    "ignorechars = [\",\", \":\", \"'\", \"!\"]"
   ]
  },
  {
   "cell_type": "markdown",
   "metadata": {},
   "source": [
    "Le traitement des documents va inclure les étapes suivantes :\n",
    "* tokenisation sur les espaces\n",
    "* suppression de toute la ponctuation\n",
    "* suppression des tokens qui ne sont pas exclusivement constitués de lettres\n",
    "* suppression des stopwords avec la liste fournie ci-dessus\n",
    "* vectorisation\n",
    "* (optionnel) suppression des hapaxes\n",
    "* (optionnel) transformation TF.IDF (en utilisant la classe [TfidfTransformer](http://scikit-learn.org/stable/modules/generated/sklearn.feature_extraction.text.TfidfTransformer.html) de `sklearn`)\n",
    "\n",
    "A vous de vous inspirer du premier TP et d'implémenter :\n",
    "* une fonction `parse()` qui va prendre en argument un document, et renvoyer un dictionnaire `{mot: compte}` en ayant effectué les opérations de nettoyage nécessaires\n",
    "* une fonction `vectorize()` qui va prendre en argument une liste de dictionnaire `{mot: compte}` et renvoyer la matrice correspondante, ainsi que le nom des colonnes"
   ]
  },
  {
   "cell_type": "code",
   "execution_count": 99,
   "metadata": {},
   "outputs": [],
   "source": [
    "from collections import Counter\n",
    "%config Completer.use_jedi = False\n",
    "\n",
    "def parse(document):\n",
    "\n",
    "    # make lower case for all the texts\n",
    "    data = document.lower()\n",
    "\n",
    "    # ponctuation\n",
    "    # actually on ponctuation part, we need to consider more things like dot or question mark\n",
    "    # but on this example, there's no that case so we will ignore the details\n",
    "    for chars in ignorechars:\n",
    "        data = data.replace(chars,\"\")\n",
    "    \n",
    "    # tokenization\n",
    "    data_tokens = data.split()\n",
    "\n",
    "    # normalisation \n",
    "    # tokens non alphabétiques + stopwords\n",
    "    tokens_clean = [token for token in data_tokens if token.isalpha() and token not in stopwords]\n",
    "\n",
    "    return Counter(tokens_clean)"
   ]
  },
  {
   "cell_type": "code",
   "execution_count": 100,
   "metadata": {},
   "outputs": [],
   "source": [
    "from sklearn.feature_extraction import DictVectorizer"
   ]
  },
  {
   "cell_type": "code",
   "execution_count": 101,
   "metadata": {},
   "outputs": [],
   "source": [
    "# vectorization\n",
    "def vectorize(lists):\n",
    "    vectorizer = DictVectorizer()\n",
    "\n",
    "    return vectorizer.fit_transform(lists), vectorizer.get_feature_names()"
   ]
  },
  {
   "cell_type": "code",
   "execution_count": 102,
   "metadata": {},
   "outputs": [],
   "source": [
    "letter_lists = [parse(t) for t in titles]"
   ]
  },
  {
   "cell_type": "code",
   "execution_count": 103,
   "metadata": {},
   "outputs": [],
   "source": [
    "# result\n",
    "X, feature_names = vectorize(letter_lists)"
   ]
  },
  {
   "cell_type": "code",
   "execution_count": 104,
   "metadata": {},
   "outputs": [
    {
     "data": {
      "text/plain": [
       "(9, 42)"
      ]
     },
     "execution_count": 104,
     "metadata": {},
     "output_type": "execute_result"
    }
   ],
   "source": [
    "X.shape"
   ]
  },
  {
   "cell_type": "code",
   "execution_count": 105,
   "metadata": {},
   "outputs": [],
   "source": [
    "from sklearn.preprocessing import binarize\n",
    "\n",
    "# delete hapaxes (rare words)\n",
    "# axis = 0 means per word(column)\n",
    "# will filter the words mentioned at least more than one time\n",
    "# .A is for numpy ndarray\n",
    "# .ravel is for vectorizing\n",
    "column_filter = (binarize(X).sum(axis=0) > 1).A.ravel()\n",
    "\n",
    "X = X[:, column_filter]"
   ]
  },
  {
   "cell_type": "code",
   "execution_count": 106,
   "metadata": {},
   "outputs": [],
   "source": [
    "from sklearn.feature_extraction.text import TfidfTransformer\n",
    "\n",
    "# TF.IDF transformation\n",
    "X = TfidfTransformer().fit_transform(X)"
   ]
  },
  {
   "cell_type": "code",
   "execution_count": 107,
   "metadata": {},
   "outputs": [],
   "source": [
    "# filtered feature namesand matrix after delete hapaxes\n",
    "filtered_feature_names = [feature_name for index,feature_name in enumerate(feature_names) if column_filter[index]]"
   ]
  },
  {
   "cell_type": "markdown",
   "metadata": {},
   "source": [
    "Vous devriez avoir obtenu une matrice de dimensions (9 x 11).\n",
    "\n",
    "Nous allons utiliser dans un premier temps l'implémentation de `scipy` pour le calcul de la SVD.\n",
    "\n",
    "On récupère ainsi les trois matrice $U$, $\\Sigma$ et $V$ ($V$ étant sous sa forme transposée $V^\\top$) comme vu en cours.\n",
    "\n",
    "![](./SVD_decomposition.png)"
   ]
  },
  {
   "cell_type": "code",
   "execution_count": 108,
   "metadata": {},
   "outputs": [],
   "source": [
    "from scipy.linalg import svd\n",
    "\n",
    "# U x Σ x Vt = M\n",
    "U, Σ, Vt = svd(X.toarray())"
   ]
  },
  {
   "cell_type": "markdown",
   "metadata": {},
   "source": [
    "On peut interprêter U comme étant la matrice qui permet de projeter les documents et $V^\\top$ comme celle qui permet de projeter les mots.\n",
    "\n",
    "On va donc essayer de visualiser les titres et les mots du vocabulaire dans un espace 2 x 2 en utilisant uniquement deux dimensions.\n",
    "\n",
    "Comme vu en cours, la première dimension n'est pas très intéressante car elle encode la moyenne des documents, on va donc utiliser les deux suivantes (indices de 1 à 3)."
   ]
  },
  {
   "cell_type": "code",
   "execution_count": 109,
   "metadata": {},
   "outputs": [],
   "source": [
    "import matplotlib.pyplot as plt\n",
    "\n",
    "%matplotlib inline"
   ]
  },
  {
   "cell_type": "code",
   "execution_count": 110,
   "metadata": {},
   "outputs": [
    {
     "data": {
      "text/plain": [
       "Text(0.5, 1.0, \"Visualisation dans l'espace projeté\")"
      ]
     },
     "execution_count": 110,
     "metadata": {},
     "output_type": "execute_result"
    },
    {
     "data": {
      "image/png": "[encoded data removed]",
      "text/plain": [
       "<Figure size 864x576 with 1 Axes>"
      ]
     },
     "metadata": {
      "needs_background": "light"
     },
     "output_type": "display_data"
    }
   ],
   "source": [
    "fig, ax = plt.subplots()\n",
    "fig.set_size_inches(12, 8)\n",
    "\n",
    "# will use 2nd and 3rd columns of matrix U\n",
    "x_doc, y_doc = U[:,1:3].T\n",
    "ax.scatter(x_doc, y_doc, label=\"Titles\")\n",
    "\n",
    "for x_, y_, s in zip(x_doc, y_doc, [\"T%d\" % (i + 1) for i in range(len(x_doc))]):\n",
    "    # Ici, on gère un cas spécial pour que \"T7\" et \"estate\"ne se superposent pas avec un léger décalage vers le haut\n",
    "    if s == \"T7\":\n",
    "        ax.text(x_ + 0.01, y_ + 0.02, s, fontsize=15)\n",
    "    else:\n",
    "        ax.text(x_ + 0.01, y_, s, fontsize=14)\n",
    "\n",
    "x_term, y_term = Vt[1:3,]\n",
    "ax.scatter(x_term, y_term, label=\"Words\")\n",
    "for x_, y_, s in zip(x_term, y_term, filtered_feature_names):\n",
    "    if s == \"real\":\n",
    "        ax.text(x_ - 0.06, y_ - 0.02, s, fontsize=15)\n",
    "    elif s == \"estate\":\n",
    "        ax.text(x_ + 0.01, y_ - 0.01, s, fontsize=15)\n",
    "    else:\n",
    "        ax.text(x_ + 0.01, y_ - 0.02, s, fontsize=15)\n",
    "\n",
    "ax.grid()\n",
    "ax.set_xlim(right=0.4)\n",
    "ax.legend(fontsize=15, loc=2)\n",
    "ax.set_xlabel(\"Dimension 2\")\n",
    "ax.set_ylabel(\"Dimension 3\")\n",
    "ax.set_title(\"Visualisation dans l'espace projeté\")"
   ]
  },
  {
   "cell_type": "markdown",
   "metadata": {},
   "source": [
    "On retrouve à peu près le graphe vu en cours, à une symétrie centrale près, c'est-à-dire que nos axes verticaux et horizontaux sont inversés.\n",
    "\n",
    "C'est la conséquence de l'algorithme utilisé, qui peut renvoyer les résultats avec un signe différent selon un état interne d'initialisation."
   ]
  },
  {
   "cell_type": "markdown",
   "metadata": {},
   "source": [
    "La matrice $V$ (soit $(V^\\top)^\\top$) contient le codage des concepts, qu'on peut afficher comme suit :"
   ]
  },
  {
   "cell_type": "code",
   "execution_count": 111,
   "metadata": {},
   "outputs": [
    {
     "name": "stdout",
     "output_type": "stream",
     "text": [
      "- 0.61 * estate - 0.48 * dummies + 0.37 * book - 0.31 * stock + 0.23 * dads + ...\n"
     ]
    }
   ],
   "source": [
    "import numpy as np\n",
    "\n",
    "# Pour construire une telle expression, on procède par étapes :\n",
    "# 1. on va d'abord assembler les coefficients et les mots avec `zip` ; les coefficients pour le k-ième concept sont stockés dans la k-ième ligne de la matrice Vt (encore une fois, V est la matrice de passage mots -> espace projeté et Vt est sa transposée, cela a donc du sens)\n",
    "# 2. les coefficients les plus importants auront une plus grande valeur absolue, on va donc trier les paires (coeff, mot) avec `sorted` (voir la documentation [ici](https://docs.python.org/3.6/howto/sorting.html#sortinghowto) pour quelques exemples d'utilisation)\n",
    "# 3. on ne récupère que les cinq mots les plus importants\n",
    "# 4. on itère ensuite sur ces paires triées pour les transformer en chaîne de caractères incluant le signe du coefficient, sa valeur absolue et le mot\n",
    "# 5. on assemble la liste de chaînes de caractères obtenue avec un espace entre chaque et on affiche\n",
    "\n",
    "index_concept = 2\n",
    "print(\" \".join([\"%s %.2f * %s\" % (\"+\" if coeff >= 0 else \"-\", np.fabs(coeff), mot)\\\n",
    "                for coeff, mot in sorted(zip(Vt.T[index_concept], filtered_feature_names),\n",
    "                                         key=lambda x: np.fabs(x[0]),\n",
    "                                         reverse=True)[:5]]) + \" + ...\")"
   ]
  },
  {
   "cell_type": "markdown",
   "metadata": {},
   "source": [
    "Essayez d'afficher la formule d'autres concepts. Que dire de la facilité de compréhension de cette représentation ?"
   ]
  },
  {
   "cell_type": "code",
   "execution_count": 112,
   "metadata": {},
   "outputs": [
    {
     "data": {
      "text/plain": [
       "array([ 0.36607883,  0.2302428 , -0.48349996, -0.61173663,  0.16245458,\n",
       "       -0.13336232, -0.18184581, -0.02427016, -0.1749236 , -0.30735572,\n",
       "       -0.04561679])"
      ]
     },
     "execution_count": 112,
     "metadata": {},
     "output_type": "execute_result"
    }
   ],
   "source": [
    "# show the the coefficient matrix \n",
    "# as we can see, it's not easy to recongnize the important coefficient value and to match with token word\n",
    "Vt.T[index_concept]"
   ]
  },
  {
   "cell_type": "code",
   "execution_count": 113,
   "metadata": {},
   "outputs": [],
   "source": [
    "import pandas as pd\n",
    "\n",
    "# make a dataframe by using coefficient values and word\n",
    "tmp_df = pd.DataFrame(columns=['coeff', 'word','abs coeff'])\n",
    "for coeff, mot in sorted(zip(Vt.T[index_concept], filtered_feature_names)):\n",
    "    tmp_df = tmp_df.append({'coeff': coeff, 'word': mot, 'abs coeff':abs(coeff)}, ignore_index=True)"
   ]
  },
  {
   "cell_type": "code",
   "execution_count": 114,
   "metadata": {},
   "outputs": [
    {
     "data": {
      "text/html": [
       "<div>\n",
       "<style scoped>\n",
       "    .dataframe tbody tr th:only-of-type {\n",
       "        vertical-align: middle;\n",
       "    }\n",
       "\n",
       "    .dataframe tbody tr th {\n",
       "        vertical-align: top;\n",
       "    }\n",
       "\n",
       "    .dataframe thead th {\n",
       "        text-align: right;\n",
       "    }\n",
       "</style>\n",
       "<table border=\"1\" class=\"dataframe\">\n",
       "  <thead>\n",
       "    <tr style=\"text-align: right;\">\n",
       "      <th></th>\n",
       "      <th>coeff</th>\n",
       "      <th>word</th>\n",
       "      <th>abs coeff</th>\n",
       "    </tr>\n",
       "  </thead>\n",
       "  <tbody>\n",
       "    <tr>\n",
       "      <th>0</th>\n",
       "      <td>-0.611737</td>\n",
       "      <td>estate</td>\n",
       "      <td>0.611737</td>\n",
       "    </tr>\n",
       "    <tr>\n",
       "      <th>1</th>\n",
       "      <td>-0.483500</td>\n",
       "      <td>dummies</td>\n",
       "      <td>0.483500</td>\n",
       "    </tr>\n",
       "    <tr>\n",
       "      <th>10</th>\n",
       "      <td>0.366079</td>\n",
       "      <td>book</td>\n",
       "      <td>0.366079</td>\n",
       "    </tr>\n",
       "    <tr>\n",
       "      <th>2</th>\n",
       "      <td>-0.307356</td>\n",
       "      <td>stock</td>\n",
       "      <td>0.307356</td>\n",
       "    </tr>\n",
       "    <tr>\n",
       "      <th>9</th>\n",
       "      <td>0.230243</td>\n",
       "      <td>dads</td>\n",
       "      <td>0.230243</td>\n",
       "    </tr>\n",
       "    <tr>\n",
       "      <th>3</th>\n",
       "      <td>-0.181846</td>\n",
       "      <td>market</td>\n",
       "      <td>0.181846</td>\n",
       "    </tr>\n",
       "    <tr>\n",
       "      <th>4</th>\n",
       "      <td>-0.174924</td>\n",
       "      <td>rich</td>\n",
       "      <td>0.174924</td>\n",
       "    </tr>\n",
       "    <tr>\n",
       "      <th>8</th>\n",
       "      <td>0.162455</td>\n",
       "      <td>guide</td>\n",
       "      <td>0.162455</td>\n",
       "    </tr>\n",
       "    <tr>\n",
       "      <th>5</th>\n",
       "      <td>-0.133362</td>\n",
       "      <td>investing</td>\n",
       "      <td>0.133362</td>\n",
       "    </tr>\n",
       "    <tr>\n",
       "      <th>6</th>\n",
       "      <td>-0.045617</td>\n",
       "      <td>value</td>\n",
       "      <td>0.045617</td>\n",
       "    </tr>\n",
       "    <tr>\n",
       "      <th>7</th>\n",
       "      <td>-0.024270</td>\n",
       "      <td>real</td>\n",
       "      <td>0.024270</td>\n",
       "    </tr>\n",
       "  </tbody>\n",
       "</table>\n",
       "</div>"
      ],
      "text/plain": [
       "       coeff       word  abs coeff\n",
       "0  -0.611737     estate   0.611737\n",
       "1  -0.483500    dummies   0.483500\n",
       "10  0.366079       book   0.366079\n",
       "2  -0.307356      stock   0.307356\n",
       "9   0.230243       dads   0.230243\n",
       "3  -0.181846     market   0.181846\n",
       "4  -0.174924       rich   0.174924\n",
       "8   0.162455      guide   0.162455\n",
       "5  -0.133362  investing   0.133362\n",
       "6  -0.045617      value   0.045617\n",
       "7  -0.024270       real   0.024270"
      ]
     },
     "execution_count": 114,
     "metadata": {},
     "output_type": "execute_result"
    }
   ],
   "source": [
    "# in this way, it's way better to recongnize than matrix\n",
    "# however, to check at a glance, the first equation concept looks best\n",
    "tmp_df.sort_values(by='abs coeff',ascending=False)"
   ]
  },
  {
   "cell_type": "markdown",
   "metadata": {},
   "source": [
    "## Application avec le corpus AG news et scikit-learn\n",
    "\n",
    "Il s'agit d'un corpus d'articles de presse constitué dans le cadre académique par Antonio Gulli, de l'Université de Pise. Il contient plus d'un million d'articles provenant de 2000 sources (plus de détails [ici](http://www.di.unipi.it/~gulli/AG_corpus_of_news_articles.html)).\n",
    "\n",
    "Nous allons utiliser une version simplifiée d'un peu moins de 130 000 articles, répartis sur quatre classes, utilisée dans un article de [Zhang, Zhao & LeCun (2015)](https://arxiv.org/abs/1509.01626) pour une tâche de classification utilisant des réseaux de neurones convolutionnels.\n",
    "\n",
    "Il vous faudra donc télécharger les données sur [ce dépôt github](https://github.com/mhjabreel/CharCnn_Keras/tree/master/data/ag_news_csv) pour pouvoir regarder le contenu des fichiers avec `head` et compter le nombre d'exemples dans les ensembles d'apprentissage et de test."
   ]
  },
  {
   "cell_type": "code",
   "execution_count": 115,
   "metadata": {},
   "outputs": [
    {
     "name": "stdout",
     "output_type": "stream",
     "text": [
      "\"3\",\"Wall St. Bears Claw Back Into the Black (Reuters)\",\"Reuters - Short-sellers, Wall Street's dwindling\\band of ultra-cynics, are seeing green again.\"\r\n",
      "\"3\",\"Carlyle Looks Toward Commercial Aerospace (Reuters)\",\"Reuters - Private investment firm Carlyle Group,\\which has a reputation for making well-timed and occasionally\\controversial plays in the defense industry, has quietly placed\\its bets on another part of the market.\"\r\n",
      "\"3\",\"Oil and Economy Cloud Stocks' Outlook (Reuters)\",\"Reuters - Soaring crude prices plus worries\\about the economy and the outlook for earnings are expected to\\hang over the stock market next week during the depth of the\\summer doldrums.\"\r\n",
      "\"3\",\"Iraq Halts Oil Exports from Main Southern Pipeline (Reuters)\",\"Reuters - Authorities have halted oil export\\flows from the main pipeline in southern Iraq after\\intelligence showed a rebel militia could strike\\infrastructure, an oil official said on Saturday.\"\r\n",
      "\"3\",\"Oil prices soar to all-time record, posing new menace to US economy (AFP)\",\"AFP - Tearaway world oil prices, toppling records and straining wallets, present a new economic menace barely three months before the US presidential elections.\"\r\n",
      "\"3\",\"Stocks End Up, But Near Year Lows (Reuters)\",\"Reuters - Stocks ended slightly higher on Friday\\but stayed near lows for the year as oil prices surged past  #36;46\\a barrel, offsetting a positive outlook from computer maker\\Dell Inc. (DELL.O)\"\r\n",
      "\"3\",\"Money Funds Fell in Latest Week (AP)\",\"AP - Assets of the nation's retail money market mutual funds fell by  #36;1.17 billion in the latest week to  #36;849.98 trillion, the Investment Company Institute said Thursday.\"\r\n",
      "\"3\",\"Fed minutes show dissent over inflation (USATODAY.com)\",\"USATODAY.com - Retail sales bounced back a bit in July, and new claims for jobless benefits fell last week, the government said Thursday, indicating the economy is improving from a midsummer slump.\"\r\n",
      "\"3\",\"Safety Net (Forbes.com)\",\"Forbes.com - After earning a PH.D. in Sociology, Danny Bazil Riley started to work as the general manager at a commercial real estate firm at an annual base salary of  #36;70,000. Soon after, a financial planner stopped by his desk to drop off brochures about insurance benefits available through his employer. But, at 32, \"\"buying insurance was the furthest thing from my mind,\"\" says Riley.\"\r\n",
      "\"3\",\"Wall St. Bears Claw Back Into the Black\",\" NEW YORK (Reuters) - Short-sellers, Wall Street's dwindling  band of ultra-cynics, are seeing green again.\"\r\n"
     ]
    }
   ],
   "source": [
    "!head train.csv"
   ]
  },
  {
   "cell_type": "code",
   "execution_count": 116,
   "metadata": {},
   "outputs": [
    {
     "name": "stdout",
     "output_type": "stream",
     "text": [
      "\"3\",\"Fears for T N pension after talks\",\"Unions representing workers at Turner   Newall say they are 'disappointed' after talks with stricken parent firm Federal Mogul.\"\r\n",
      "\"4\",\"The Race is On: Second Private Team Sets Launch Date for Human Spaceflight (SPACE.com)\",\"SPACE.com - TORONTO, Canada -- A second\\team of rocketeers competing for the  #36;10 million Ansari X Prize, a contest for\\privately funded suborbital space flight, has officially announced the first\\launch date for its manned rocket.\"\r\n",
      "\"4\",\"Ky. Company Wins Grant to Study Peptides (AP)\",\"AP - A company founded by a chemistry researcher at the University of Louisville won a grant to develop a method of producing better peptides, which are short chains of amino acids, the building blocks of proteins.\"\r\n",
      "\"4\",\"Prediction Unit Helps Forecast Wildfires (AP)\",\"AP - It's barely dawn when Mike Fitzpatrick starts his shift with a blur of colorful maps, figures and endless charts, but already he knows what the day will bring. Lightning will strike in places he expects. Winds will pick up, moist places will dry and flames will roar.\"\r\n",
      "\"4\",\"Calif. Aims to Limit Farm-Related Smog (AP)\",\"AP - Southern California's smog-fighting agency went after emissions of the bovine variety Friday, adopting the nation's first rules to reduce air pollution from dairy cow manure.\"\r\n",
      "\"4\",\"Open Letter Against British Copyright Indoctrination in Schools\",\"The British Department for Education and Skills (DfES) recently launched a \"\"Music Manifesto\"\" campaign, with the ostensible intention of educating the next generation of British musicians. Unfortunately, they also teamed up with the music industry (EMI, and various artists) to make this popular. EMI has apparently negotiated their end well, so that children in our schools will now be indoctrinated about the illegality of downloading music.The ignorance and audacity of this got to me a little, so I wrote an open letter to the DfES about it. Unfortunately, it's pedantic, as I suppose you have to be when writing to goverment representatives. But I hope you find it useful, and perhaps feel inspired to do something similar, if or when the same thing has happened in your area.\"\r\n",
      "\"4\",\"Loosing the War on Terrorism\",\"\\\\\"\"Sven Jaschan, self-confessed author of the Netsky and Sasser viruses, is\\responsible for 70 percent of virus infections in 2004, according to a six-month\\virus roundup published Wednesday by antivirus company Sophos.\"\"\\\\\"\"The 18-year-old Jaschan was taken into custody in Germany in May by police who\\said he had admitted programming both the Netsky and Sasser worms, something\\experts at Microsoft confirmed. (A Microsoft antivirus reward program led to the\\teenager's arrest.) During the five months preceding Jaschan's capture, there\\were at least 25 variants of Netsky and one of the port-scanning network worm\\Sasser.\"\"\\\\\"\"Graham Cluley, senior technology consultant at Sophos, said it was staggeri ...\\\\\"\r\n",
      "\"4\",\"FOAFKey: FOAF, PGP, Key Distribution, and Bloom Filters\",\"\\\\FOAF/LOAF  and bloom filters have a lot of interesting properties for social\\network and whitelist distribution.\\\\I think we can go one level higher though and include GPG/OpenPGP key\\fingerpring distribution in the FOAF file for simple web-of-trust based key\\distribution.\\\\What if we used FOAF and included the PGP key fingerprint(s) for identities?\\This could mean a lot.  You include the PGP key fingerprints within the FOAF\\file of your direct friends and then include a bloom filter of the PGP key\\fingerprints of your entire whitelist (the source FOAF file would of course need\\to be encrypted ).\\\\Your whitelist would be populated from the social network as your client\\discovered new identit ...\\\\\"\r\n",
      "\"4\",\"E-mail scam targets police chief\",\"Wiltshire Police warns about \"\"phishing\"\" after its fraud squad chief was targeted.\"\r\n",
      "\"4\",\"Card fraud unit nets 36,000 cards\",\"In its first two years, the UK's dedicated card fraud unit, has recovered 36,000 stolen cards and 171 arrests - and estimates it saved 65m.\"\r\n"
     ]
    }
   ],
   "source": [
    "!head test.csv"
   ]
  },
  {
   "cell_type": "markdown",
   "metadata": {},
   "source": [
    "Les fichiers sont au format CSV avec trois colonnes correspondant à la classe, au titre et au contenu de l'article.\n",
    "\n",
    "On veut récupérer les données de la manière suivante :\n",
    "1. parser le fichier `test.csv` et extraire :\n",
    "  * dans une liste `documents` le contenu textuel concaténé de chaque article (titre + contenu)\n",
    "  * dans une liste `y` la classe de chaque article (encodé par un nombre)\n",
    "2. récupérer le label de chaque classe dans le fichier `classes.txt` et modifier `y` pour avoir une liste de labels\n",
    "3. vectoriser les documents dans une matrice `X`\n",
    "4. modifier `X` pour ne garder que les features qui apparaîssent au moins 3 fois dans le corpus"
   ]
  },
  {
   "cell_type": "markdown",
   "metadata": {},
   "source": [
    "### Parsing des fichiers"
   ]
  },
  {
   "cell_type": "code",
   "execution_count": 117,
   "metadata": {},
   "outputs": [
    {
     "data": {
      "text/html": [
       "<div>\n",
       "<style scoped>\n",
       "    .dataframe tbody tr th:only-of-type {\n",
       "        vertical-align: middle;\n",
       "    }\n",
       "\n",
       "    .dataframe tbody tr th {\n",
       "        vertical-align: top;\n",
       "    }\n",
       "\n",
       "    .dataframe thead th {\n",
       "        text-align: right;\n",
       "    }\n",
       "</style>\n",
       "<table border=\"1\" class=\"dataframe\">\n",
       "  <thead>\n",
       "    <tr style=\"text-align: right;\">\n",
       "      <th></th>\n",
       "      <th>label</th>\n",
       "      <th>title</th>\n",
       "      <th>content</th>\n",
       "    </tr>\n",
       "  </thead>\n",
       "  <tbody>\n",
       "    <tr>\n",
       "      <th>0</th>\n",
       "      <td>3</td>\n",
       "      <td>Wall St. Bears Claw Back Into the Black (Reuters)</td>\n",
       "      <td>Reuters - Short-sellers, Wall Street's dwindli...</td>\n",
       "    </tr>\n",
       "    <tr>\n",
       "      <th>1</th>\n",
       "      <td>3</td>\n",
       "      <td>Carlyle Looks Toward Commercial Aerospace (Reu...</td>\n",
       "      <td>Reuters - Private investment firm Carlyle Grou...</td>\n",
       "    </tr>\n",
       "    <tr>\n",
       "      <th>2</th>\n",
       "      <td>3</td>\n",
       "      <td>Oil and Economy Cloud Stocks' Outlook (Reuters)</td>\n",
       "      <td>Reuters - Soaring crude prices plus worries\\ab...</td>\n",
       "    </tr>\n",
       "    <tr>\n",
       "      <th>3</th>\n",
       "      <td>3</td>\n",
       "      <td>Iraq Halts Oil Exports from Main Southern Pipe...</td>\n",
       "      <td>Reuters - Authorities have halted oil export\\f...</td>\n",
       "    </tr>\n",
       "    <tr>\n",
       "      <th>4</th>\n",
       "      <td>3</td>\n",
       "      <td>Oil prices soar to all-time record, posing new...</td>\n",
       "      <td>AFP - Tearaway world oil prices, toppling reco...</td>\n",
       "    </tr>\n",
       "    <tr>\n",
       "      <th>...</th>\n",
       "      <td>...</td>\n",
       "      <td>...</td>\n",
       "      <td>...</td>\n",
       "    </tr>\n",
       "    <tr>\n",
       "      <th>119995</th>\n",
       "      <td>1</td>\n",
       "      <td>Pakistan's Musharraf Says Won't Quit as Army C...</td>\n",
       "      <td>KARACHI (Reuters) - Pakistani President Perve...</td>\n",
       "    </tr>\n",
       "    <tr>\n",
       "      <th>119996</th>\n",
       "      <td>2</td>\n",
       "      <td>Renteria signing a top-shelf deal</td>\n",
       "      <td>Red Sox general manager Theo Epstein acknowled...</td>\n",
       "    </tr>\n",
       "    <tr>\n",
       "      <th>119997</th>\n",
       "      <td>2</td>\n",
       "      <td>Saban not going to Dolphins yet</td>\n",
       "      <td>The Miami Dolphins will put their courtship of...</td>\n",
       "    </tr>\n",
       "    <tr>\n",
       "      <th>119998</th>\n",
       "      <td>2</td>\n",
       "      <td>Today's NFL games</td>\n",
       "      <td>PITTSBURGH at NY GIANTS Time: 1:30 p.m. Line: ...</td>\n",
       "    </tr>\n",
       "    <tr>\n",
       "      <th>119999</th>\n",
       "      <td>2</td>\n",
       "      <td>Nets get Carter from Raptors</td>\n",
       "      <td>INDIANAPOLIS -- All-Star Vince Carter was trad...</td>\n",
       "    </tr>\n",
       "  </tbody>\n",
       "</table>\n",
       "<p>120000 rows × 3 columns</p>\n",
       "</div>"
      ],
      "text/plain": [
       "        label                                              title  \\\n",
       "0           3  Wall St. Bears Claw Back Into the Black (Reuters)   \n",
       "1           3  Carlyle Looks Toward Commercial Aerospace (Reu...   \n",
       "2           3    Oil and Economy Cloud Stocks' Outlook (Reuters)   \n",
       "3           3  Iraq Halts Oil Exports from Main Southern Pipe...   \n",
       "4           3  Oil prices soar to all-time record, posing new...   \n",
       "...       ...                                                ...   \n",
       "119995      1  Pakistan's Musharraf Says Won't Quit as Army C...   \n",
       "119996      2                  Renteria signing a top-shelf deal   \n",
       "119997      2                    Saban not going to Dolphins yet   \n",
       "119998      2                                  Today's NFL games   \n",
       "119999      2                       Nets get Carter from Raptors   \n",
       "\n",
       "                                                  content  \n",
       "0       Reuters - Short-sellers, Wall Street's dwindli...  \n",
       "1       Reuters - Private investment firm Carlyle Grou...  \n",
       "2       Reuters - Soaring crude prices plus worries\\ab...  \n",
       "3       Reuters - Authorities have halted oil export\\f...  \n",
       "4       AFP - Tearaway world oil prices, toppling reco...  \n",
       "...                                                   ...  \n",
       "119995   KARACHI (Reuters) - Pakistani President Perve...  \n",
       "119996  Red Sox general manager Theo Epstein acknowled...  \n",
       "119997  The Miami Dolphins will put their courtship of...  \n",
       "119998  PITTSBURGH at NY GIANTS Time: 1:30 p.m. Line: ...  \n",
       "119999  INDIANAPOLIS -- All-Star Vince Carter was trad...  \n",
       "\n",
       "[120000 rows x 3 columns]"
      ]
     },
     "execution_count": 117,
     "metadata": {},
     "output_type": "execute_result"
    }
   ],
   "source": [
    "# make dataframe first\n",
    "train = pd.read_csv(\"train.csv\", names=[\"label\",\"title\",\"content\"]) \n",
    "train"
   ]
  },
  {
   "cell_type": "code",
   "execution_count": 118,
   "metadata": {},
   "outputs": [
    {
     "data": {
      "text/plain": [
       "['World', 'Sports', 'Business', 'Sci/Tech']"
      ]
     },
     "execution_count": 118,
     "metadata": {},
     "output_type": "execute_result"
    }
   ],
   "source": [
    "# get class names\n",
    "classes = open(\"classes.txt\", \"r\").read().split('\\n')\n",
    "classes = list(filter(lambda x: len(x)>0,classes))\n",
    "classes"
   ]
  },
  {
   "cell_type": "code",
   "execution_count": 119,
   "metadata": {},
   "outputs": [],
   "source": [
    "# change label from int to string (name of classes.txt)\n",
    "train[\"label\"] = train[\"label\"].apply(lambda x: classes[x-1])"
   ]
  },
  {
   "cell_type": "code",
   "execution_count": 120,
   "metadata": {},
   "outputs": [
    {
     "data": {
      "text/html": [
       "<div>\n",
       "<style scoped>\n",
       "    .dataframe tbody tr th:only-of-type {\n",
       "        vertical-align: middle;\n",
       "    }\n",
       "\n",
       "    .dataframe tbody tr th {\n",
       "        vertical-align: top;\n",
       "    }\n",
       "\n",
       "    .dataframe thead th {\n",
       "        text-align: right;\n",
       "    }\n",
       "</style>\n",
       "<table border=\"1\" class=\"dataframe\">\n",
       "  <thead>\n",
       "    <tr style=\"text-align: right;\">\n",
       "      <th></th>\n",
       "      <th>label</th>\n",
       "      <th>title</th>\n",
       "      <th>content</th>\n",
       "    </tr>\n",
       "  </thead>\n",
       "  <tbody>\n",
       "    <tr>\n",
       "      <th>0</th>\n",
       "      <td>Business</td>\n",
       "      <td>Wall St. Bears Claw Back Into the Black (Reuters)</td>\n",
       "      <td>Reuters - Short-sellers, Wall Street's dwindli...</td>\n",
       "    </tr>\n",
       "    <tr>\n",
       "      <th>1</th>\n",
       "      <td>Business</td>\n",
       "      <td>Carlyle Looks Toward Commercial Aerospace (Reu...</td>\n",
       "      <td>Reuters - Private investment firm Carlyle Grou...</td>\n",
       "    </tr>\n",
       "    <tr>\n",
       "      <th>2</th>\n",
       "      <td>Business</td>\n",
       "      <td>Oil and Economy Cloud Stocks' Outlook (Reuters)</td>\n",
       "      <td>Reuters - Soaring crude prices plus worries\\ab...</td>\n",
       "    </tr>\n",
       "    <tr>\n",
       "      <th>3</th>\n",
       "      <td>Business</td>\n",
       "      <td>Iraq Halts Oil Exports from Main Southern Pipe...</td>\n",
       "      <td>Reuters - Authorities have halted oil export\\f...</td>\n",
       "    </tr>\n",
       "    <tr>\n",
       "      <th>4</th>\n",
       "      <td>Business</td>\n",
       "      <td>Oil prices soar to all-time record, posing new...</td>\n",
       "      <td>AFP - Tearaway world oil prices, toppling reco...</td>\n",
       "    </tr>\n",
       "    <tr>\n",
       "      <th>...</th>\n",
       "      <td>...</td>\n",
       "      <td>...</td>\n",
       "      <td>...</td>\n",
       "    </tr>\n",
       "    <tr>\n",
       "      <th>119995</th>\n",
       "      <td>World</td>\n",
       "      <td>Pakistan's Musharraf Says Won't Quit as Army C...</td>\n",
       "      <td>KARACHI (Reuters) - Pakistani President Perve...</td>\n",
       "    </tr>\n",
       "    <tr>\n",
       "      <th>119996</th>\n",
       "      <td>Sports</td>\n",
       "      <td>Renteria signing a top-shelf deal</td>\n",
       "      <td>Red Sox general manager Theo Epstein acknowled...</td>\n",
       "    </tr>\n",
       "    <tr>\n",
       "      <th>119997</th>\n",
       "      <td>Sports</td>\n",
       "      <td>Saban not going to Dolphins yet</td>\n",
       "      <td>The Miami Dolphins will put their courtship of...</td>\n",
       "    </tr>\n",
       "    <tr>\n",
       "      <th>119998</th>\n",
       "      <td>Sports</td>\n",
       "      <td>Today's NFL games</td>\n",
       "      <td>PITTSBURGH at NY GIANTS Time: 1:30 p.m. Line: ...</td>\n",
       "    </tr>\n",
       "    <tr>\n",
       "      <th>119999</th>\n",
       "      <td>Sports</td>\n",
       "      <td>Nets get Carter from Raptors</td>\n",
       "      <td>INDIANAPOLIS -- All-Star Vince Carter was trad...</td>\n",
       "    </tr>\n",
       "  </tbody>\n",
       "</table>\n",
       "<p>120000 rows × 3 columns</p>\n",
       "</div>"
      ],
      "text/plain": [
       "           label                                              title  \\\n",
       "0       Business  Wall St. Bears Claw Back Into the Black (Reuters)   \n",
       "1       Business  Carlyle Looks Toward Commercial Aerospace (Reu...   \n",
       "2       Business    Oil and Economy Cloud Stocks' Outlook (Reuters)   \n",
       "3       Business  Iraq Halts Oil Exports from Main Southern Pipe...   \n",
       "4       Business  Oil prices soar to all-time record, posing new...   \n",
       "...          ...                                                ...   \n",
       "119995     World  Pakistan's Musharraf Says Won't Quit as Army C...   \n",
       "119996    Sports                  Renteria signing a top-shelf deal   \n",
       "119997    Sports                    Saban not going to Dolphins yet   \n",
       "119998    Sports                                  Today's NFL games   \n",
       "119999    Sports                       Nets get Carter from Raptors   \n",
       "\n",
       "                                                  content  \n",
       "0       Reuters - Short-sellers, Wall Street's dwindli...  \n",
       "1       Reuters - Private investment firm Carlyle Grou...  \n",
       "2       Reuters - Soaring crude prices plus worries\\ab...  \n",
       "3       Reuters - Authorities have halted oil export\\f...  \n",
       "4       AFP - Tearaway world oil prices, toppling reco...  \n",
       "...                                                   ...  \n",
       "119995   KARACHI (Reuters) - Pakistani President Perve...  \n",
       "119996  Red Sox general manager Theo Epstein acknowled...  \n",
       "119997  The Miami Dolphins will put their courtship of...  \n",
       "119998  PITTSBURGH at NY GIANTS Time: 1:30 p.m. Line: ...  \n",
       "119999  INDIANAPOLIS -- All-Star Vince Carter was trad...  \n",
       "\n",
       "[120000 rows x 3 columns]"
      ]
     },
     "execution_count": 120,
     "metadata": {},
     "output_type": "execute_result"
    }
   ],
   "source": [
    "train"
   ]
  },
  {
   "cell_type": "code",
   "execution_count": 121,
   "metadata": {},
   "outputs": [],
   "source": [
    "# to use the same way of example we did, data has to be changed to list format not dataframe\n",
    "\n",
    "# extract label values from train and will use a class\n",
    "y_train = train[\"label\"].tolist()\n",
    "\n",
    "# extract title and content values and will use the text for vectorization\n",
    "# combine them as a sentence\n",
    "train_data = (train[\"title\"]+\" \"+train[\"content\"]).tolist()"
   ]
  },
  {
   "cell_type": "code",
   "execution_count": 122,
   "metadata": {},
   "outputs": [
    {
     "data": {
      "text/plain": [
       "[\"Wall St. Bears Claw Back Into the Black (Reuters) Reuters - Short-sellers, Wall Street's dwindling\\\\band of ultra-cynics, are seeing green again.\",\n",
       " 'Carlyle Looks Toward Commercial Aerospace (Reuters) Reuters - Private investment firm Carlyle Group,\\\\which has a reputation for making well-timed and occasionally\\\\controversial plays in the defense industry, has quietly placed\\\\its bets on another part of the market.',\n",
       " \"Oil and Economy Cloud Stocks' Outlook (Reuters) Reuters - Soaring crude prices plus worries\\\\about the economy and the outlook for earnings are expected to\\\\hang over the stock market next week during the depth of the\\\\summer doldrums.\",\n",
       " 'Iraq Halts Oil Exports from Main Southern Pipeline (Reuters) Reuters - Authorities have halted oil export\\\\flows from the main pipeline in southern Iraq after\\\\intelligence showed a rebel militia could strike\\\\infrastructure, an oil official said on Saturday.',\n",
       " 'Oil prices soar to all-time record, posing new menace to US economy (AFP) AFP - Tearaway world oil prices, toppling records and straining wallets, present a new economic menace barely three months before the US presidential elections.',\n",
       " 'Stocks End Up, But Near Year Lows (Reuters) Reuters - Stocks ended slightly higher on Friday\\\\but stayed near lows for the year as oil prices surged past  #36;46\\\\a barrel, offsetting a positive outlook from computer maker\\\\Dell Inc. (DELL.O)',\n",
       " \"Money Funds Fell in Latest Week (AP) AP - Assets of the nation's retail money market mutual funds fell by  #36;1.17 billion in the latest week to  #36;849.98 trillion, the Investment Company Institute said Thursday.\",\n",
       " 'Fed minutes show dissent over inflation (USATODAY.com) USATODAY.com - Retail sales bounced back a bit in July, and new claims for jobless benefits fell last week, the government said Thursday, indicating the economy is improving from a midsummer slump.',\n",
       " 'Safety Net (Forbes.com) Forbes.com - After earning a PH.D. in Sociology, Danny Bazil Riley started to work as the general manager at a commercial real estate firm at an annual base salary of  #36;70,000. Soon after, a financial planner stopped by his desk to drop off brochures about insurance benefits available through his employer. But, at 32, \"buying insurance was the furthest thing from my mind,\" says Riley.',\n",
       " \"Wall St. Bears Claw Back Into the Black  NEW YORK (Reuters) - Short-sellers, Wall Street's dwindling  band of ultra-cynics, are seeing green again.\",\n",
       " \"Oil and Economy Cloud Stocks' Outlook  NEW YORK (Reuters) - Soaring crude prices plus worries  about the economy and the outlook for earnings are expected to  hang over the stock market next week during the depth of the  summer doldrums.\",\n",
       " \"No Need for OPEC to Pump More-Iran Gov  TEHRAN (Reuters) - OPEC can do nothing to douse scorching  oil prices when markets are already oversupplied by 2.8 million  barrels per day (bpd) of crude, Iran's OPEC governor said  Saturday, warning that prices could fall sharply.\",\n",
       " 'Non-OPEC Nations Should Up Output-Purnomo  JAKARTA (Reuters) - Non-OPEC oil exporters should consider  increasing output to cool record crude prices, OPEC President  Purnomo Yusgiantoro said on Sunday.',\n",
       " \"Google IPO Auction Off to Rocky Start  WASHINGTON/NEW YORK (Reuters) - The auction for Google  Inc.'s highly anticipated initial public offering got off to a  rocky start on Friday after the Web search company sidestepped  a bullet from U.S. securities regulators.\",\n",
       " \"Dollar Falls Broadly on Record Trade Gap  NEW YORK (Reuters) - The dollar tumbled broadly on Friday  after data showing a record U.S. trade deficit in June cast  fresh doubts on the economy's recovery and its ability to draw  foreign capital to fund the growing gap.\",\n",
       " \"Rescuing an Old Saver If you think you may need to help your elderly relatives with their finances, don't be shy about having the money talk -- soon.\",\n",
       " 'Kids Rule for Back-to-School The purchasing power of kids is a big part of why the back-to-school season has become such a huge marketing phenomenon.',\n",
       " \"In a Down Market, Head Toward Value Funds There is little cause for celebration in the stock market these days, but investors in value-focused mutual funds have reason to feel a bit smug -- if only because they've lost less than the folks who stuck with growth.\",\n",
       " 'US trade deficit swells in June The US trade deficit has exploded 19 to a record \\\\$55.8bn as oil costs drove imports higher, according to a latest figures.',\n",
       " \"Shell 'could be target for Total' Oil giant Shell could be bracing itself for a takeover attempt, possibly from French rival Total, a  press report claims.\",\n",
       " \"Google IPO faces Playboy slip-up The bidding gets underway for Google's public offering, despite last-minute worries over an interview with its bosses in Playboy magazine.\",\n",
       " 'Eurozone economy keeps growing Official figures show the 12-nation eurozone economy continues to grow, but there are warnings it may slow down later in the year.',\n",
       " 'Expansion slows in Japan Economic growth in Japan slows down as the country experiences a drop in domestic and corporate spending.',\n",
       " 'Rand falls on shock SA rate cut Interest rates are trimmed to 7.5 by the South African central bank,  but the lack of warning hits the rand and surprises markets.',\n",
       " 'Car prices down across the board The cost of buying both new and second hand cars fell sharply over the past five years, a new survey has found.',\n",
       " \"South Korea lowers interest rates South Korea's central bank cuts interest rates by a quarter percentage point to 3.5 in a bid to drive growth in the economy.\",\n",
       " 'Google auction begins on Friday An auction of shares in Google, the web search engine which could be floated for as much as \\\\$36bn, takes place on Friday.',\n",
       " 'HP shares tumble on profit news Hewlett-Packard shares fall after disappointing third-quarter profits, while the firm warns the final quarter will also fall short of expectations.',\n",
       " 'Mauritian textile firm cuts jobs One of the oldest textile operators on the Indian Ocean island of Mauritius last week shut seven factories and cut 900 jobs.',\n",
       " 'Chad seeks refugee aid from IMF Chad asks the IMF for a loan to pay for looking after more than 100,000 refugees from conflict-torn Darfur in western Sudan.',\n",
       " 'Japan nuclear firm shuts plants The company running the Japanese nuclear plant hit by a fatal accident is to close its reactors for safety checks.',\n",
       " 'Veteran inventor in market float Trevor Baylis, the veteran inventor famous for creating the Freeplay clockwork radio, is planning to float his company on the stock market.',\n",
       " 'Saudi Arabia to open up oil taps Saudi Arabia says it is ready to push an extra 1.3 million barrels a day of oil into the market, to help reverse surging prices.',\n",
       " \"Saudi phone sector gets \\\\$1bn lift A group led by the UAE's Etisalat plans to spend \\\\$1bn (544m) on expansion after winning two mobile phone licences in Saudi Arabia.\",\n",
       " 'Indians fill rail skills shortage Network Rail flies in specialist Indian engineers to work on the West Coast Mainline because of a UK skills shortage.',\n",
       " 'Steady as they go BEDFORD -- Scientists at NitroMed Inc. hope their experimental drugs will cure heart disease someday. But lately their focus has been on more mundane matters.',\n",
       " \"Google IPO: Type in 'confusing,' 'secrecy' I've submitted my bid to buy shares of Google Inc. in the computer search company's giant auction-style initial public offering. That could turn out to be the good news or the bad news.\",\n",
       " \"A bargain hunter's paradise Massachusetts bargain hunters showed up in droves and shopped hard on yesterday's sales tax holiday, buying everything from treadmills and snow blowers to candles and chandeliers, and crediting the 5-percent tax break with bringing them into the stores.\",\n",
       " \"Researchers seek to untangle the e-mail thread E-mail is a victim of its own success. That's the conclusion of IBM Corp. researchers in Cambridge, who have spent nearly a decade conducting field tests at IBM and other companies about how employees work and use electronic mail. It's clear to them that e-mail has become the Internet's killer application.\",\n",
       " 'Microsoft Corp. 2.0: a kinder corporate culture Even a genius can mess up. Bill Gates was a brilliant technologist when he cofounded Microsoft , but as he guided it to greatness in both size and historical consequence, he blundered. He terrorized underlings with his temper and parceled out praise like Scrooge gave to charity. Only the lash inspired the necessary aggressiveness to beat the competition, he thought.',\n",
       " \"Letters Target the abusers of legal weapons We can all share the outrage, expressed by columnist Steve Bailey (''Summer Sizzler, quot; Aug. 11), at the killings in the city's poor neighborhoods. But there's no need to share his ignorance. He argues for renewal of the so-called assault weapon ban, claiming that otherwise, ''UZIs and AK-47s could again be flooding the streets. quot; His ...\",\n",
       " \"Somewhere between gleam and gloom President Bush has been saying that the US economy has ''turned the corner. quot; Democratic presidential candidate Senator John F. Kerry, in the wake of this month's poor jobs report, quipped that it was more like a U-turn.\",\n",
       " 'Technology company sues five ex-employees  A Marlborough-based technology company is suing five former employees, including three senior managers, for allegedly conspiring against their employer while working on opening a competing business.',\n",
       " 'Grant to aid Lynn Central Square Central Square in Lynn should be looking a bit brighter. New sidewalks, curbs, fences, lights, landscaping, and road improvements are planned for the Gateway Artisan Block, a key area of the square, with \\\\$830,000 in state grant money given to Lynn last week.',\n",
       " 'State grant to aid Lynn; Bank gives Salem \\\\$10k Central Square in Lynn should be looking a bit brighter. New sidewalks, curbs, fences, lights, landscaping, and road improvements are planned for the Gateway Artisan Block, a key area of the square, with \\\\$830,000 in state grant money given to Lynn last week.',\n",
       " \"A New Legal Chapter for a 90's Flameout A lawsuit against Gary Winnick, the former chief of Global Crossing, refocuses attention on what Mr. Winnick knew about his company's finances as it imploded.\",\n",
       " 'Will Russia, the Oil Superpower, Flex Its Muscles? Russia is again emerging as a superpower - but the reason has less to do with nuclear weapons than with oil.',\n",
       " \"Switching Titles, if Not Gears, at Dell Kevin B. Rollins, the new chief executive of Dell, talks about Dell's transitory slip in customer service, and why he sees a broader technology recovery taking place.\",\n",
       " 'For Sale: The Ultimate Status Symbol With the country in need of cash and rich people dying to show off their wealth, Mr. Stein proposes a unique solution: having the government sell titles of nobility.',\n",
       " 'Quality Gets Swept Away Quality Distribution is hammered after reporting a large loss for the second quarter.',\n",
       " 'Making Your Insurer Pay If Hurricane Charley blows your house down, how can you make your insurance company pay?',\n",
       " \"Delightful Dell The company's results show that it's not grim all over tech world. Just all of it that isn't Dell.\",\n",
       " \"Chrysler's Bling King After a tough year, Detroit's troubled carmaker is back -- thanks to a maverick designer and a car that is dazzling the hip-hop crowd\",\n",
       " \"What's Cool In the Pool ... ... And Hot On the Deck Americans are spending more on tricking out the places where they swim. Here's a look at the new wave of accessories\",\n",
       " \"The Age of Doom In 1993 six geeks had a digital nightmare that changed the culture. It's about to get far creepier\",\n",
       " \"Hip Hop's Online Shop Celebrity fashion is booming. These webpreneurs are bringing it to main street\",\n",
       " 'Stoking the Steamroller No other recording artist can channel American middle-class tastes quite like Chip Davis and his best-selling band',\n",
       " 'Coming to The Rescue Got a unique problem? Not to worry: you can find a financial planner for every specialized need',\n",
       " \"The New Customers Are In Town Today's customers are increasingly demanding, in Asia as elsewhere in the world.  Henry Astorga describes the complex reality faced by today's marketers, which includes much higher expectations than we have been used to.  Today's customers want performance, and they want it now! \",\n",
       " \"Barrel of Monkeys, 2004 Edition: Notes on Philippine Elections Well, it's election time in the Republic of the Philippines, and that means the monkeys are rolling around in those political barrels, having as much fun as they can while laughing their heads off at the strange goings-on that characterize a democratic process loosely based on the American model  but that de facto looks more like a Fellini movie crossed with a Tom and Jerry cartoon - column includes a useful election-year glossary!\",\n",
       " 'Oldsmobile: The final parking lot Why General Motors dropped the Oldsmobile. The four brand  paradoxes GM had to face - the name, the product, image re-positioning, and the consumer - all added up to a brand that had little hope of rebranding.',\n",
       " \"Not All Jobs Belong To The White Man: Asian Minorities, Affirmative Action, And The Quest For Parity At Work Although a smattering of Chinese, Filipinos, Japanese, Indians, Thais, and others may crow about seeing their kind sitting in prominent positions in corporations and organizations in the USA, these accomplishments become mere cultural high-fives and ritualistic chest-thumping goaded and impishly patronized by 'mainstream society' - the milder and gentler term for the white-dominated populace.\",\n",
       " \"Downhome Pinoy Blues, Intersecting Life Paths, and Heartbreak Songs The Blues is alive and well in the Philippines, as evidenced by this appreciation of the Pinoy Blues band 'Lampano Alley', penned by columnist Clarence Henderson as a counterpoint to his usual economics, business, and culture fare.\",\n",
       " 'The Real Time Modern Manila Blues: Bill Monroe Meets Muddy Waters in the Orient Globalization does strange things to people. A day in the life of a Manila Philippines based business consultant - proving that you really CAN talk about Muddy Walters, bluegrass and work all on the same page...',\n",
       " \"Best Asian Tourism Destinations The new APMF survey of the best Asian tourism destinations has just kicked off, but it's crowded at the top, with Chiang Mai in Thailand just leading from perennial favourites Hong Kong, Bangkok and Phuket in Thailand, and Bali in  Indonesia. Be one of the first to vote and let us know your reasons.\",\n",
       " 'What are the best cities for business in Asia? One of our new categories in the APMF Sense of Place survey is for best Asian business city. After a couple of days, Singapore leads the pack, followed by Bangkok, Thailand and Hong Kong. Enter your vote and comments and make your views count. More new categories include best city for livability, and best tourism destinations.',\n",
       " 'IT alligator tales I grew up in New York, where giant alligators -- sometimes more ornately described as albino alligators -- were rumored to roam the citys sewer systems. According to legend, vacationers picked up the tiny crocodilians in Florida, brought them home to New York, and eventually flushed the little buggers when they grew too big for the local concrete jungle.',\n",
       " 'IT Myth 5: Most IT projects fail Do most IT projects fail? Some point to the number of giant consultancies such as IBM Global Services, Capgemini, and Sapient, who feed off bad experiences encountered by enterprises. Sapient is a company founded on the realization that IT projects are not successful, says Sapient CTO Ben Gaucherin.',\n",
       " \"BEA grabs CA exec to head product group BEA Systems Inc. has hired the Computer Associates International Inc. executive responsible for CA's Unicenter line of enterprise management software to head BEA's product development group.\",\n",
       " 'Autodesk tackles project collaboration Autodesk  this week unwrapped an updated version of its hosted project collaboration service targeted at the construction and manufacturing industries. Autodesk Buzzsaw lets multiple, dispersed project participants -- including building owners, developers, architects, construction teams, and facility managers -- share and manage data throughout the life of a project, according to Autodesk officials.',\n",
       " \"U.K.'s NHS taps Gartner to help plan \\\\$9B IT overhaul LONDON -- The U.K.'s National Health Service (NHS) has tapped IT researcher Gartner Inc. to provide market intelligence services as the health organization forges ahead with a mammoth, 5 billion (\\\\$9.2 billion) project to upgrade its information technology infrastructure.\",\n",
       " \"Play Boys: Google IPO a Go Anyway Even though Google's two founders gave an interview to Playboy magazine in the midst of its IPO filing, the SEC allowed the company's offering to go ahead. The boys filed the interview with the SEC and corrected mistakes in it.\",\n",
       " \"More Big Boobs in Playboy An interview with Google's co-founders due out in the current issue of Playboy may delay the company's IPO. Securities regulations restrict what executives can say while preparing to sell stock for the first time.\",\n",
       " \"Dutch Firm Beats Apple to Punch A music retailer from the Netherlands beats Apple by launching a download service in Europe's latest market battleground. Also: Movie industry wrests agreement from defunct company.... Microsoft challenges Photoshop   hellip;. and more.\",\n",
       " 'HP to Buy Synstar Hewlett-Packard will pay \\\\$297 million for the British company. Also: TiVo goes all out to attract customers   hellip;. Sprint offers service guarantees for business wireless subscribers   hellip;. and more.',\n",
       " 'A Personal Operator From Verizon Verizon plans to offer a service that would act as a virtual switchboard operator, letting customers stay in touch at all times. The program would send phone calls, voicemails and e-mails wherever customers designate. By Elisa Batista.',\n",
       " \"Paid Search Growth May Slow A new Internet advertising forecast shows a slowdown in paid search listings in the next five years. Will the projection affect Google's prospects when it goes public?\",\n",
       " 'Fark Sells Out. France Surrenders Blogs are the hottest thing on the Net, but are they messing with traditional publishing principles? One of the most popular, Fark.com, is allegedly selling links. Is it the wave of the future? By Daniel Terdiman.',\n",
       " '\\'Madden,\\' \\'ESPN\\' Football Score in Different Ways (Reuters) Reuters - Was absenteeism a little high\\\\on Tuesday among the guys at the office? EA Sports would like\\\\to think it was because \"Madden NFL 2005\" came out that day,\\\\and some fans of the football simulation are rabid enough to\\\\take a sick day to play it.',\n",
       " 'Group to Propose New High-Speed Wireless Format (Reuters) Reuters - A group of technology companies\\\\including Texas Instruments Inc. (TXN.N), STMicroelectronics\\\\(STM.PA) and Broadcom Corp. (BRCM.O), on Thursday said they\\\\will propose a new wireless networking standard up to 10 times\\\\the speed of the current generation.',\n",
       " 'AOL to Sell Cheap PCs to Minorities and Seniors (Reuters) Reuters - America Online on Thursday said it\\\\plans to sell a low-priced PC targeting low-income and minority\\\\households who agree to sign up for a year of dialup Internet\\\\service.',\n",
       " 'Companies Approve New High-Capacity Disc Format (Reuters) Reuters - A group of consumer electronics\\\\makers said on Wednesday they approved the format for a new\\\\generation of discs that can store five times the data of DVDs\\\\at the same cost -- enough to put a full season of \"The\\\\Sopranos\" on one disc.',\n",
       " 'Missing June Deals Slow to Return for Software Cos. (Reuters) Reuters - The mystery of what went wrong for the\\\\software industry in late June when sales stalled at more than\\\\20 brand-name companies is not even close to being solved\\\\although the third quarter is nearly halfway over.',\n",
       " \"Hacker Cracks Apple's Streaming Technology (AP) AP - The Norwegian hacker famed for developing DVD encryption-cracking software has apparently struck again  #151; this time breaking the locks on Apple Computer Inc.'s wireless music streaming technology.\",\n",
       " 'European Download Services Go Mobile (Reuters) Reuters - The ability to download complete\\\\tracks directly over cell-phone networks to mobile phones is\\\\becoming a reality in Europe.',\n",
       " 'Open Source Apps Developer SugarCRM Releases Sugar.Sales 1.1 (TechWeb) TechWeb - News - August 13, 2004',\n",
       " \"Oracle Sales Data Seen Being Released (Reuters) Reuters - Oracle Corp. sales documents\\\\detailing highly confidential information, such as which\\\\companies receive discounts on Oracle's business software\\\\products and the size of the discounts, are likely to be made\\\\public, a federal judge said on Friday.\",\n",
       " \"Sun's Looking Glass Provides 3D View (PC World) PC World - Developers get early code for new operating system 'skin' still being crafted.\",\n",
       " 'Apple to open second Japanese retail store this month (MacCentral) MacCentral - Apple Computer Inc. will open its second Japanese retail store later this month in the western Japanese city of Osaka, it said Thursday.',\n",
       " \"Charley's Force Took Experts by Surprise (AP) AP - Hurricane Charley's 145-mph force took forecasters by surprise and showed just how shaky a science it still is to predict a storm's intensity  #151; even with all the latest satellite and radar technology.\",\n",
       " \"Science, Politics Collide in Election Year (AP) AP - With more than 4,000 scientists, including 48 Nobel Prize winners, having signed a statement opposing the Bush administration's use of scientific advice, this election year is seeing a new development in the uneasy relationship between science and politics.\",\n",
       " 'Building Dedicated to Columbia Astronauts (AP) AP - A former dormitory converted to classrooms at the Pensacola Naval Air Station was dedicated Friday to two Columbia astronauts who were among the seven who died in the shuttle disaster Feb. 1, 2003.',\n",
       " 'Russian Cargo Craft Docks at Space Station (AP) AP - A Russian cargo ship docked with the international space station Saturday, bringing food, water, fuel and other items to the two-man Russian-American crew, a space official said.',\n",
       " \"Bangkok's Canals Losing to Urban Sprawl (AP) AP - Along the banks of the canal, women in rowboats grill fish and sell fresh bananas. Families eat on floating pavilions, rocked gently by waves from passing boats.\",\n",
       " 'T. Rex Had Teen Growth Spurt, Scientists Say (Reuters) Reuters - Tyrannosaurus Rex grew incredibly fast\\\\during a teenaged growth spurt that saw the dinosaur expand its\\\\bulk by six times, but the fearsome beasts \"lived fast and died\\\\young,\" researchers said on Wednesday.',\n",
       " 'Gene Blocker Turns Monkeys Into Workaholics - Study (Reuters) Reuters - Procrastinating monkeys were turned\\\\into workaholics using a gene treatment to block a key brain\\\\compound, U.S. researchers reported on Wednesday.',\n",
       " 'Dolphins Too Have Born Socialites (Reuters) Reuters - Some people are born to be the life and\\\\soul of the party -- and so it seems are some dolphins.',\n",
       " \"What's in a Name? Well, Matt Is Sexier Than Paul (Reuters) Reuters - As Shakespeare said, a rose by any other\\\\name would smell as sweet. Right?\",\n",
       " 'UK Scientists Allowed to Clone Human Embryos (Reuters) Reuters - British scientists said on Wednesday\\\\they had received permission to clone human embryos for medical\\\\research, in what they believe to be the first such license to\\\\be granted in Europe.',\n",
       " 'Russian Alien Spaceship Claims Raise Eyebrows, Skepticism (SPACE.com) SPACE.com - An expedition of Russian researchers claims to have found evidence that an \\\\  alien spaceship had something to do with a huge explosion over Siberia in 1908. \\\\  Experts in asteroids and comets have long said the massive blast was caused \\\\  by a space rock.',\n",
       " 'Comets, Asteroids and Planets around a Nearby Star (SPACE.com) SPACE.com - A nearby star thought to harbor comets and asteroids now appears to be home to planets, too. The presumed worlds are smaller than Jupiter and could be as tiny as Pluto, new observations suggest.',\n",
       " 'Perseid Meteor Shower Peaks Overnight (SPACE.com) SPACE.com - A fine display of shooting stars is underway and peaks overnight Wednesday into early Thursday morning. Astronomers expect the 2004 Perseid meteor shower to be one of the best versions of the annual event in several years.',\n",
       " 'Redesigning Rockets: NASA Space Propulsion Finds a New Home (SPACE.com) SPACE.com - While the exploration of the Moon and other planets in our solar system is nbsp;exciting, the first task for astronauts and robots alike is to actually nbsp;get to those destinations.',\n",
       " \"Studies Find Rats Can Get Hooked on Drugs (AP) AP - Rats can become drug addicts. That's important to know, scientists say, and has taken a long time to prove. Now two studies by French and British researchers show the animals exhibit the same compulsive drive for cocaine as people do once they're truly hooked.\",\n",
       " \"NASA Chief: 'Let's Go Save the Hubble' (SPACE.com) SPACE.com - Amid uncertainty over the fate of the Hubble Space Telescope and with a key instrument not working, NASA Administrator Sean O'Keefe gave the go-ahead Monday for planning a robotic servicing mission.\",\n",
       " 'Armadillo Aerospaces X Prize Prototype Crashes (SPACE.com) SPACE.com - Armadillo Aerospace of Mesquite, Texas has reported a \\\\crash last weekend of their prototype X Prize rocket.',\n",
       " \"Prairie Dog Won't Be on Endangered List (AP) AP - The black-tailed prairie dog has been dropped from a list of candidates for the federal endangered species list because scientists have concluded the rodents are no longer threatened.\",\n",
       " 'Hubble Trouble: One of Four Instruments Stops Working (SPACE.com) SPACE.com - One of the four astronomical instruments on the Hubble Space Telescope shut down earlier this week and engineers are trying to pin down the problem. The other three instruments continue to operate normally.',\n",
       " 'Invasive Purple Weed May Meet Its Match (AP) AP - They burned it, mowed it, sprayed it and flooded it. But nothing killed the purple loosestrife weed, which has become a regional plague, until officials at the Parker River National Wildlife Refuge set a European beetle loose on it.',\n",
       " \"New NASA Supercomputer to Aid Theorists and Shuttle Engineers (SPACE.com) SPACE.com - NASA researchers have teamed up with a pair of Silicon Valley firms to build \\\\  a supercomputer that ranks alongside the world's largest Linux-based systems.\",\n",
       " 'Ants Form Supercolony Spanning 60 Miles (AP) AP - Normally clannish and agressive Argentine ants have become so laid back since arriving in Australia decades ago that they no longer fight neighboring nests and have formed a supercolony here that spans 60 miles, scientists say.',\n",
       " \"Viewer's Guide: Perseid Meteor Shower Peaks Aug. 11-12 (SPACE.com) SPACE.com - Every August, when many \\\\  people are vacationing in the country where skies are dark, the best-known meteor \\\\  shower makes its appearance. The annual Perseid meteor shower, as it is called, \\\\  promised to put on an above average display this year.\",\n",
       " 'Rescuers Free Beached Whale in Brazil (AP) AP - Rescuers succeeded in freeing a minke whale that washed up on a beach in southeastern Brazil, the fire department said Thursday.',\n",
       " \"Red-Footed Falcon Sighted in Mass. (AP) AP - A red-footed falcon spotted for the first time in North America is enticing birdwatchers to Martha's Vineyard.\",\n",
       " 'Weak Version of Most Powerful Explosions Found (SPACE.com) SPACE.com - Gamma-ray bursts are the most powerful events in the universe, temporary outshining several galaxies and likely signaling the birth of a black hole.',\n",
       " 'Simultaneous Tropical Storms a Rarity (AP) AP - The prospect that a tropical storm and a hurricane  #151; or possibly two hurricanes  #151; could strike Florida on the same day is something meteorologists say they have never seen.',\n",
       " \"NASA's Genesis Spacecraft Adjusts Course (AP) AP - NASA's Genesis spacecraft successfully adjusted its course this week as it heads back toward Earth with a sample of solar wind particles, the space agency said Wednesday.\",\n",
       " \"Earth is Rare, New Study Suggests (SPACE.com) SPACE.com - Flip a coin. Heads, Earth is a common sort of planet. Tails, and ours is as unusual as a coin landing on edge. That's about the state of knowledge for scientists who ponder the question of our planet's rarity.\",\n",
       " 'Scientists Probe Pacific for Dead Zone (AP) AP - His hand on a toggle switch and his eyes on a computer screen, Oregon State University graduate student Anthony Kirincich uses an array of scientific instruments to probe the vibrant waters of the Pacific. He is searching for the absence of life.',\n",
       " 'Life on Mars Likely, Scientist Claims (SPACE.com) SPACE.com - DENVER, COLORADO -- Those twin robots hard at work on Mars have transmitted teasing views that reinforce the prospect that microbial life may exist on the red planet.',\n",
       " 'India Rethinks Plan to Send Man to Moon (AP) AP - India is rethinking its plan to send a man to the moon by 2015, as the mission would cost a lot of money and yield very little in return, the national space agency said Thursday.',\n",
       " 'Natural Sunblock: Sun Dims in Strange Ways (SPACE.com) SPACE.com - When Venus crossed the Sun June 8, showing up as a clear black dot to the delight of millions of skywatchers around the world, astronomers noted something less obvious: The amount of sunlight reaching Earth dipped by 0.1 percent for a few hours.',\n",
       " 'Website Lets Users Scout the Red Planet from Home (SPACE.com) SPACE.com - For those who want to explore Mars but cant wait for a spacecraft to take them there, NASA scientists have reformulated a website that lets the general public search data and images from previous missions.',\n",
       " 'Appeal Rejected in Trout Restoration Plan (AP) AP - The U.S. Forest Service on Wednesday rejected environmentalists\\' appeal of a plan to poison a stream south of Lake Tahoe to aid what wildlife officials call \"the rarest trout in America.\"',\n",
       " 'Explore the Many Colors of Stars (SPACE.com) SPACE.com - One of the pleasures of \\\\  stargazing is noticing and enjoying the various colors that stars display in \\\\  dark skies. These hues offer direct visual evidence of how stellar temperatures \\\\  vary.',\n",
       " 'Britain Grants Human Cloning License (AP) AP - Britain granted its first license for human cloning Wednesday, joining South Korea on the leading edge of stem cell research, which is restricted by the Bush administration and which many scientists believe may lead to new treatments for a range of diseases.',\n",
       " 'The Next Great Space Race: SpaceShipOne and Wild Fire to Go For the Gold (SPACE.com) SPACE.com - A piloted rocket ship race to claim a  #36;10 million Ansari X Prize purse for privately financed flight to the edge of space is heating up.',\n",
       " \"Growth, Mortality of T. Rex Gets Clearer (AP) AP - Here's a dinosaur finding that parents can appreciate: The teenage Tyrannosaurus rex typically went through an explosive growth spurt, gaining nearly 5 pounds a day.\",\n",
       " 'Space Science Pioneer Van Allen Questions Human Spaceflight (SPACE.com) SPACE.com - A leading space scientist has called to question the validity of human spaceflight, suggesting that sending astronauts outward from Earth is outdated, too costly, and the science returned is trivial.',\n",
       " 'China Begins Manned Space Flight Countdown (AP) AP - Chinese astronauts are in the final stages of preparing for a manned space mission that will orbit the globe 14 times before returning to Earth, a state-run newspaper reported Thursday.',\n",
       " 'Sunspot Grows to 20 Times Size of Earth (SPACE.com) SPACE.com - A sunspot group aimed squarely \\\\  at Earth has grown to 20 times the size of our planet and has the potential \\\\  to unleash a major solar storm.',\n",
       " \"Japanese Lunar Probe Facing Delays (AP) AP - A lunar orbiter that Japan had planned to launch this year could face further delays, possibly until next year or later, because of a funding shortfall and problems developing the probe's information-gathering capabilities, Japan's space agency said Wednesday.\",\n",
       " 'Pollutants From Asia Appear on East Coast (AP) AP - Scientists looking into air quality and climate change have found pollutants from as far as Asia over New England and the Atlantic.',\n",
       " \"Vietnam's Citadel Vulnerable to Weather (AP) AP - Experts from Europe and Asia surveyed 1,400-year-old relics of an ancient citadel in Hanoi Tuesday and said they were concerned the priceless antiquities were at risk from exposure to the elements.\",\n",
       " 'U.S. Barred From Weakening Dolphin Rules (AP) AP - In a victory for environmentalists, a federal judge ruled Tuesday that the Bush administration cannot change the standards commercial fisheries must meet before the tuna they catch can carry the \"dolphin-safe\" label.',\n",
       " 'Canadian Robot a Candidate to Save Hubble (AP) AP - NASA said Tuesday it is moving ahead with plans to send a robot to the rescue of the aging Hubble Space Telescope.',\n",
       " \"Cave Explorers Discover Pit in Croatia (AP) AP - Cave explorers discovered a pit inside a mountain range in central Croatia believed to have the world's deepest subterranean vertical drop, at nearly 1,700 feet, a scientific institute reported Monday.\",\n",
       " 'Aquarium Reviews Death of Dolphin (AP) AP - The chief scientist at the National Aquarium in Baltimore has launched a review of the dolphin breeding program after the death of a 4-month-old dolphin.',\n",
       " 'Scientists Seek Better Way to Measure Rain (AP) AP - Meteorologists at North Carolina State University are working on a way to more accurately measure rainfall in small areas.',\n",
       " \"Wash. State Team's Private Rocket Explodes (AP) AP - A team taking a low-budget stab at the  #36;10 million Ansari X Prize for private manned spaceflight suffered a setback Sunday, when their rocket malfunctioned and exploded after shooting less than 1,000 feet in the air.\",\n",
       " 'Nevada Ponders Superfund Status for Mine (AP) AP - Pressured by a ranking senator from Nevada and the Environmental Protection Agency, Gov. Kenny Guinn says he might reconsider his opposition to a federal Superfund cleanup declaration for a huge abandoned mine contaminated with toxic waste and uranium.',\n",
       " \"Indictments Using DNA on Rise Nationally (AP) AP - Authorities once had no choice but to drop rape cases if they weren't able to catch a suspect before the statute of limitations expired. But prosecutors across the country increasingly are buying themselves time, keeping cold cases alive by indicting unidentified rapists using their DNA profiles.\",\n",
       " 'Southeast Coast Sees Fewer Turtle Nests (AP) AP - About half the usual number of loggerhead turtles have nested between North Carolina and Florida this season, and scientists have no explanation for the drop.',\n",
       " \"Company Said to Be Ready to Clone Pets (AP) AP - A company that unveiled the world's first cloned cat nearly three years ago now says it is ready to start filling orders for cloned pets, a newspaper reported Thursday.\",\n",
       " 'Deep-Sea Vessel Puts Ocean Floor in Reach (AP) AP - A new deep-sea research vessel will be able to carry people to 99 percent of the ocean floor, diving deeper than the famed Alvin that pioneered the study of seafloor vents, plate tectonics and deep ocean creatures over the past 40 years.',\n",
       " 'Chorus Frog Found Croaking in Virginia (AP) AP - The Southern chorus frog has been found in southeastern Virginia, far outside its previously known range. The animal had never before been reported north of Beaufort County, N.C., about 125 miles to the south.',\n",
       " \"Expedition to Probe Gulf of Mexico (AP) AP - Scientists will use advanced technology never before deployed beneath the sea as they try to discover new creatures, behaviors and phenomena in a 10-day expedition to the Gulf of Mexico's deepest reaches.\",\n",
       " 'Feds Accused of Exaggerating Fire Impact (AP) AP - The Forest Service exaggerated the effect of wildfires on California spotted owls in justifying a planned increase in logging in the Sierra Nevada, according to a longtime agency expert who worked on the plan.',\n",
       " 'New Method May Predict Quakes Weeks Ahead (AP) AP - Swedish geologists may have found a way to predict earthquakes weeks before they happen by monitoring the amount of metals like zinc and copper in subsoil water near earthquake sites, scientists said Wednesday.',\n",
       " 'Marine Expedition Finds New Species (AP) AP - Norwegian scientists who explored the deep waters of the Atlantic Ocean said Thursday their findings  #151; including what appear to be new species of fish and squid  #151; could be used to protect marine ecosystems worldwide.',\n",
       " 'Annual Study Finds Rise in Beach Closures (AP) AP - The number of days that beaches closed or posted warnings because of pollution rose sharply in 2003 due to more rainfall, increased monitoring and tougher standards, an environmental group said on Thursday.',\n",
       " 'Pacific May Be Seeing New El Nino (AP) AP - Warming water temperatures in the central equatorial Pacific last month may indicate the start of a new El Nino.',\n",
       " \"Cassini Spacecraft Sees Saturn Lightning (AP) AP - The Cassini spacecraft's mission to Saturn has revealed a new radiation belt around the ringed planet and found that lightning in its atmosphere is occurring in different patterns than it did when NASA's Voyagers flew by in the early 1980s, scientists said.\",\n",
       " \"Poachers Putting Endangered Rhinos at Risk (AP) AP - Gangs of poachers in Congo have been slaughtering the world's minuscule population of northern white rhinos, reducing the population by about one-half in just more than a year, a key conservation organization said Friday.\",\n",
       " \"Experts Downplay Texas Shark Attacks (AP) AP - Three shark attacks off the Texas coast in the past two months are unusual but don't mean there are more sharks than normal along the beach or that they are getting bolder, marine biologists and other experts say.\",\n",
       " \"Study Says Birds Feed Other Birds' Young (AP) AP - It's a lesson many little humans could learn from baby birds: Sometimes, being nice to other youngsters pays off. Brown-headed cowbirds, like several other bird species, leave their eggs in the nests of other birds, who then feed and raise the cowbird chicks.\",\n",
       " 'Canadian Team Joins Rocket Launch Contest (AP) AP - The  #36;10 million competition to send a private manned rocket into space started looking more like a race Thursday, when a Canadian team announced plans to launch its rocket three days after an American group intends to begin qualifying for the Ansari X prize.',\n",
       " \"Universities to Build Largest Telescope (AP) AP - The University of Texas and Texas A amp;M University are planning to construct what they call the world's largest telescope with the help of a Houston businessman's  #36;1.25 million gift.\",\n",
       " 'Mauritanian Capital Battles Locust Swarm (AP) AP - Residents burned tires and trash in the streets Thursday trying to drive off swarms of locusts descending on the region in what a U.N. agency called the worst sub-Saharan invasion in more than a decade.',\n",
       " 'Customers of Telco Companies Face Privacy Breach A security advisory posted on Bugtraq demonstrates how hackers can compromise customers of T-mobile wireless and Verizon (landline) voicemail boxes. The advisory talks about the use of Caller-ID spoofing the customers number, allowing a bypass of the PIN code since the voicemail thinks that the customer is calling to check their own voicemail. According to Secure Science Corporation, there has been no response from the vendors. Comments have been posted that T-Mobile has optional PIN code protection off by default. Better turn it on. ',\n",
       " \"Mozilla To Add Support For XForms, World Yawns It's ironic that Microsoft could help further cement its dominance in the browser market by joining its largest rival in an effort to support web standards.  nbsp;At the same time, that act would go a long way towards improving the web in general for developers and users alike.\",\n",
       " \"Junk faxes to be legalized as  quot;opt-out? quot; The Register ran a story on August 6th called 'Phone spam misery looms stateside.' It seems that there's legislative nastiness underway in Washington, DC to essentially gut the existing junk fax law, and replace it with a marketer's wet dream.\",\n",
       " \"Biased Against Whom? Liberal bias versus right-wing conspiracy is a wonderful distraction. There is evidence enough on both sides. How can opposite claims be true? Confront a physicist with evidence supporting contradictory hypotheses and she will go looking for a more basic cause. Let's try that.\",\n",
       " \"The Visual World of Michel Gondry A month ago I was introduced to the works of Michel Gondry.  In short, I was amazed and tantalized by his short films and music videos.  Even if you haven't heard of him, you've probably seen his many works in Gap commercials, various music videos, and the recent movie Eternal Sunshine of the Spotless Mind.    Many of his works explode with visual elements that, when taken alone, are simple and mundane.  However, under his masterful guidance, these elements come together to form a highly mesmerizing visual experience.  He never ceases to push visual technologies and challenge our ideas about the visual medium.\",\n",
       " \"The Austral-Asian Strike Fighter The Australian Defence Force must defend and project across an air-sea gap. This requires long range autonomous strike weaponry. The Joint Strike Fighter does not solve this issue and detrimentally places added pressure on Australia's limited force of aerial refuelling assets. The world's defence manufacturers are not creating strike platforms that solve Australian needs. For this reason, Australia needs to look to other nations with similar defence needs. In this case, Japan, South Korea and Taiwan all face defending an air-sea gap. Australia should enter a partnership with these nations to create a strike fighter that satisfies the strategic needs of defending an air-sea gap. The benefits of such a partnership will be many.\",\n",
       " \"Insecurity: (Or Why Americans Aren't Feeling The Recovery) The New Republic's website is currently carrying an interesting piece which tries to explain the anomaly that although the US economy is growing, a lot of its citizens are still feeling worse off. The article explains the results of a 40 year panel study which has shown that although mean incomes have increased, income variability has increased massively, causing many Americans to feel less well off, despite the growing economy.      \",\n",
       " \"The Great K5 Limerick Contest Queue submissions being scarce, I suggest we all submit limericks for consideration.  Mod up your favorites.    I'm no poet, so I'll submit a favorite of my childhood:    There was a young woman named Bright,  Who traveled much faster than light    She set out one day  In a relative way    And returned on the previous night.    I'm afraid I don't remember the author.\",\n",
       " 'RuntimeProperties... Reflection from System Properties \\\\\\\\Java developers often load system properties to customize the runtime behavior\\\\of their applications.\\\\\\\\For example a develoepr could define a \\'max_connections\\' system property to\\\\define the maximum number of TCP connections that their application server can\\\\support.  While nice, this prevents all other applications from using this\\\\variable name.\\\\\\\\The first reaction to this would be to namespace your variable names.  Instead\\\\of using max_connections you would now use\\\\\\'my.application.Server.MAX_CONNECTIONS\\' as your property name.  This works of\\\\course but now you have to load this property on startup.\\\\\\\\public static int MAX_CONNECTIONS = Integer.parseInt( System.getProperty(\\\\\"my.application.Se ...\\\\\\\\',\n",
       " 'Thank You IBM! \\\\\\\\I just wanted to say thanks to IBM for Open Sourcing  Cloudscape .\\\\\\\\You guys really have your act together.  Keep up the good work!\\\\\\\\',\n",
       " \"LinuxWorld, IDs, and Privacy \\\\\\\\Today Jonathan Moore  and I headed over to LinuxWorld after lunch to see what\\\\kind of cool hardware and Linux hacks they had on the expo floor.\\\\\\\\Only \\\\$15 to get in the door so I figure why not.\\\\\\\\I'm a bit of a privacy freak.  When you're trading some security for liberty\\\\there are situations where it *might* be worth it.  In situations of extreme\\\\violence having the police by your side might be a good idea.  \\\\\\\\I think we can all agree that trading liberty for *nothing* isn't worth it.\\\\This country was *founded* on liberty after the British were abusing their\\\\colonial powers.  Every true American should cherish their liberty and think\\\\long and hard about just turning them over for no reason.\\\\ ...\\\\\\\\\",\n",
       " \"My Blog as a Time Machine \\\\\\\\I'm starting to realize that my blog is a bit of a time machine.  For example I\\\\can create a blog entry to warn myself about something that WILL happen in the\\\\future.  \\\\\\\\My current NTP  blog entry is a good example.  I wrote this for myself as\\\\much as for the people who read my blog (or find me via Google).\\\\\\\\I know for sure that NTP on Debian is going to bite me sometime in the future\\\\and I'm going to forget WHY.  Then I'm going to (of course) go to Google or my\\\\aggregator and search for NTP and then find my blog post.  \\\\\\\\I've done this about a dozen times now and its saved me a TON of time!\\\\\\\\\",\n",
       " \"NTP in Debian \\\\\\\\The Network Time Daemon (NTP  Daemon) implementation within Debian leaves a\\\\lot to be desired.\\\\\\\\First off they don't include it with a working config.  You have to create your\\\\own /etc/ntpd.conf.  To make matters worse the configuration doesn't accept DNS\\\\names so you have to manually enter IPs.  Fun.  I can understand that they might\\\\not want to provide ONE configuration and overwhelm one or two NTP servers but\\\\they can provide a dynamic config that balances load among all available\\\\servers.  There is of course the public serves list  but you have to Google\\\\for it.\\\\\\\\All you really need to do here is enter a list of servers:\\\\\\\\server time.nist.gov\\\\\\\\server 192.43.244.18\\\\\",\n",
       " 'Pretty Log4J \\\\\\\\I\\'ve been a big fan of Log4J  for a while now but haven\\'t migrated any code\\\\over for one central reason.  The following line of code:\\\\\\\\    final static Logger logger = Logger.getLogger( \"some.name\" );\\\\\\\\... is amazingly ugly and difficult to work with.\\\\\\\\Most people use Log4J with a logger based on the classname:\\\\\\\\So we would probably see:\\\\\\\\    static Logger logger = Logger.getLogger( \"org.apache.commons.feedparser.locate.FeedLocator\" );\\\\\\\\Which is amazingly verbose.  A lot of developers shorten this to:\\\\\\\\    static Logger logger = Logger.getLogger( FeedLocator.class );\\\\\\\\But this still leaves us with cut and paste errors.\\\\\\\\What if we could just reduce it to:\\\\\\\\    static Logger logger = Logger.g ...\\\\\\\\',\n",
       " 'Saudis: Bin Laden associate surrenders \\\\\\\\\"(CNN) -- A longtime associate of al Qaeda leader Osama bin Laden surrendered to\\\\Saudi Arabian officials Tuesday, a Saudi Interior Ministry official said.\"\\\\\\\\\"But it is unclear what role, if any, Khaled al-Harbi may have had in any terror\\\\attacks because no public charges have been filed against him.\"\\\\\\\\\"The Saudi government -- in a statement released by its embassy in Washington --\\\\called al-Harbi\\'s surrender \"the latest direct result\" of its limited, one-month\\\\offer of leniency to terror suspects.\"\\\\\\\\This is great!  I hope this really starts to pay off.  Creative solutions to\\\\terrorism that don\\'t involve violence.  \\\\\\\\How refreshing! \\\\\\\\Are you paying attention Bush administration?\\\\\\\\',\n",
       " \"Mozilla Exceptions (mexception) \\\\\\\\For some reason I never released this code.\\\\\\\\I developed it while working on NewsMonster and just forgot I think\\\\\\\\It's an extension for Mozilla that allows you to see all runtime exceptions\\\\(with full stack traces) that are unhandled by Mozilla. \\\\\\\\Just install it and if your code generates an unhandled exception it will show\\\\up in the logs and on the console.\\\\\\\\Very handy for doing any hardcore Mozilla development.\\\\\\\\\",\n",
       " 'Ron Regan Jr is My Kinda Guy \\\\\\\\\"Now that the country is awash in Reagan nostalgia, some observers are predicting\\\\that you will enter politics. Would you like to be president of the United\\\\States?\"\\\\\\\\\"I would be unelectable. I\\'m an atheist. As we all know, that is something\\\\people won\\'t accept.\"\\\\\\\\\"What would you do if Senator Kerry asked you to be his vice president?\"\\\\\\\\\"I would question his sanity.\"\\\\\\\\\"Do you ever go to church?\"\\\\\\\\\"No. I visit my wife\\'s sangha.\"\\\\\\\\\"So you sometimes practice Buddhism?\"\\\\\\\\\"I don\\'t claim anything. But my sympathies would be in that direction. I admire\\\\the fact that the central core of Buddhist teaching involves mindfulness and\\\\loving kindness and compassion.\"\\\\\\\\So lets get this straight.  He\\'s an a ...\\\\\\\\',\n",
       " 'Al Qaeda member surrenders \\\\\\\\\"RIYADH, Saudi Arabia (CNN) -- One of Saudi Arabia\\'s most wanted militants has\\\\turned himself into the authorities, the first senior suspect to surrender under\\\\a one-month government amnesty announced last week.\"\\\\\\\\\"Othman Al-Omari, number 19 on Saudi Arabia\\'s most wanted list of 26, accepted\\\\King Fahd\\'s offer of amnesty, which was made last week, according to Saudi\\\\sources Monday.\"\\\\\\\\\"Al-Omari, who turned himself in on Sunday night, was a business partner of\\\\Shaban Al Shihri -- the first al Qaeda member to accept the offer when he turned\\\\himself in Friday.\"\\\\\\\\When I first saw this I was really upset.  I thought that it would certainly\\\\lead to more violence if they just let terrorists off the ...\\\\\\\\',\n",
       " 'Mission Accomplished! \\\\\\\\\"BAGHDAD, Iraq (CNN) -- Members of Iraq\\'s interim government took an oath of\\\\office Monday just hours after the United States returned the nation\\'s\\\\sovereignty, two days ahead of schedule.\"\\\\\\\\\"Led by Iraq\\'s interim Prime Minister Ayad Allawi, each member of the new\\\\government placed a hand on the Koran and promised to serve with sincerity and\\\\impartiality. Iraqi flags lined the wall behind them.\"\\\\\\\\Iraq!  Now with 100 less Coalition Provisional Authority!  Act now and get a\\\\free Weapon of Mass Destruction (offer only available in Syria, Jordan, Saudi\\\\Arabia, Pakistan, Syria and Iran).\\\\\\\\Also check out our new Puppet Government!  Keeps the kids occupied for hours!\\\\\\\\',\n",
       " 'Java3D - Half Right \\\\\\\\SUN has announced that Java3D will be released in a different manner than any\\\\other SUN project in existence.\\\\\\\\\"We announce the availability of the source code for the Java 3D API on\\\\java.net.  We are involving developers in the evolution of the Java 3D API.\\\\Come join the Java 3D projects on java.net, and download the source code for\\\\the core Java 3D API, vecmath, the Java 3D core utilities, and the Java 3D\\\\program examples.\"\\\\\\\\The key thing here is that they have provided the core utils under a BSD license\\\\and even have the CVS available .\\\\\\\\Good job SUN!  You\\'re headed in the right direction!\\\\\\\\Here\\'s the only problem:\\\\\\\\\"We are releasing the source code for the j3d-core and vecmath projects u ...\\\\\\\\',\n",
       " \"Reverse Psychology \\\\\\\\I really hope SUN doesn't Open Source Java at JavaOne this year.  It would be a\\\\terrible decision and seriously hurt the tech industry.  Also, it would hurt SUN\\\\and I'm sure their responsible enough to realize this.\\\\\\\\(Lets hope that works!)\\\\\\\\\",\n",
       " 'Kerry\\'s Disgusting Ad \\\\\\\\A few days ago Kerry sent around this ad:\\\\\\\\\"Yesterday, the Bush-Cheney campaign, losing any last sense of decency, placed\\\\a disgusting ad called \"The Faces of John Kerry\\'s Democratic Party\" as the\\\\main feature on its website. Bizarrely, and without explanation, the ad places\\\\Adolf Hitler among those faces.\"\\\\\\\\\"The Bush-Cheney campaign must pull this ad off of its website. The use of\\\\Adolf Hitler by any campaign, politician or party is simply wrong.\"\\\\\\\\Which of course is a mistake.  I went and downloaded the video (which is just\\\\stupid btw.  Not a masterpiece by any means.) and there are shots of Hitler in\\\\there, but only from the MoveOn contest from a few months back.\\\\\\\\Here\\'s the problem.  The ...\\\\\\\\',\n",
       " 'What would Baby Jesus Think? \\\\\\\\\"On Tuesday, Cheney, serving in his role as president of the Senate, appeared in\\\\the chamber for a photo session. A chance meeting with Sen. Patrick J. Leahy\\\\(Vt.), the ranking Democrat on the Judiciary Committee, became an argument about\\\\Cheney\\'s ties to Halliburton Co., an international energy services corporation,\\\\and President Bush\\'s judicial nominees. The exchange ended when Cheney offered\\\\some crass advice.\\\\\\\\\\'Fuck yourself,\\' said the man who is a heartbeat from the presidency.\"\\\\\\\\Wonder what the moral majority has to say about this?\\\\\\\\It isn\\'t profanity!  Its a freedom praise!\\\\\\\\',\n",
       " 'Americans and Freedom \\\\\\\\\"When we Americans first began, our biggest danger was clearly in view: we knew\\\\from the bitter experience with King George III that the most serious threat to\\\\democracy is usually the accumulation of too much power in the hands of an\\\\Executive, whether he be a King or a president. Our ingrained American distrust\\\\of concentrated power has very little to do with the character or persona of the\\\\individual who wields that power. It is the power itself that must be\\\\constrained, checked, dispersed and carefully balanced, in order to ensure the\\\\survival of freedom. In addition, our founders taught us that public fear is the\\\\most dangerous enemy of democracy because under the right circumstances it ...\\\\\\\\',\n",
       " 'Why Windows isn\\'t Unix \\\\\\\\\"I first heard about this from one of the developers of the hit game SimCity, who\\\\told me that there was a critical bug in his application: it used memory right\\\\after freeing it, a major no-no that happened to work OK on DOS but would not\\\\work under Windows where memory that is freed is likely to be snatched up by\\\\another running application right away. The testers on the Windows team were\\\\going through various popular applications, testing them to make sure they\\\\worked OK, but SimCity kept crashing. They reported this to the Windows\\\\developers, who disassembled SimCity, stepped through it in a debugger, found\\\\the bug, and added special code that checked if SimCity was running, and if it\\\\did ...\\\\\\\\',\n",
       " 'Microsoft, IE and Bloat \\\\\\\\Zawodny  threads off of Scoble  on the IE issue:\\\\\\\\\"I have to say, when I first read that I nearly fell off my chair laughing. I was\\\\thinking \"how stupid ARE these IE guys?!?!?!\" But we all know that Microsoft is\\\\full of smart people who care about what they\\'re doing. So something really\\\\doesn\\'t compute here.\"\\\\\\\\\"Last time I checked, IE wasn\\'t even close to feature parity with Mozilla\\'s\\\\browsers. No popup blocking, no tabbed browsing, etc.\"\\\\\\\\\"Does the IE team really not know what their product is missing?\"\\\\\\\\Perhaps.  It\\'s highly likely that they just don\\'t know.\\\\\\\\The bigger issue here is that Microsoft products can\\'t fail and they can\\'t\\\\succeed.  Microsoft has 40-50 billion in the bank.  There ...\\\\\\\\',\n",
       " 'DRM is doubleplus good for business, Congress advised The Budget Office and the case of the disappearing public interest',\n",
       " \"HP: The Adaptive Enterprise that can't adapt &lt;strong&gt;Opinion&lt;/strong&gt; SAP hardly to blame\",\n",
       " \"Buffy the Censor Slayer &lt;strong&gt;Letters&lt;/strong&gt; Readers drive stake through parents' group\",\n",
       " 'Ashlee Vance: the readers have spoken &lt;strong&gt;Poll results&lt;/strong&gt; Bright news for resident &lt;em&gt;Reg&lt;/em&gt; ladyboy',\n",
       " '&lt;em&gt;El Reg&lt;/em&gt; pledges to name BSA antipiracy weasel &lt;strong&gt;Competition&lt;/strong&gt; Get those suggestions in',\n",
       " 'Wireless net to get speed boost Wireless computer networks could soon be running 10 times faster than they do now.',\n",
       " \"Watchdog rules over broadband  The UK's ad watchdog rules over which net connections can be described as full speed broadband.\",\n",
       " 'GameBoy mini-games win prize A set of GameBoy micro-games is named as the most innovative game of the year at a festival in Scotland.',\n",
       " 'Microsoft takes down SP2 sharers Microsoft is stopping people getting hold of a key security update via net-based file- sharing systems.',\n",
       " 'Long-awaited Doom 3 hits the UK Doom 3 goes on sale in the UK at a time of renewed concerns over violence in video games.',\n",
       " 'Britons embrace digital lifestyle People in the UK are spending more time and money going digital, says communications watchdog Ofcom.',\n",
       " 'PlayStation potential to learning The PlayStation games console could be developed into a learning tool for children, says a Northumberland head teacher.',\n",
       " \"'Invisible' technology for Olympics Getting the technology in place for Athens 2004 is an Olympic task in itself.\",\n",
       " 'Satellite boosts Olympic security An enhanced satellite location system aims to help Olympic security guards react more quickly to emergencies.',\n",
       " '3D holograms to crack forgeries A 3D hologram technique could transform how experts spot forged signatures and other handwritten documents.',\n",
       " \"Video games 'good for children' Computer games can promote problem-solving and team-building in children, say games industry experts.\",\n",
       " 'Fake goods tempting young adults Young people are increasingly happy to buy pirated goods or illegal download content from the net, a survey shows.',\n",
       " 'Catwoman far from perfect The Catwoman game is a major disappointment that feels like a pointless tie-in with the film.',\n",
       " '\\'Madden,\\' \\'ESPN\\' Football Score in Different Ways  PROVIDENCE, R.I. (Reuters) - Was absenteeism a little high  on Tuesday among the guys at the office? EA Sports would like  to think it was because \"Madden NFL 2005\" came out that day,  and some fans of the football simulation are rabid enough to  take a sick day to play it.',\n",
       " 'AOL to Sell Cheap PCs to Minorities and Seniors  NEW YORK (Reuters) - America Online on Thursday said it  plans to sell a low-priced PC targeting low-income and minority  households who agree to sign up for a year of dialup Internet  service.',\n",
       " 'Microsoft to Introduce Cheaper Version of Windows  SEATTLE (Reuters) - Microsoft Corp. &lt;MSFT.O&gt; said it will  begin selling a stripped-down, low-cost version of its Windows  XP operating system in the emerging markets of Indonesia,  Malaysia and Thailand in order to spread the use of computing  and develop technology markets.',\n",
       " 'Companies Approve New High-Capacity Disc Format  LOS ANGELES (Reuters) - A group of consumer electronics  makers said on Wednesday they approved the format for a new  generation of discs that can store five times the data of DVDs  at the same cost -- enough to put a full season of \"The  Sopranos\" on one disc.',\n",
       " 'Missing June Deals Slow to Return for Software Cos.  NEW YORK (Reuters) - The mystery of what went wrong for the  software industry in late June when sales stalled at more than  20 brand-name companies is not even close to being solved  although the third quarter is nearly halfway over.',\n",
       " 'Microsoft Upgrades Software for Digital Pictures  SEATTLE (Reuters) - Microsoft Corp. &lt;MSFT.O&gt; released on  Tuesday the latest version of its software for editing and  organizing digital photographs and images to tap into  widespread demand for digital cameras and photography.',\n",
       " 'Google to Pay Yahoo to Settle Patent Dispute  SEATTLE (Reuters) - Google Inc. &lt;GOOG.O&gt; on Monday again  boosted the number of shares it plans to sell in its initial  public offering, saying it will issue 2.7 million shares to  Yahoo Inc. &lt;YHOO.O&gt; to settle a lawsuit over technology used to  display ads.',\n",
       " 'A Digital Doctor Treats Computer Contamination Unfortunately for users, computer equipment manufacturers and resellers don\\'t adequately inform Windows users of the risks involved in accessing the Internet without proper security measures.&lt;br&gt;&lt;FONT face=\"verdana,MS Sans Serif,arial,helvetica\" size=\"-2\"\\\\ color=\"#666666\"&gt;&lt;B&gt;-The Washington Post&lt;/b&gt;&lt;/font&gt;',\n",
       " '\\'SP2\\' a Must With XP Use Service Pack 2, \"SP2\" for short, aims to stop viruses, worms, browser hijackings and worse by including security features that people have to add and adjust on their own. &lt;FONT face=\"verdana,MS Sans Serif,arial,helvetica\" size=\"-2\"\\\\ color=\"#666666\"&gt;&lt;B&gt;-Rob Pegoraro&lt;/b&gt;&lt;/font&gt;',\n",
       " 'Putting Your Own Stamp On All Your Parcels Fido the Stamp is here. Well, he could be -- all it takes is for one dog owner to snap a digital photo of his beloved pooch, submit it to the Stamps.com Web site and order personalized postage. &lt;FONT face=\"verdana,MS Sans Serif,arial,helvetica\" size=\"-2\"\\\\ color=\"#666666\"&gt;&lt;B&gt;-Leslie Walker&lt;/b&gt;&lt;/font&gt;',\n",
       " 'Internet Challenges Face-to-Face Mingling At Bungalow Billiards in Chantilly on Wednesday, about a dozen single parents from Northern Virginia gathered at happy hour to mingle, eat and drink. All were divorced or widowed members of the Fairfax chapter of Parents Without Partners.',\n",
       " \"Forecast: Plenty of Activity On the Weather Blog Front If it's possible to love something just because it could visit torrents upon the Washington region, fling hail from the skies and swell streams into rivers, then Jason Samenow is smitten.\",\n",
       " 'Google Starts Auction Company launched the biggest electronic auction of stock in Wall Street history Friday but warned that it could face legal liability from a Playboy magazine interview in which some aspects of the Internet search engine\\'s performance were overstated. &lt;FONT face=\"verdana,MS Sans Serif,arial,helvetica\" size=\"-2\"\\\\ color=\"#666666\"&gt;&lt;B&gt;-The Washington Post&lt;/b&gt;&lt;/font&gt;',\n",
       " 'Bids Placed Despite Mixed News Umesh Patel, a 36-year old software engineer from California, debated until the last minute.',\n",
       " \"Antitrust Lawyer Takes Helm at FTC As Deborah P. Majoras takes over the Federal Trade Commission on Monday, she's expected to build on the broad agenda set by her predecessor, Timothy J. Muris.\",\n",
       " \"GAO Calls Stryker Too Heavy for Transport The Army's new medium-weight armored vehicle, the Stryker, weighs so much that it curtails the range of C-130 military cargo aircraft that carry it and under certain conditions make it impossible for the planes to take off, a new report for Congress found.\",\n",
       " \"BioVeris Settles 2 Lawsuits Against Chief Executive's Son BioVeris Corp. announced yesterday that it settled two lawsuits against Jacob N. Wohlstadter, its chief executive's son, whom the company had accused of spending millions of dollars on cars and real estate to sabotage a joint venture he ran so he could purchase it for a bargain price.\",\n",
       " 'Google: Now Playboy\\'s Latest Bunny Investors in the company that\\'s trying to come off as cute as a bunny could find themselves holding a fistful of vipers if the founders of Google Inc. continue to do things like show up in Playboy magazine around the same time their company is going public. &lt;FONT face=\"verdana,MS Sans Serif,arial,helvetica\" size=\"-2\"\\\\ color=\"#666666\"&gt;&lt;B&gt;-washingtonpost.com&lt;/B&gt;&lt;/FONT&gt;',\n",
       " 'EBay Buys Stake in Craigslist Internet auctioneer eBay Inc. said Friday it acquired a 25 percent stake in craigslist, an online community of classified ads and forums. &lt;FONT face=\"verdana,MS Sans Serif,arial,helvetica\" size=\"-2\"\\\\ color=\"#666666\"&gt;&lt;B&gt;-Associated Press&lt;/B&gt;&lt;/FONT&gt;',\n",
       " 'Blog Interrupted The instant message blinked on the computer at Jessica Cutler\\'s desk in the Russell Senate Office Building. \"Oh my God, you\\'re famous.\"',\n",
       " \"Hungry world 'must eat less meat' People will need to eat more vegetables and less meat because of dwindling water supplies, scientists say.\",\n",
       " 'Hopes soar for solo record plane Richard Branson says the Virgin Global Flyer is looking good for its solo trip around the world without refuelling.',\n",
       " 'Arctic team reaches destination A team of British explorers, who are retracing the steps of a Victorian  pioneer, have reached Thom Bay.',\n",
       " \"Shuttle camera to watch fuel tank The space shuttle's external fuel tank, implicated in the 2003 Columbia disaster, is to get its own camera.\",\n",
       " \"Hubble peers at celestial bubble The Hubble Space Telescope has looked into a bubble of gas and dust being inflated by a young star's particles.\",\n",
       " 'Bacteria gives coral orange glow Orange coral common to the Caribbean has bacteria to thank for its hue, say US marine scientists.',\n",
       " 'Honey bees close museum  A Worcestershire museum is forced to close for several weeks while a swarm of honey bees is removed.',\n",
       " 'Clouds dash Perseids show The annual Perseid meteor shower could provide a \"spectacular\" show, despite a disappointing start.',\n",
       " \"Worms may slow Parkinson's A protein which helps increase lifespan in worms offers hope for new Parkinson's and Alzheimer's treatments.\",\n",
       " 'Nasa help for stem cell study UK tissue engineering experts are teaming up with NASA to find treatments for diseases back on Earth.',\n",
       " 'TB test to slash infection rates A rapid and accurate test for TB could cut infection rates around the world, say experts.',\n",
       " 'Scientists given cloning go-ahead The first request by British scientists to clone human embryos has been granted by experts.',\n",
       " 'Vandals damage bird reserve A disturbance free zone for nesting birds is put at risk by vandals who cut down the boundary fence.',\n",
       " \"Heat waves set to become 'brutal' Heat waves in the 21st Century will be more intense, more frequent and longer, US experts say.\",\n",
       " \"Monkeys test 'hardworking gene' Scientists in the United States find a way to turn lazy monkeys into workaholics using gene therapy.\",\n",
       " 'Hearing clue to whale evolution The evolution of whales from four-legged land dwellers into streamlined swimmers has been traced in fossilised ears, Nature reports.',\n",
       " 'News: NASA Extends TRMM Operations Through 2004 Hurricane Season NASA will extend operation of the Tropical Rainfall\\\\Measuring Mission (TRMM) through the end of 2004, in light of a\\\\recent request from the National Oceanic and Atmospheric\\\\Administration (NOAA).',\n",
       " \"News: Climate Change Could Doom Alaska's Tundra In the next 100 years, Alaska will experience a massive loss of its historic tundra, as global warming allows these vast regions of cold, dry, lands to support forests and other vegetation that will dramatically alter native ecosystems. (Oregon State University press release)\",\n",
       " 'News: How Strongly Does the Sun Influence the Climate? Researchers have shown that the Sun can be responsible for, at most, only a small part of the warming over the last 20-30 years. (Max Planck Society press release)',\n",
       " \"News: New England Forests at Greater Risk from Air Pollution When it comes to forests, air pollution is not an equal opportunity hazard. While dirty air spreads across large areas of the New England region, it's more scattered in the southeastern part of the United States. (University of Wisconsin-Madison press release)\",\n",
       " \"News: Warmer Weather, Human Disturbances Interact to Change Forests While a rapidly changing climate may alter the composition of northern Wisconsin's forests, disturbances such as logging also will play a critical role in how these sylvan ecosystems change over time. (University of Wisconsin-Madison press release)\",\n",
       " \"News: Duke Study Disputes Idea that Trees Can 'Relocate' Quickly in Response to Climate Change In a study with implications for how North American trees might respond to a changing climate, molecular information collected by Duke University researchers refutes a widely accepted theory that many of the continent's tree species migrated rapidly from the deep South as glaciers retreated at the end of the last Ice Age. (Duke University press release)\",\n",
       " 'News: Droughts Like 1930s Dust Bowl May Have Been Unexceptional in Prehistoric Times, New Study Suggests Events like the great Dust Bowl of the 1930s, immortalized in \"The Grapes of Wrath\" and remembered as a transforming event for millions of Americans, were regular parts of much-earlier cycles of droughts followed by recoveries in the region, according to new studies by a multi-institutional research team led by Duke University. (Duke University press release)',\n",
       " \"News: New Study to Investigate Demise of Coral Reef Ecosystems Scientists are embarking on a project which will explore how global warming is devastating one of the world's most diverse ecosystems, coral reefs. (University of Newcastle press release)\",\n",
       " \"Natural Hazards: Typhoon Rananim The MODIS instrument aboard NASA's Terra satellite captured this true-color image of Typhoon Rananim on August 12 at 2:40 UTC.\",\n",
       " 'Horseflies and Meteors Like bugs streaking colorfully down the side window of a moving car, Earthgrazing Perseid meteors could put on a pleasing show after sunset on August 11th.',\n",
       " 'Spinning Brains One day, astronauts could zip across the solar system in spinning spaceships.  How will their brains adapt to life onboard a twirling home where strange  quot;Coriolis forces quot; rule?',\n",
       " 'What Neil   Buzz Left on the Moon A cutting-edge Apollo 11 science experiment left behind in the Sea of Tranquility is still running today.',\n",
       " \"Voyager 1, Prepare for Action At the outer limits of our solar system, a solar shock wave is about to overtake NASA's Voyager 1 spacecraft.\",\n",
       " \"Saturn Hailstorm When Cassini reached Saturn On June 30th, it dashed through a gap in Saturn's rings, twice. One of onboard science instruments recorded a flurry of ring-dust harmlessly striking the spacecraft.\\\\\\\\\",\n",
       " 'Dino-Size Spurt: T. Rex Teens Gained 5 Pounds a Day New analysis of fossil bones indicates that adolescent &lt;i&gt;Tyrannosaurus rex&lt;/i&gt; dinosaurs grew extremely rapidly, quickly reaching gigantic size.',\n",
       " 'Fossils Show How Whales Evolved to Hear Underwater Whale fossils found with tiny ear bones reveal for the first time how the ancestors of whales and dolphins developed their acute underwater hearing.',\n",
       " 'Real \"Danny Deckchairs\" Soar With Just a Seat and Some Balloons In the new movie &lt;i&gt;Danny Deckchair,&lt;/i&gt; a truck driver ties party balloons to a chair and flies away. It\\'s called cluster ballooning, and believe it or not, it\\'s a real sport.',\n",
       " '\"Unusually Good\" Meteor Shower Expected Tonight Tonight\\'s annual Perseid meteor shower is likely to be a spectacular show of shooting stars zipping across the night sky, according to astronomers.',\n",
       " '\"Monster\" Waves Suprisingly Common, Satellites Show Rogue waves #151;eight or more stories or higher #151;are freaks of the ocean once thought to be tall tales told by sailors. But now scientists have satellite evidence that the massive upwellings are not only real but also fairly common.',\n",
       " 'Ancient Olympians Followed \"Atkins\" Diet, Scholar Says What did the first Olympians eat? Food historians are scouring ancient texts to find out.',\n",
       " \"U.S. Warrior Arms Africans to Hunt Sudanese Poachers Armed poachers from Sudan have been raiding and destroying neighboring Central African Republic's wildlife resources for years. Now, with the help of a militant U.S. conservationist, the CAR populace is arming and training itself to fight back.\",\n",
       " 'Ancient Olympics Mixed Naked Sports, Pagan Partying Nude athletes, performance-enhancing lizard meat, and animal sacrifices are just a few of the things that separate the ancient Olympics from the modern games, says the author of &lt;i&gt;The Naked Olympics.&lt;/i&gt;',\n",
       " \"Travel Column: Offsetting Air Travel's Greenhouse Impact Global warming is threatening travel destinations worldwide. What's more, travelers themselves are contributing to it. Find out what you can do about it.\",\n",
       " 'Magma Surge Moves Nevada Mountain, Study Says Why did a Lake Tahoe-area peak move dramatically late last year? A new report says magma deep below surged upward, forcing the mountain to rise.',\n",
       " \"266 Chimps From Lab Adopted by Florida Refuge With an influx of chimps previously used as laboratory animals, Florida's Center for Captive Chimpanzee Care is transforming into the largest chimp sanctuary in the world #151;almost overnight.\",\n",
       " 'Locusts Inspire Technology That May Prevent Car Crashes Locusts are commonly associated with plagues, food shortages, and death. But they are also inspiring what may be the next wave in lifesaving collision-avoidance systems.',\n",
       " 'Progress Supply Ship Docks with Space Station NASA -- An unpiloted Russian cargo ship linked up the International Space Station this morning to deliver almost three tons of food, fuel, oxygen, water and supplies to the residents onboard.     The ISS Progress 15 craft automatically docked to the aft port of the Zvezda Service Module at 12:01 a.m...',\n",
       " 'Building Dedicated to Space Shuttle Columbia Astronauts By BILL KACZOR    PENSACOLA, Fla. (AP) -- A former dormitory converted to classrooms at the Pensacola Naval Air Station was dedicated Friday to two Columbia astronauts who were among the seven who died in the shuttle disaster Feb...',\n",
       " 'Undersea Habitat Becomes Experimental Space Hospital NASA -- The days of doctors making house calls may seem like ancient history for most patients in North America, but in October, three astronauts and a Canadian doctor will test the latest concepts in long-distance house calls using a unique underwater laboratory.     The ability to conduct long-distance health care such as telemonitoring and telerobotic surgery could be key to maintaining the wellness of future spacefarers and responding to medical emergencies on the International Space Station, the moon or Mars...',\n",
       " 'How Mars Fooled the World The famous Orson Welles\\' radio broadcast of \"The War of the Worlds\" is about to hit the big screen, as film moguls Spielberg and Cruise bring the H.G. Wells\\' classic back into the popular imagination. Are we so clever today not be duped?',\n",
       " 'Chandra Catches Early Phase of Cosmic Assembly Chandra X-Ray Observatory -- A NASA Chandra X-ray Observatory image has revealed a complex of several intergalactic hot gas clouds in the process of merging.     The superb Chandra spatial resolution made it possible to distinguish individual galaxies from the massive clouds of hot gas...',\n",
       " \"Hubble Peers Inside a Celestial Geode Hubble Space Telescope -- In this unusual image, NASA's Hubble Space Telescope captures a rare view of the celestial equivalent of a geode  a gas cavity carved by the stellar wind and intense ultraviolet radiation from a hot young star.    Real geodes are baseball-sized, hollow rocks that start out as bubbles in volcanic or sedimentary rock...\",\n",
       " \"Saturn's Moon Titan: Prebiotic Laboratory by Harry Bortman    In this second and final part of the interview, Lunine explains how Huygens may help scientists understand the origin of life on Earth, even if it doesn't detect life on Titan.    Astrobiology Magazine -- Titan is the only moon in our solar system with an atmosphere, and it is the organic chemistry that has been detected in that atmosphere that has sparked the imagination of planetary scientists like Lunine...\",\n",
       " 'Sharpest Image Ever Obtained of a Circumstellar Disk Reveals Signs of Young Planets MAUNA KEA, Hawaii -- The sharpest image ever taken of a dust disk around another star has revealed structures in the disk which are signs of unseen planets.     Dr...',\n",
       " \"Chandra Celebrates Five Years of Scientific Breakthroughs Marshall Space Flight Center -- On August 12, 1999, NASA's Chandra X-ray Observatory opened its sunshade doors for the first time, allowing celestial X-ray light to reach the observatory's mirrors. This one small step for the observatory proved to be a giant leap for science as Chandra began its mission to shed new light on a violent, mysterious universe invisible to the human eye...\",\n",
       " 'Some Globular Clusters May Be Leftovers From Snacking Galaxies Globular star clusters are like spherical cathedrals of light -- collections of millions of stars lumped into a space only a few dozen light-years across. If the Earth resided within a globular cluster, our night sky would be alight with thousands of stars more brilliant than Sirius.',\n",
       " 'India Rethinks Plan for Manned Moon Mission By S. SRINIVASAN    BANGALORE, India (AP) -- India is rethinking its plan to send a man to the moon by 2015, as the mission would cost a lot of money and yield very little in return, the national space agency said Thursday...',\n",
       " 'Cluster Finds Giant Gas Vortices at the Edge of Earths Magnetic Bubble European Space Agency -- ESAs quartet of space-weather watchers, Cluster, has discovered vortices of ejected solar material high above the Earth.     The superheated gases trapped in these structures are probably tunnelling their way into the Earths magnetic bubble, the magnetosphere...',\n",
       " \"Saturn's Moon Titan: Planet Wannabe by Henry Bortman     Jonathan Lunine, professor of planetary science and physics at the University of Arizona's Lunar and Planetary Laboratory in Tucson, Arizona, has long been fascinated by Saturn's largest moon, Titan. In this first part of the interview, Lunine explains what scientists hope to learn from Huygens...\",\n",
       " \"Knocking on Heaven's Door The Milky Way is a vast, diverse neighborhood. If you're hoping to find Earthlike planets that may harbor life, you'll need to narrow the search. Stars are a good place to start, because the dusty discs around stars spawn young planets.\",\n",
       " 'China Begins Countdown for Next Manned Space Flight By ELAINE KURTENBACH    SHANGHAI, China (AP) -- Chinese astronauts are in the final stages of preparing for a manned space mission that will orbit the globe 14 times before returning to Earth, a state-run newspaper reported Thursday.    The launch, expected sometime this month, will initially send a manned craft, the Shenzhou 5, into an oval orbit that at its closest will be 125 miles from Earth, the Liberation Daily reported, citing \"relevant channels.\"    After circling the earth several times, the ship will enter an orbit at about 220 miles from earth, the report said...',\n",
       " \"Trajectory Maneuver Brings Genesis Spacecraft Closer to Home Jet Propulsion Lab -- Thirty days before its historic return to Earth with NASA's first samples from space since the Apollo missions, the Genesis spacecraft successfully completed its twentieth trajectory maneuver.     At 12:00 Universal Time (5:00 a.m...\",\n",
       " \"Japanese Lunar Probe Mission Facing Delays TOKYO (AP) -- A lunar orbiter that Japan had planned to launch this year could face further delays, possibly until next year or later, because of a funding shortfall and problems developing the probe's information-gathering capabilities, Japan's space agency said Wednesday.    The Japan Aerospace Exploration Agency, or JAXA, released a report to a government-run commission explaining expected delays to the launch of the \\\\$135 million Lunar-A probe...\",\n",
       " 'Progress Cargo Ship for ISS Launched From Russia MOSCOW (AP) -- A Russian cargo ship loaded with supplies and equipment blasted off from the Baikonour cosmodrome in Kazakhstan on Wednesday headed for the international space station, a Russian space official said.    The Progress M-50 ship took off at 1:03 a.m...',\n",
       " 'The Annual Perseid Meteor Shower The annual Perseid meteor shower is coming, and forecasters say it could be unusually good. Like bugs streaking down the side window of a moving car, colorful Perseid Earthgrazers could put on a pleasing show after sunset this week.',\n",
       " 'NASA Approves Robotic Hubble Repair Mission (AP) -- NASA\\'s chief is urging his Hubble Space Telescope team to press ahead with plans for a robotic repair mission to the aging observatory, saying, \"Let\\'s go save the Hubble.\"    Administrator Sean O\\'Keefe says he will ask Congress for money to accomplish the job. He estimates it will take about \\\\$1 billion to \\\\$1.6 billion to develop and launch a robot to make the needed upgrades to keep the popular telescope running and to get it out of orbit once its work is through...',\n",
       " 'What Is a Comet Made Of? UC Davis -- A new method for looking at the composition of comets using ground-based telescopes has been developed by chemists at UC Davis. Remnants from the formation of our solar system, the makeup of comets gives clues about how the Earth and other planets formed...',\n",
       " 'Dying Star Goes Out With a Ring A new image from NASA\\'s Spitzer Space Telescope shows the shimmering embers of a dying star, and in their midst a mysterious doughnut-shaped ring. The dying star is part of a \"planetary nebula\" called NGC 246. When a star like our own Sun begins to run out of fuel, its core shrinks and heats up, boiling off the star\\'s outer layers.',\n",
       " \"Lost Sleep Leads to Health Problems Advice on how to get a good night's slumber and avoid future heart trouble    HealthDayNews -- Lack of sleep can cause more than drowsiness; it can contribute to a number of health problems.    Short-term effects of lack of sleep include increases in blood pressure and levels of stress hormones, according to an article in the August issue of the Harvard Heart Letter...\",\n",
       " \"Which Diet is Best? The One That Works for You By Kathleen Doheny, HealthDay Reporter    HealthDayNews -- Gather together some diners who are trying to lose weight, then sit back and listen to the debate.    Almost anyone who's on a diet -- or at least one that's working -- is convinced his or her plan is the best...\",\n",
       " 'Clouds are Cooler than Smoke Clouds help regulate the Earths climate by reflecting sunlight into space, thus cooling the surface. When cloud patterns change, they modify the Earths energy balance in turn, and temperatures on the Earths surface.',\n",
       " \"Last Year's Flu Shot Imperfect But Effective By Amanda Gardner, HealthDay Reporter    HealthDayNews -- Last year's influenza vaccine was far from a perfect match against the virus that sickened people, but it offered more protection from the illness than experts had previously thought.    In very young children, the shot was found to be 25 percent to 49 percent effective in preventing influenza-like illness, which is a suspected case of flu that wasn't confirmed in a laboratory...\",\n",
       " 'Olympics Could Call Out the Couch Potatoes As the 2004 Summer Olympics officially get underway Friday with an international broadcast of the opening ceremonies, health experts expect the Athens games to inspire couch potatoes to become more active. But, experts caution, amateurs, particularly sedentary ones, should not jump into a new sports activity without sufficient preparation.',\n",
       " \"Skateboarding Offers a Tough Workout By KRISTA LARSON     SAYREVILLE, N.J. (AP) -- While the tennis courts at Kennedy Park are bare on a hot afternoon, parents keep dropping off teenagers at the skate park, home to all the day's action...\",\n",
       " \"Rats May Help Unravel Human Drug Addiction Mysteries By LAURAN NEERGAARD    WASHINGTON (AP) -- Rats can become drug addicts. That's important to know, scientists say, and has taken a long time to prove...\",\n",
       " 'Sting of Bug Bites Can Linger Into Adulthood By Amanda Gardner, HealthDay Reporter    HealthDayNews -- Contrary to popular belief, not all kids who are allergic to insect stings outgrow their sensitivity.    Some people whose allergies left them in fear of bees, wasps, and the like as children still react to their stings as adults, but a new study offers relief: Allergy shots given in childhood can protect them for up to 20 years...',\n",
       " 'FDA Warns of Terrorist Prescription Drug Tampering By DIEDTRA HENDERSON     WASHINGTON (AP) -- \"Cues from chatter\" gathered around the world are raising concerns that terrorists might try to attack the domestic food and drug supply, particularly illegally imported prescription drugs, acting Food and Drug Administration Commissioner Lester M. Crawford says...',\n",
       " 'Scientists Probe Pacific Ocean for Dead Zones His hand on a toggle switch and his eyes on a computer screen, Oregon State University graduate student Anthony Kirincich uses an array of scientific instruments to probe the vibrant waters of the Pacific. He is searching for the absence of life.',\n",
       " 'Simultaneous Tropical Storms are Very Rare The prospect that a tropical storm and a hurricane - or possibly two hurricanes - could strike Florida on the same day is something meteorologists say they have never seen. \"It\\'s almost unheard of,\" state meteorologist Ben Nelson said.',\n",
       " 'Deaths Raise Fears Over Stomach Stapling Surgery By LINDA A. JOHNSON    (AP) -- An obese Massachusetts woman and her 8-month-old fetus died of complications 18 months after stomach-stapling surgery, an apparent first that is leading to warnings about the risks of pregancy soon after the surgery...',\n",
       " 'Growth and Mortality Details of T. Rex Get Clearer T. rex was one of the largest meat-eaters ever to walk the land when it died out some 65 million years ago. At an elephant-like 6 tons, it stretched about 40 feet to 45 feet long and measured about 13 feet tall at the hip. The adult skull alone was 5 feet long, with teeth up to a foot long.',\n",
       " 'Britain Approves Human Cloning By EMMA ROSS     LONDON (AP) -- Britain granted its first license for human cloning Wednesday, more than three years after becoming the first nation to authorize the technique to produce stem cells for medical research.    A team of researchers at Newcastle University hope eventually to create insulin-producing cells that could be transplanted into diabetic patients...',\n",
       " 'New Clot Preventer Saves Lives and Money By Ed Edelson, HealthDay Reporter    HealthDayNews -- A new anti-clotting drug for people having artery-opening procedures lowers the rate of complications, gets patients out of the hospital faster, and probably saves lives, a study finds.    And it saves money to boot, says Dr...',\n",
       " 'The Eyes Are the Window to Hypertension The tiniest blood vessels of the eye can provide a glimpse that may warn of future high blood pressure, Australian researchers report. That finding comes from a computerized analysis of special camera images of the retina, an experimental technique.',\n",
       " \"Progress Is Made Battling Strep Germ By LINDSEY TANNER     CHICAGO (AP) -- Scientists say they are making headway in developing a vaccine against a common strep germ, the cause of millions of sore throats as well as a deadly but uncommon flesh-eating disease.    A test of an experimental vaccine in just 28 people prompted an immune response with no serious side effects, but it's still not known if the shot would keep people from catching the strep germ...\",\n",
       " 'Fake Drug Sales Problematic in Mexico By MARK STEVENSON      MEXICO CITY (AP) -- Mexican authorities are investigating the sale of fake or substandard medicine in a border town so popular among Americans seeking cheap medications that it has more pharmacies than streets.    U.S...',\n",
       " \"New Allergy Vaccine Shows Promise In the first trial of its kind, Austrian researchers have achieved success with an allergy vaccine using genetically engineered pollen. The findings are reported in this week's issue of the Proceedings of the National Academy of Sciences.\",\n",
       " 'First Lady Bashes John Kerry\\'s Pro Stem Cell Stance By RON FOURNIER    LANGHORNE, Pa. (AP) -- First lady Laura Bush defended her husband\\'s policy on embryonic stem cell research Monday, calling Democratic rival John Kerry\\'s criticism \"ridiculous\" and accusing proponents of overstating the potential for medical breakthroughs...',\n",
       " 'Doctors Place Hope in Baby Pacemaker Devices By LAURAN NEERGAARD      WASHINGTON (AP) -- Four-month-old Damaris Ochoa was near death, born with an enlarged heart that was quickly giving out. Obtaining a transplant in time was a long shot...',\n",
       " 'Vending Machines Making Room for Healthy Products By IRA DREYFUSS     WASHINGTON (AP) -- The typical vending machine fare consists of chocolate bars and potato chips, leaving few options for people seeking low-calorie or low-salt snacks.    That is changing now as companies develop markets for products they expect to satisfy both nutritionists and consumers...',\n",
       " 'Getting beyond the next big thing McKinsey says a post-boom tech industry can profit mightily by taking stock in the operations of many slower-growth industries.',\n",
       " 'If this is a tech rebound, pinch me KnowledgeWharton goes inside the IT conundrum to examine why capital spending--and corporate confidence--remains low.',\n",
       " \"Briefly: HP partners with 3G gear maker roundup Plus: AMD starts shipping 90-nanometer chips...ABC.com to air on Real's SuperPass...Lenovo revenue grows, but problems persist.\",\n",
       " 'Judge moves to unseal documents in Oracle case Says certain documents, which Oracle and others want to keep from eyes of rivals, may be necessary to decide case.',\n",
       " \"Study: IT workers more optimistic IT workers' confidence in the employment market kept growing in July, but techies are less happy with actual jobs than workers overall.\",\n",
       " 'California urged to use open source, VoIP Authors of a performance review tell the beleaguered state government it could save millions of dollars by adopting open-source software and Internet-based phone calling.',\n",
       " \"Gartner: 'Steer away' from cheap Windows XP That's the research firm's verdict on Microsoft's stripped-down Starter Edition for developing countries.\",\n",
       " 'Oracle expands midmarket ambitions Company looks to juice its application server business with a version tuned for smaller organizations.',\n",
       " \"Taking the Microsoft Rorschach test CNET News.com's Charles Cooper asks what it is about Microsoft that pushes so many people straight over the edge?\",\n",
       " \"Earnings alert: BEA revenue rises amid turmoil Plus: Dell meets expectations...Storage, servers bruise HP earnings...Healthy sales lift Cisco's profit.\",\n",
       " 'AMD starts shipping 90-nanometer chips The chipmaker appears to have met its most recent deadline for production of the smaller-featured chips.',\n",
       " \"Lenovo revenue grows, but problems persist China's largest PC maker sees surge in profits but loses market share to multinational companies.\",\n",
       " \"Dell's second-quarter earnings meet expectations CEO says firm saw no sales slowdown. Could results help calm waters after bad news from HP and Cisco?\",\n",
       " 'Tech market indeed soft, but HP woes one of a kind HP and Cisco spooked investors with recent comments about sales, but analysts say the overall tech market is still inching along.',\n",
       " 'HP replaces three senior executives Company follows up on promise of \"immediate management changes\" after disappointing earnings report, CNET News.com has learned.',\n",
       " 'Meet the new boss, same as the old boss? When heir apparent Paul Otellini takes the reins, what will the chipmaker look like?',\n",
       " 'IBM\\'s mainframe momentum continues Big Blue\\'s \"dinosaur\" mainframe business gets a boost with a European customer consolidating SAP applications using Linux.',\n",
       " 'Gateway alumnus resurfaces at HP Former Gateway executive to lead consumer marketing efforts at Hewlett-Packard.',\n",
       " \"Security pro: Windows easier to 'own' Windows beats Linux in total cost of 'ownership.' Hold on, that's not a good thing.\",\n",
       " 'Securing the gold in Athens Despite age-old Olympic truce known as the ekecheiria, or \"holding of hands,\" security experts aren\\'t taking any chances.\\\\',\n",
       " \"Hacker takes bite out of Apple's iTunes The Norwegian hacker famous for cracking DVD encryption reveals the public key for AirPort Express.\",\n",
       " \"Microsoft touts 'Sender ID' to fight spam, scams Proposed tech standard would verify senders' IP addresses to cut malicious phishing and annoying Viagra pitches.\",\n",
       " 'Begging for trouble on security Securify founder Taher Elgamal says a patchwork mentality has effectively turned network security into an IT budget black hole.',\n",
       " \"Microsoft's blast from the past A year after the MSBlast worm, the software giant releases SP2 for Windows XP. Would it have stopped the fast-spreading virus?\",\n",
       " 'MSBlast suspect pleads guilty The 19-year-old faces up to 37 months in prison after admitting to creating the \"MSBlast.B\" variant.',\n",
       " 'Microsoft plugs hole in Exchange The patch fixes a flaw in the e-mail server software that could be used to get access to in-boxes and information.',\n",
       " \"PC security under fire A vulnerability in AOL's instant messenger could allow attacks. Also: A new Bagle variant rumbles across the Net.\",\n",
       " 'Flaw opens AOL chat software to intruders Attackers could bombard PCs using instant messenger\\'s \"away\" feature. AOL says a fix is imminent.',\n",
       " \"HP partners with 3G gear maker Major cell phone infrastructure provider plans to use HP's telecom software in 3G mobile network gear.\",\n",
       " \"Cox speed boost leaves some members behind Not all of the cable company's broadband subscribers got a recent hike in bandwidth.\",\n",
       " 'Nortel wins Indian wireless contract Nortel scores its first major wireless deal with an Indian service provider.',\n",
       " 'Mosquito software bites smart phones A possible Trojan horse hidden in an illegal cell-phone game hits smart phones using the Symbian operating system.',\n",
       " 'Vonage hangs up on some callers VoIP company suffers \"delays,\" the second glitch in two weeks. Those affected are told to reboot their adaptors.',\n",
       " 'Group proposes faster Wi-Fi specification Networking consortium submits proposal for faster Wi-Fi, as battle lines are drawn between rival groups.',\n",
       " \"Some VoIP calls being blocked Some Net phone users who are also broadband subscribers aren't receiving incoming calls. AT #38;T plans to release patch.\",\n",
       " 'Covad tries an end run In a tough scrimmage against resurgent Baby Bells, the broadband pioneer flips open the VoIP playbook.',\n",
       " 'FCC certifies Freescale ultrawideband technology Freescale Semiconductor starts shipping its XS110 chip, which will help consumers to connect devices wirelessly.',\n",
       " \"'Push to talk' meets Wi-Fi FCC says cellular carriers are working on extending the walkie-talkie feature to Wi-Fi networks--which could mean to VoIP phones.\",\n",
       " \"PalmSource chairman to step down The separation of PalmOne and PalmSource will be complete with Eric Benhamou's resignation as the latter's chairman.\",\n",
       " 'Blu-ray Disc spec approved Next-generation DVD specification approved, clearing way for manufacturers to produce read-only disks.',\n",
       " \"iPod chipmaker plans stock offering PortalPlayer, whose chip powers Apple's MP3 player, files for IPO. Paperwork gives glimpse of potential evolution of iPod.\",\n",
       " 'Sony zooms in with new TV tech Electronics giant develops new television technology to attack core business from a new angle.',\n",
       " 'PalmOne to turn off wireless service Handheld maker says it will close down its Palm.Net wireless e-mail and Web service soon.',\n",
       " 'Apple puts edit tools in one basket Bundle of professional video editing applications includes new Motion special-effects software.',\n",
       " 'Microsoft wants to improve your image New imaging software is making eyes at those squinty camera-phone pictures.',\n",
       " 'DVD player profits down to \\\\$1 Want to get into the market for DVD players? Intense competition and standardization mean that you might make more as a mime.',\n",
       " 'Sharp brings 3D to PCs, without the funny specs Firm brings tech already used in phones and laptops to desktops. Screen creates different pixel images for each eye.',\n",
       " \"Report: Los Alamos lab needs better hardware inventory In a report this week, the U.S. Department of Energy said inventory controls at the Los Alamos National Laboratory were not robust enough, and some computers were never entered into the lab's inventory database.\",\n",
       " 'Circuit City chooses Linux for cash registers in 600 stores Circuit City this week bucked the trend of retailers opting for Windows-based point-of-sale systems by announcing plans to migrate to Linux-based IBM cash registers at its 600 stores.',\n",
       " \"Training seen as way to counter offshoring Edward Yourdon, a co-founder of the Cutter Consortium, says in an upcoming book that the threat of offshore outsourcing isn't restricted to U.S. software development jobs but to all kinds of knowledge work.\",\n",
       " 'Missing June deals slow to return for software companies Software company executives at a CIBC World Markets conference this week cited a variety of reasons for why June sales slowed, from record oil prices to steep software discounting and regulatory distractions on accounting deadlines.',\n",
       " 'VoIP gaining ground, despite cost concerns The voice-over-IP market is growing, and by next year, 50 of all lines installed in the U.S. are expected to rely on VoIP technology -- despite continuing concerns that installations can be costly.',\n",
       " \"Olympic IT security requires advance planning If there's one thing the Atos Origin SA team understands as lead contractor for the Olympic IT infrastructure, it's that you must learn from your mistakes.\",\n",
       " 'BEA meets lowered expectations for Q2 Though BEA Systems signed 18 licensing deals worth \\\\$1 million and added 488 new customers during the quarter, licensing revenue dropped to \\\\$116.3 million.',\n",
       " \"Hunt for XP SP2 flaws seen in full swing Security experts said that while the new Service Pack 2 for Windows XP will bolster the operating system's security, hackers will still find a way to exploit any flaws.\",\n",
       " 'Tools wrap: Sun, Javalobby, Infravio make moves Officials at Sun Microsystems, Javalobby, and Infravio this week revealed initiatives positioned as advances in either Java development or Web services consumption.',\n",
       " 'Sender ID gains traction Leading ISPs, anti-spam vendors, and e-mail software companies are moving quickly to add support for the Microsoft-backed anti-spam technology standard Sender ID, even as some e-mail experts raise doubts that the technology will work.',\n",
       " 'Storage, servers brings down HP results Hewlett-Packard blindsided analysts with news that its third- and fourth-quarter earnings would badly miss estimates primarily because of problems in its server and storage division.',\n",
       " 'EBay takes stake in Craigslist SAN FRANCISCO - Online auction giant eBay Inc. has acquired a 25 percent stake in San Francisco classified advertisements Web site Craigslist, the companies said Friday.',\n",
       " 'AMD starts shipping 90-nanometer chips to customers Advanced Micro Devices Inc.\\'s (AMD Inc.\\'s) 90-nanometer notebook processors are on their way to customers, according to a research note published by Goldman Sachs   Co. Thursday.&lt;p&gt;ADVERTISEMENT&lt;/p&gt;&lt;p&gt;&lt;img src=\"http://ad.doubleclick.net/ad/idg.us.ifw.general/ibmpseries;sz=1x1;ord=200301151450?\" width=\"1\" height=\"1\" border=\"0\"/&gt;&lt;a href=\"http://ad.doubleclick.net/clk;9824455;9690404;u?http://ad.doubleclick.net/clk;9473681;9688522;d?http://www.ibm.com/servers/eserver/pseries/campaigns/boardroom/index.html?ca=pSeries met=boardroom me=E P_Creative=P_InfoW_RSS\"&gt;Introducing IBM eServer p5 systems.&lt;/a&gt;&lt;br/&gt;Powered by IBMs most advanced 64-bit microprocessor (POWER5(tm)), p5 systems can run UNIX and Linux simultaneously. Learn more about eServer p5 systems.&lt;/p&gt;',\n",
       " \"FCC mobile spam rule doesn't cover some SMS A rule prohibiting mobile-phone spam adopted by the U.S. Federal Communications Commission (FCC) earlier this month doesn't prohibit phone-to-phone text messaging, but FCC officials believe the new rule, combined with a 13-year-old law, should protect U.S. mobile phone customers against unsolicited commercial e-mail.\",\n",
       " 'Benhamou will resign as chairman of PalmSource Eric Benhamou will resign as chairman of PalmSource Inc. on Oct. 28, the company announced Friday. The company said it expects he will continue in his role as chairman of sister company PalmOne Inc.',\n",
       " 'Update: Google raises gavel for IPO auction Friday Google Inc. is opening the auction for its much-anticipated initial public offering (IPO) on Friday, with plans to announce the pricing of its stock next week.',\n",
       " \"Olympic-size security demands advance planning ATHENS -- If there's one thing the Atos Origin SA team understands as lead contractor for the Olympic IT infrastructure, it's that you must learn from your mistakes.\",\n",
       " 'EBay Buys into Craigslist Auction company is apparently drawn to the classifieds model pioneered by community resource site.',\n",
       " \"Is Microsoft's Firewall Secure? Some say Win XP SP2 enhancements cause conflicts, don't protect as claimed.\",\n",
       " 'Newest Ad-Aware Exposes Some Users Earliest adopters of updated program should download again to ensure full security.',\n",
       " 'Trojan Bites Symbian Phones Mobile phones are target of virus traveling through illegal version of the game Mosquitos.',\n",
       " 'ATI Brings Digital TV to Your PC HDTV Wonder snags free high-definition transmissions for budget viewing.',\n",
       " 'MSN Adds Movie Downloads and Rentals Microsoft partners with Blockbuster Online, CinemaNow, and MovieTickets.com on one-stop entertainment portal.',\n",
       " \"Win XP Update: A Quiet Start Little fallout reported from service pack, but maybe it's because everyone's being cautious.\",\n",
       " 'AOL Launches PC Line AOL courts novices, Spanish-speakers with budget PC that includes a year of AOL service.',\n",
       " 'Caregivers Carry Virtual Clipboard Students design mobile data-access system for health-care workers.',\n",
       " 'Blaster Author Pleads Guilty Teen faces prison for unleashing malicious variant of MS Blaster worm last year.',\n",
       " 'International Group Teams Against Spam Task force plans antispam campaign, from education to cross-border legal efforts.',\n",
       " 'Copiers Need Security, Too Networked multifunction devices share PC vulnerabilities to worms, hackers.',\n",
       " 'Intel Shows Wireless Transceiver Prototype 90-nanometer radio chip promises more power than current CMOS technology.',\n",
       " 'AOL, Yahoo Add New Antispam Tools Services try different approaches to sender authentication to halt spam.',\n",
       " \"Most Spam is Domestic, Study Says Spammers aren't ducking antispam laws by operating offshore, they're just ignoring it.\",\n",
       " 'BlackBerries Play Politics Wireless devices slip past anti-gadget policies to open a new communications channel to lawmakers.',\n",
       " \"First Look at Quicken 2005 Intuit tweaks personal finance tool's usability, but update isn't essential if you're running a recent version.\",\n",
       " 'Dell Unveils Inexpensive Projector New 2300MP digital model offers high brightness and resolution, at a low price.',\n",
       " '\\'Insider\\' Information Puts City Blogs on the Map Locally focused group \"metro\" blogs -- compilations of events, reflections, recommendations, news and complaints -- are emerging to put a number of big cities in intimate, street-level relief.',\n",
       " 'Judge Says Amazon, Toys \\'R\\' Us Must Work Together By Jeffrey Gold    PATERSON, N.J.(AP) - A state judge ordered Toys \"R\" Us and Amazon.com to work together so the online retailer can abide by her order requiring Amazon to keep sellers on its Web site from listing products to which Toys \"R\" Us, which also markets through Amazon, has exclusive rights.     Superior Court Judge Margaret M...',\n",
       " 'Google IPO Moves Ahead Despite Playboy Interview Google Inc. (GOOG) forged ahead with its IPO auction Friday, even as the online search engine leader acknowledged a newly published magazine interview with its founders contained misleading information.',\n",
       " 'EBay Buys 25 Percent Stake in Craigslist Network By MAY WONG    SAN JOSE, Calif. (AP) -- Online auctioneer eBay Inc...',\n",
       " \"Biometrics Creeping Into Everyday Life for Americans Stuffing something in a public locker usually isn't a memorable experience. You drop a coin, take the key and move on. But at the Statue of Liberty, recently reopened after a two-year closure, stashing a package offers a glimpse into the future. To rent, close and reopen lockers, visitors touch an electronic reader that scans fingerprints.\",\n",
       " 'Dell Posts Another Quarter of Nice Earnings By MATT SLAGLE    DALLAS (AP) -- Offering a stark counterpoint to rival Hewlett-Packard Co., Dell Inc. (DELL) reported a nearly 30 percent jump in net income as strong sales of printers, servers and notched double-digit gains in overseas markets...',\n",
       " \"Playboy Article May Raise Concerns for Google By MICHAEL LIEDTKE     SAN FRANCISCO (AP) -- Google Inc. (GOOG)'s highly anticipated IPO faced a possible stumbling block Thursday with the release of a Playboy interview that the online search engine leader's co-founders gave just before the company filed its plans raise \\\\$3 billion with its stock offering...\",\n",
       " \"Hacker Cracks Apple's Music Streaming Technology SAN JOSE, Calif. (AP) -- The Norwegian hacker famed for developing DVD encryption-cracking software has apparently struck again - this time breaking the locks on Apple Computer Inc...\",\n",
       " 'Athens Wrestles to Avoid Cell Phone Outages By MATT MOORE    ATHENS, Greece (AP) -- Amid the roar of the crowd, the silence of the phones can be deafening. As thousands of athletes, spectators, journalists, officials and more descend on the Greek capital ahead of the Aug...',\n",
       " \"Battling Robots in Japan's Pop-Culture Tech The ring sits in the spotlight of a tense, packed auditorium and the jittery fighters await the bell at their red and blue corners. Like any fight, there's always the danger of a punishing uppercut or left hook. But these boxers have even more worries  like battery failure and software bugs.\",\n",
       " 'Minnesota Teen Pleads Guilty in Web Worm Hack Attack By GENE JOHNSON    SEATTLE (AP) -- A Minnesota high school senior pleaded guilty Wednesday in federal court to unleashing a variant of the \"Blaster\" Internet worm, which crippled more than a million computers last summer.    Jeffrey Lee Parson, 19, of Hopkins, Minn., is likely to face 18 months to three years behind bars after pleading guilty to one count of intentionally causing or attempting to cause damage to a protected computer...',\n",
       " \"REVIEW: Windows XP Battens Down Hatches in Latest Patch By MATTHEW FORDAHL     (AP) -- With the latest update to Microsoft Corp. (MSFT)'s Windows XP operating system, personal computers will soon join parents, bosses, teachers and spouses as a source of nagging in your life...\",\n",
       " \"Microsoft Unveils Windows XP 'Starter Edition' Microsoft announced Wednesday it would offer a low-cost starter edition of its Windows XP operating system in Asia starting in October, as it strives to hold onto market share facing erosion from the open-source Linux system and software piracy.\",\n",
       " \"Google Sets Date for IPO Google Inc. (GOOG) will close the registration process for its IPO auction Thursday, setting the stage for the online search engine leader's hotly anticipated stock market debut. Google plans to launch an unusual auction to sell 25.7 million shares shortly after closing the registration.\",\n",
       " '321 Studios Reaches Settlement in DVD Copying Dispute By JIM SALTER      ST. LOUIS (AP) -- A company driven out of business by Hollywood and the video game industry over its DVD- and computer game-copying software has reached a settlement with the motion picture industry...',\n",
       " \"Microsoft Says Battle in Japan Hurting Image By YURI KAGEYAMA     TOKYO (AP) -- The head of Microsoft Corp. (MSFT)'s Japan unit acknowledged Tuesday that the U.S...\",\n",
       " 'Sharp Introduces 3-Dimensional Computer Display By MAY WONG     SAN JOSE, Calif. (AP) -- Hoping to spur a 3-D revolution, Sharp Systems of America introduced Monday a new flat-panel computer display designed to deliver eye-popping images without the need for special glasses...',\n",
       " 'Google to Give Yahoo More Stock to Settle Dispute Online search engine leader Google Inc. (GOOG) will surrender more than \\\\$300 million of its stock to Yahoo Inc. (YHOO) in a settlement that removes a legal threat hanging over its IPO at the expense of enriching a nettlesome rival.',\n",
       " \"Unprecedented Electronic Digital Net for Olympics By MIRON VAROUHAKIS      ATHENS, Greece (AP) -- If you're planning on attending this month's Olympic Games, you'd best be careful what you say and do in public.    Software will be watching and listening...\",\n",
       " 'Heat Turned Up on Streaming Video Patents By JUSTIN POPE     (AP) -- After a recent legal setback, a California company that claims its patents cover the streaming video technology used by adult Web sites is boosting efforts to collect money from a very different group of streaming video users: colleges and universities.    Newport Beach, Calif.-based Acacia Media Technologies Corp...',\n",
       " 'Help\\'s on the Way for Bad Dates Via Cell Phone The peak time for dates from hell in New York City is Friday at 8 p.m. - judging by the cell phone calls delivering emergency excuses to bolt. Truth is, they\\'re fake \"rescue\" calls - now being offered by two cell phone providers, Cingular Wireless and Virgin Mobile USA.',\n",
       " \"Reading the Prospectus Critical to IPO Decisions By MICHAEL J. MARTINEZ      NEW YORK (AP) -- Ever read a company's Security and Exchange Commission filings? No? Consider yourself lucky...\",\n",
       " \"Search Engine Forums Spotlight Links to this week's topics from search engine forums across the web: SEMPO Next Steps   Mike Grehan's Second SEMPO Article - Overture Bidding Cap - PPC Question for Merchants - SEO Firm Ordered to Refund Fees, Pay Fine - Tracking Past Links   Traffic? - Google Settles Overture Patent Dispute - Advice on Site Structure\",\n",
       " 'Another Expanded Whois Service Doing in-depth investigation of a web site?  Whois.sc offers a wealth of detail about the people and technology behind just about any web site on the planet.',\n",
       " 'Capturing Your Personal Web Forget bookmarks: Web content managers allow you to create your own personal, searchable cache of web pages.',\n",
       " \"Yahoo Offers Anti-Spyware App Tired of those unwelcome pests that invade your computer without permission? Banish intrusive spyware and tracking cookies with Yahoo's newly upgraded toolbar.\",\n",
       " 'Google, Yahoo Settle Patent and Share Disputes Google and Yahoo announced today that they have resolved two contentious issues between the companies. ',\n",
       " \"Search Engine Forums Spotlight Links to this week's topics from search engine forums across the web: Live Reports from Search Engine Strategies San Jose 2004 - PPC Bounce Rate - Google AdWords Myths - After SEMPO: Should We Start a Trade Association? - Search Inventory vs. Conversion - Terra Sells Lycos at Yard Sale Price\",\n",
       " 'eBay Buys 25 of CraigList eBay Buys 25 of craiglist\\\\\\\\eBay Inc. today purchased a 25 percent pre-existing minority stake in San Francisco-based craigslist, a popular online network of classified ads and forums. The 25 stake was purchased from a former craigslist employee who first contacted eBay with the proposed sale, according to craigslist officials.\\\\\\\\With dedicated ...',\n",
       " 'Getting Around Search Engine Optimization Roadblocks Getting Around Search Engine Optimization Roadblocks\\\\\\\\Today, I will cover the most difficult technologies and techniques to work with. While each of these technologies, techniques and designs have a useful purpose for web-designers, webmasters and general office staff tasked with keeping the site up to date, they each also present problems ...',\n",
       " 'Search Engine Marketing Mistakes Retailers Need to Avoid Search Engine Marketing Mistakes Retailers Need to Avoid\\\\\\\\According to a recent survey conducted by Shop.org and Forrester, in 2003, online retail sales jumped 51 to reach \\\\$114 billion with 79 of all online retailers (etailers) were profitable. Online sales are expected to reach 6.6 percent of total retail sales in ...',\n",
       " 'Does Playboy Interview Violate Google IPO? Does Playboy Interview Violate Google IPO?\\\\\\\\On the day of the IPO comes more Google controversy - Google rsquo;s founders will appear in an upcoming issue of Playboy magazine. Although the interview was apparently held before the IPO hype,  the Playboy interview may have broken US Securities laws over pre-IPO  #8220;quiet ...',\n",
       " \"Google IPO Bidding Opens Google IPO Bidding Opens\\\\\\\\Google's IPO bidding is officially open. Google and its underwriters expect to open the auction for the shares of Google rsquo;s Class A common stock at 9:00 a.m. EST (press time) on Friday, August 13, 2004. Google bidders must have obtained a bidder ID from ipo.google.com if you ...\",\n",
       " 'Claria Cancels \\\\$150 million IPO Claria Cancels \\\\$150 million IPO\\\\Contextual advertising and pop up company Claria Corp. has canceled plans for a \\\\$150 million initial public offering due to \"current market conditions,\" it said in a regulatory filing on Wednesday.\\\\\\\\Claria, which filed its original prospectus in April of this year, had not disclosed the number ...',\n",
       " \"Google IPO Registration Ends Today Google IPO Registration Ends Today\\\\\\\\Google has set their IPO registration deadline at today for investors to register for the Google initial public offering.\\\\\\\\Investors wishing to participate in Google's initial public offering have until 5 pm today to register for the auction at ipo.google.com, according to a statement issued Tuesday on ...\",\n",
       " 'Thoughts on the Google IPO About the Google IPO\\\\\\\\For the past nine months the financial and Internet world has been watching Google in anticipation of what could be the largest Initial Public Offering of stock in history. If you are reading this column and have not been living on Mars for the past year, you ...',\n",
       " 'Avoid Search Engine Blacklisting Avoid Search Engine Blacklisting\\\\\\\\The best way to avoid being blacklisted by the search engines is to avoid using some questionable techniques that were once popular to gain high rankings. Even if your website is not blacklisted by using some of the techniques below, it may be penalized (buried in the ...',\n",
       " \"Google Index Database to be Archived? Google Index Database to be Archived?\\\\\\\\TechDirt reports that the San Jose Mercury News is running an article about Brewster Kahle's Internet Archive - Archive.org. While he's been profiled many times before, the one interesting tidbit to slip out this time is that Kahle has asked Google to donate their database ...\",\n",
       " 'News: U.S. tackles Emergency Alert System insecurity The FCC acknowledges that the government-mandated network that lets officials interrupt radio and television broadcasts in an emergency  is vulnerable to electronic tampering.\\\\',\n",
       " \"News: UK police issue 'vicious' Trojan alert Britain's top cybercrime fighters have joined up with the banking industry today in warning of the latest attempt to defraud online banking customers.\\\\\",\n",
       " 'News: UK scientists roll out Wi-Fi proof wallpaper British boffins have developed wallpaper that blocks Wi-Fi traffic but still allows other wireless transmissions to pass through in a bid to prevent unauthorised access to sensitive data via the WLAN.\\\\',\n",
       " 'Infocus: Examining a Public Exploit, Part 1 The purpose of this article is to analyze a public exploit in a lab environment, see the alerts generated by an intrusion detection system, and then do some packet analysis of the malicious binary in order to better understand it.',\n",
       " 'Infocus: Deploying Network Access Quarantine Control, Part 1 This article discusses Network Access Quarantine Control with Windows Server 2003, which allows administrators to quarantine mobile users before giving them full network access, by first ensuring these machines are up-to-date according to a baseline security model.',\n",
       " \"Infocus: Data Driven Attacks Using HTTP Tunneling In this article we will look at a means to bypass the access control restrictions of a company's router or firewall.  This information is intended to provide help for those who are legitimately testing the security of a network (whether they are in-house expertise or outside consultants).\",\n",
       " 'Infocus: Wireless Attacks and Penetration Testing (part 3 of 3) This third and final part of the wireless pen-test series looks at how to mitigate the security risks outlined in the previous articles, and then looks at some proposed solutions currently in front of the IETF.',\n",
       " 'Columnists: The Panacea of Information Security Step away from all the vendor hype. The one device that will always be the best tool for information security is a competent security professional.',\n",
       " \"Columnists: Redmond's Salvation Service Pack 2 for XP represents a sea change in Microsoft's security posture. Here's why you should ignore the naysayers and start planning your upgrade.\\\\\",\n",
       " 'Elsewhere: Blaster B Virus Creator Pleads Guilty A 19-year-old man has pleaded guilty to infecting thousands of businesses and U.S. government computers with the Blaster B virus.\\\\\\\\Jeffrey Lee Parson of Hopkins, Minnesot...',\n",
       " 'Animating for the Super Bowl Against an impossible deadline, a small team at Sony Cinematics Solutions Group created a two-minute animated promo to prove that a tech-savvy group could do dazzling broadcast work. Aug 13',\n",
       " 'Apple Ships Motion Apple has begun shipping Motion, which delivers high-performance, real-time motion graphics design and integration with Final Cut Pro HD and DVD Studio Pro 3, at a breakthrough price of \\\\$299. Aug 10',\n",
       " 'Apple Introduces Production Suite Production Suite, essential software suite for film and video that delivers real-time production tools in one comprehensive and integrated package, combines Final Cut Pro HD, Motion and DVD Studio Pro 3. Production Suite is available now for a suggested retail price of \\\\$1,299. Aug 10',\n",
       " 'iTunes Music Store Catalog Tops One Million Songs The iTunes Music Store now has more than one million songs available for download in the US, the first online digital music service to offer consumers a million-song catalog. Aug 10',\n",
       " 'Technology as Fashion Analyzing the success of the iPod mini in Japan, JapanConsuming writes,  #147;The iPod mini is in fact one of those all too rare examples of an ideal product for the Japanese market. It is a product that does something useful, does it really well, and looks terrific too. None of these factors on their own is enough to make the iPod mini a success; their combination, through deft and creative implementation of function, is what makes the difference. Add in some tried and tested limited supply marketing, a store that looks as good as Louis Vuitton and a high impact award winning advertising campaign that has covered Tokyo in pink, green and yellow for weeks, and some of the reasons for the iPod mini phenomenon can be understood. #148; Aug 10',\n",
       " 'Creating Stunning DVDs  #147;No other DVD authoring program in the \\\\$500 price class is capable of creating such stunning, highly creative DVDs as Apple #146;s DVD Studio Pro 3, #148; writes PC Magazine.  #147;For video pros looking to take their productions to the next level, it #146;s worth a serious look. #148; Aug 4',\n",
       " 'Revolutionizing Flow Cytometry Dr. Mario Roederer and Adam Treister at Stanford University wrote FlowJo, Mac OS X analysis software for flow cytometers, high-speed, automated microscopes. Today, some 15,000 to 20,000 cytometers in use are Mac based. Aug 3',\n",
       " 'PowerSchool University Attendees at this year #146;s PowerSchool University ramped up their student information system skills with the new PowerSchool 4.0 and augmented their development activities through peer networking. Aug 3',\n",
       " 'Guitar Player Honors GarageBand Guitar Player magazine announced during the summer NAMM show in Nashville that it has awarded GarageBand the magazine #146;s reader #146;s choice for Best Software of 2004. Jul 29',\n",
       " \"Phelps, Thorpe Advance in 200 Freestyle (AP) AP - Michael Phelps took care of qualifying for the Olympic 200-meter freestyle semifinals Sunday, and then found out he had been added to the American team for the evening's 400 freestyle relay final. Phelps' rivals Ian Thorpe and Pieter van den Hoogenband and teammate Klete Keller were faster than the teenager in the 200 free preliminaries.\",\n",
       " \"Reds Knock Padres Out of Wild-Card Lead (AP) AP - Wily Mo Pena homered twice and drove in four runs, helping the Cincinnati Reds beat the San Diego Padres 11-5 on Saturday night. San Diego was knocked out of a share of the NL wild-card lead with the loss and Chicago's victory over Los Angeles earlier in the day.\",\n",
       " 'Dreaming done, NBA stars awaken to harsh Olympic reality (AFP) AFP - National Basketball Association players trying to win a fourth consecutive Olympic gold medal for the United States have gotten the wake-up call that the \"Dream Team\" days are done even if supporters have not.',\n",
       " 'Indians Beat Twins 7-1, Nearing AL Lead (AP) AP - The Cleveland Indians pulled within one game of the AL Central lead, scoring four runs in the first inning and beating the Minnesota Twins 7-1 Saturday night behind home runs by Travis Hafner and Victor Martinez.',\n",
       " 'Galaxy, Crew Play to 0-0 Tie (AP) AP - Kevin Hartman made seven saves for Los Angeles, and Jon Busch had two saves for Columbus as the Galaxy and Crew played to a 0-0 tie Saturday night.',\n",
       " 'USC Begins Season Where It Ended, at No. 1 (AP) AP - Southern California will begin defense of its first national title in 31 years as the No. 1 team in the nation. The Trojans earned the top spot in the preseason Associated Press poll released Saturday by receiving 48 of 65 first-place votes and 1,603 points.',\n",
       " \"Italy's Pennetta Wins Idea Prokom Open (AP) AP - Italy's Flavia Pennetta won the Idea Prokom Open for her first WTA Tour title, beating Klara Koukalova of the Czech Republic 7-5, 3-6, 6-3 Saturday after French Open champion Anastasia Myskina withdrew before the semifinals because of a rib injury.\",\n",
       " 'Tough Race Ahead for Swimmer Phelps  ATHENS (Reuters) - Michael Phelps, his first gold medal  safely gathered in, eased through the next phase of his  monumental Olympic challenge in the heats of the 200 meters  freestyle Sunday but the immensity of the task ahead was clear.',\n",
       " 'Iranian Will Not Meet Israeli in Olympics Due to Weight  ATHENS (Reuters) - A diplomatic wrangle of Olympic  proportions was avoided Sunday when Iranian world judo champion  Arash Miresmaeili failed to make the weight for his clash with  an Israeli opponent.',\n",
       " 'Tiger Runs Out of Steam After Storming Start  KOHLER, Wisconsin (Reuters) - Tiger Woods failed to make  the most of a red-hot start in the U.S. PGA Championship third  round on Saturday, having to settle for a three-under-par 69.',\n",
       " 'Colander Misses Chance to Emulate Jones  ATHENS (Reuters) - But for a decision that enraged her  coach, LaTasha Colander might have been the Marion Jones of the  Athens Olympics.',\n",
       " 'AL Wrap: Olerud Cheers Yankees by Sinking Ex-Team  NEW YORK (Reuters) - John Olerud sunk his former team by  recording a two-run single in the eighth inning to drive in the  go-ahead runs which earned the New York Yankees a 6-4 win over  the host Seattle Mariners in the American League Saturday.   ',\n",
       " \"NL Wrap: Jones Homers Twice as Braves Down Cards  NEW YORK (Reuters) - Chipper Jones cracked two homers and  Julio Franco's two-run double in the seventh inning drove in  the winning runs as the streaking Atlanta Braves downed the St.  Louis Cardinals 9-7 in the National League Saturday.\",\n",
       " \"Olympics-Doping-Greek Media Put Country's Honor Above Athletes  ATHENS (Reuters) - The honor of Greece lies above  individual athletes and no backstage antics should compromise  it, Greek media said Sunday, after the country's top athletes  were suspended from the team under a cloud of doping suspicion.\",\n",
       " \"Olympics-Rowing-U.S. Eight Beats Canada to Set World Best Time  ATHENS (Reuters) - The United States beat Canada in a world  best time to qualify for the final of the men's Olympic eights  race Sunday, as the two crews renewed their fierce rivalry in  front of a raucous crowd at Schinias.\",\n",
       " 'Singh Leads, but Leonard Is Following Avoiding the late trouble that knocked other contenders off track, Vijay Singh held a one-stroke lead over Justin Leonard heading into the final round of the P.G.A. Championship.',\n",
       " 'Olerud Bails Out Loaiza in His Latest Bungled Audition John Olerud reveled in his return to Safeco Field by slapping a two-run single that lifted the Yankees and saved Esteban Loaiza from a defeat.',\n",
       " 'Family circle Family Day in the Fens means fun and games to most folks. Players toddle around the bases with wide-eyed kids. Mothers beam. Children smile. All is bliss on the sun-splashed emerald lawn.',\n",
       " \"Notables The Yankees' Alex Rodriguez , who missed Friday night's game with the flu and stayed back at the team hotel yesterday, dropped his appeal of a four-game suspension issued for his involvement in the July 24 brawl at Boston and began serving the penalty. He won't be eligible to play until Thursday at Minnesota.\",\n",
       " 'Cubs get delivery from Wood Kerry Wood homered and allowed four hits in eight innings, leading the Chicago Cubs over the visiting Los Angeles Dodgers, 2-0, yesterday.',\n",
       " \"Leskanic winning arms race With Scott Williamson bracing for a potentially grim diagnosis of his latest elbow injury, the Red Sox last night appeared poised to move on without him as Curtis Leskanic inched closer to rejoining the club. The Sox initially indicated they would make an announcement last night on Williamson's injury but changed their position during the first inning of the game ...\",\n",
       " \"Rehabbing his career Player introductions at the final Citizens Bank Summer Caravan stop produced an awkward moment. Walter McCarty and Raef LaFrentz were the featured guests for the free basketball clinic at the Cambridge Family YMCA late last week. McCarty's presence yielded chants of  quot;Walter, Walter quot; from the crowd of 125 kids. LaFrentz left the young fans wondering,  quot;Who is he? quot; The projected ...\",\n",
       " 'Warmer and wilder HAVEN, Wis. -- Perched high on the bluffs overlooking Lake Michigan, Whistling Straits is a massive, windswept landscape, as large a golf course as \\\\$40 million can buy. It is complete with sand dunes that could double as ski slopes and deep bunkers that should require elevators.',\n",
       " 'Greek runners are suspended ATHENS -- Star sprinters Kostas Kenteris and Katerina Thanou were suspended yesterday from the Greek Olympic team for missing drug tests, but their fate was left in the hands of the International Olympic Committee.',\n",
       " \"Throwbacks: Gannon, Collins in good form Rich Gannon , the 2002 NFL MVP who was knocked out of the Raiders' loss to Kansas City last Oct. 20 and had shoulder surgery in November, was 9 for 15 for 69 yards in visiting Oakland's 33-30 exhibition win over the San Francisco 49ers last night.\",\n",
       " \"Enough to make you flip Friday night came as close to an old-time local battle for viewers among Channels 4, 5, and 7 as we're likely to see. It was a throwback to pre-cable, pre-dish, and even pre-UHF days as the three local  quot;originals quot; served up a special night of sports programming. Although Red Sox-White Sox was on Channel 4's  quot;sister quot; station, Channel 38, it ...\",\n",
       " \"For Revolution, this tie looks good WASHINGTON -- Rookie Andy Dorman didn't even have time to get his white, long-sleeved jersey smudged on the sloppy RFK Stadium field last night before salvaging a 2-2 tie for the Revolution against D.C. United. Fifty-five seconds after entering the game as a late substitute, Dorman buried a low shot from inside the penalty area and extended his team's unbeaten ...\",\n",
       " 'Sing Me Back Home matches track mark OCEANPORT, N.J. -- Sing Me Back Home pulled away in the stretch to win the \\\\$60,000 Decathalon Handicap at Monmouth Park yesterday, equaling the track record for 5 furlongs.',\n",
       " 'Haas in fine form HAVEN, Wis. -- If he were acting his age, Jay Haas would have had the weekend off, resting on his laurels and reaping the benefits of the nice-and-easy Champions Tour.',\n",
       " 'USC starts at the top Southern California greeted news of its first preseason No. 1 ranking since 1979 with ambivalence.',\n",
       " \"'Gardening' costs Appleby -- in spades HAVEN, Wis. -- For 18 holes, Stuart Appleby played flawless golf in yesterday's third round, four birdies and 14 pars. It wasn't until he was done playing that he discovered that it wasn't as good a day as he had thought, that he had made a quadruple bogey.\",\n",
       " \"Hungarian GP, Qualifying Fifth and ninth for Fernando and Jarno following qualifying for tomorrow's Hungarian Grand Prix.\",\n",
       " 'Budapest, Free Practice 3 and 4: A tight battle in store The teams have just finished their final preparations for the race and qualifying, in much lower temperatures than yesterday.',\n",
       " 'Overtaking at Budapest? Its possible The Renault F1 Team drivers explain how you can make up positions at the Hungarian circuit.',\n",
       " 'Budapest, Day 1: everythings on track The Renault F1 Team ran through its programme without worrying about the timesheets or its rivals. The focus has been on Sundays race, not Fridays glory.',\n",
       " 'Hungarian GP, Friday Round-Up Fernando tenth and Jarno seventeenth but no cause for concern, while Pat Symonds explains the challenges of Fridays at the race.',\n",
       " 'Redskins Get the Boot A fourth-quarter lead proves fleeting for the Redskins as John Kasay hits a 52-yard field goal Saturday to give the Panthers a 23-20 overtime win.',\n",
       " 'Trojans Open Up No. 1 Defending national champion USC begins the 2004 season right where it left off the year before - as the top ranked team in the AP Top 25 poll.',\n",
       " \"Offense Needs Work There were few offensive highlights during Virginia Tech's first scrimmage of fall practice on Saturday.\",\n",
       " 'Huey Exits Early Treat Huey, the two-time All-Met Player of the year, suffered a 6-2, 6-0 loss to 29-year-old journeyman Mashiska Washington, the younger brother of former pro and 1996 Wimbledon finalist Malivai.',\n",
       " \"True Sensation Wins A Wet One at Pimlico BALTIMORE, Aug. 14 -- Even before Hurricane Charley ranged up the East Coast and began to drop its drizzle on Pimlico Race Course, the \\\\$75,000 All Brandy Stakes for Maryland-bred fillies and mares had been taken off the track's beat-up turf course.\",\n",
       " \"Lynx Infielder Fontenot Has 'Pretty Good Pop for His Size' At 5 feet 8, 160 pounds, second baseman Mike Fontenot looks more like the Class AAA Ottawa Lynx's batboy than one of the Baltimore Orioles' top prospects.\",\n",
       " \"Australia, U.S. Set Record The U.S. women's and men's eights team both set world bests in the Olympic rowing competition Sunday along with Australian pair Sally Newmarch and Amber Halliday.\",\n",
       " \"Phelps On Relay Team Michael Phelps is named to the 4x100-meter freestyle relay team that will compete in Sunday's final, keeping alive his quest for a possible eight Olympic gold medals.\",\n",
       " 'Venezuelans Vote Early in Referendum on Chavez Rule (Reuters) Reuters - Venezuelans turned out early\\\\and in large numbers on Sunday to vote in a historic referendum\\\\that will either remove left-wing President Hugo Chavez from\\\\office or give him a new mandate to govern for the next two\\\\years.',\n",
       " 'S.Koreans Clash with Police on Iraq Troop Dispatch (Reuters) Reuters - South Korean police used water cannon in\\\\central Seoul Sunday to disperse at least 7,000 protesters\\\\urging the government to reverse a controversial decision to\\\\send more troops to Iraq.',\n",
       " \"Palestinians in Israeli Jails Start Hunger Strike (Reuters) Reuters - Thousands of Palestinian\\\\prisoners in Israeli jails began a hunger strike for better\\\\conditions Sunday, but Israel's security minister said he\\\\didn't care if they starved to death.\",\n",
       " 'Seven Georgian soldiers wounded as South Ossetia ceasefire violated (AFP) AFP - Sporadic gunfire and shelling took place overnight in the disputed Georgian region of South Ossetia in violation of a fragile ceasefire, wounding seven Georgian servicemen.',\n",
       " \"Rwandan Troops Arrive in Darfur (AP) AP - Dozens of Rwandan soldiers flew into Sudan's troubled Darfur region Sunday, the first foreign armed force deployed in the area since Arab militiamen began a rampage against black African farmers, killing thousands.\",\n",
       " \"Rwanda Troops Airlifted to Start AU Mission in Darfur (Reuters) Reuters - Rwandan troops were airlifted on Sunday\\\\to Sudan's Darfur as the first foreign force there, mandated to\\\\protect observers monitoring a cease-fire between the Sudanese\\\\government and rebels in the troubled western region.\",\n",
       " \"Bomb at India Independence Parade Kills 15 (AP) AP - A bomb exploded during an Independence Day parade in India's remote northeast Sunday, killing at least 15 people, including schoolchildren, while a rocket attack during a celebration at a school in the separatist region of Kashmir injured 17, officials said.\",\n",
       " \"Australian FM to visit North Korea for talks on nuclear crisis (AFP) AFP - Australia's foreign minister will pay a rare visit to North Korea this week for talks on its nuclear programme after creating a stir here by warning a North Korean missile would be able to hit Sydney.\",\n",
       " \"Kerry Campaign Helping With Fla. Recovery (AP) AP - Democratic presidential candidate John Kerry does not plan to visit Florida in the aftermath of Hurricane Charley because he's concerned his campaign entourage could distract from recovery efforts, he said Saturday.\",\n",
       " \"Edwards Calls for Changes to Drug Plans (AP) AP - Democratic vice presidential candidate John Edwards called for changes to prescription drug programs and praised running mate John Kerry's military and government service at an outdoor campaign rally here Saturday.\",\n",
       " 'Kerry leading Bush in key swing states (AFP) AFP - Although polls show the US presidential race a virtual dead heat, Democrat John Kerry appears to be gaining an edge over George W. Bush among the key states that could decide the outcome.',\n",
       " \"Democratic Senator Urges Energy Reform (AP) AP - Congress must pass legislation to protect the nation's electricity grid if it wants to avoid repeats of the devastating outages that rolled across eight states last year, Sen. Maria Cantwell, D-Wash., said Saturday.\",\n",
       " \"Missouri Attorney General Sues EPA (AP) AP - Missouri's attorney general sued the federal environmental agency on Friday, saying it is behind on testing the state's air for lead as required by law.\",\n",
       " \"Mortars Mark Opening of Iraqi Political Conference  BAGHDAD (Reuters) - Insurgents fired mortars at a meeting  where Iraqi leaders met to pick an interim national assembly  Sunday, killing at least two people in a grim reminder of the  country's tortured path toward democracy.\",\n",
       " \"Japan Ministers Pay Homage at Shrine for War Dead  TOKYO (Reuters) - Three Japanese ministers paid homage at a  controversial shrine for war dead Sunday, the 59th anniversary  of Japan's World War II surrender, a move that drew anger from  Asian neighbors.\",\n",
       " 'Najaf battle a crucial test for Allawi Clashes between US troops and Sadr militiamen escalated Thursday, as the US surrounded Najaf for possible siege.',\n",
       " \"Who are Ch #225;vez's opponents? On Sunday, Venezuelans will decide whether to cut short the president's term, which is due to end in 2006.\",\n",
       " \"Eye on Athens, China stresses a 'frugal' 2008 Olympics Amid a reevaluation, officials this week pushed the completion date for venues back to 2007.\",\n",
       " 'Tense Iraq debates new assembly Talks on setting up an Iraqi assembly continue despite fresh violence in Baghdad and the Shia stronghold of Najaf.',\n",
       " 'Venezuelans vote on Chavez rule A referendum is under way in Venezuela to decide if President Hugo Chavez should remain in office.',\n",
       " 'Pope celebrates Mass in Lourdes An ailing Pope John Paul II says Mass at Lourdes, the French shrine revered by Roman Catholics.',\n",
       " 'Rwandan soldiers arrive in Sudan Rwandan troops arrive in Sudan to help protect ceasefire monitors in the war-ravaged Darfur region.',\n",
       " \"Thorpe leads big guns Ian Thorpe sets the fastest time in the 200m freestyle as swimming's top names cruise into the semi-finals.\",\n",
       " \"Mystery over judo 'protest' Iran's Arash Miresmaili withdraws from the Olympics amid confusion over his reasons.\",\n",
       " \"Jackson probe 'should be public' Santa Barbara's sheriff asks a judge if he can release the results of an inquiry into Michael Jackson's treatment by police.\",\n",
       " \"Rumsfeld warning for Iraq's Sadr The Iraq crisis and differences over Nato loom over the US Defence Secretary's meeting with his Russian counterpart.\",\n",
       " 'South Ossetia ceasefire discussed Georgia and South Ossetia negotiate the details of a truce they forged, despite reports of a village attack.',\n",
       " \"'Mock executions' for UK hostage The British journalist who was kidnapped in Iraq says he faced mock executions and tried to escape his captors.\",\n",
       " \"India carries out rare execution A man convicted of raping and killing a schoolgirl is hanged in India's first execution in nine years.\",\n",
       " 'Rowling reads to gathered fans Harry Potter author JK Rowling delights a small group of fans by giving her first public reading in Scotland for four years.',\n",
       " \"President's fate is on the line in Venezuela CARACAS -- Partisans on both sides are calling it the most polarized and important election in Venezuela's history, a presidential recall referendum today that will determine the course of democracy here and could buffet world oil prices. Both campaigns are also utterly convinced they will win.\",\n",
       " \"Lamenting London's double-deckers Up-to-date buses supplant symbol LONDON -- On a sweltering August afternoon, George Watson wedged himself, his briefcase, his sports jacket, and his raincoat into a narrow seat aboard the profoundly un-air-conditioned No. 38 bus, as it resumed its rumble down High Holborn, in London's bustling city center.\",\n",
       " \"Clash among warlords casts doubt on Afghanistan's security KABUL, Afghanistan -- Rival militias clashed in western Afghanistan yesterday, reportedly killing 21 people and ramping up concern about security as the country prepares for landmark elections.\",\n",
       " \"Options running out as Najaf talks collapse BAGHDAD -- After more than a week of fighting between the Mahdi Army and the combined US and Iraqi forces in Najaf, Baghdad's Sadr City, and a half-dozen other cities, analysts say neither interim Prime Minister Iyad Allawi nor radical cleric Moqtada al-Sadr had any good options left other than to talk.\",\n",
       " \"Japanese youths' rage fuels wave of violent crime SASEBO, Japan -- On a cloudless afternoon in this sleepy port city, an 11-year-old girl drenched in blood and clutching a box cutter walked into the lunchroom at her elementary school. Teachers and students froze, assuming the sixth-grader known for her lighthearted nature had gravely hurt herself -- but she quickly dispelled that impression, witnesses said, by uttering a few ...\",\n",
       " 'NATO proclaims victory in Bosnia SARAJEVO, Bosnia-Herzegovina -- When NATO forces first came to Bosnia nearly a decade ago, they lived in heavily guarded compounds, patrolled the streets in tanks, and often wore full body armor.',\n",
       " 'Koreans of mixed race tackle a prejudice SEOUL -- For years, Lee Yu Jin kept her secret. Whenever anybody asked -- and they did all the time as her celebrity as an actress and model spread -- she simply denied the rumors. No, she was not a foreigner. She was Korean.',\n",
       " \"Venezuela Holds Referendum on President CARACAS, Venezuela - The opposition's long and bitter campaign to oust Venezuelan President Hugo Chavez finally came down to a recall referendum Sunday, with the leftist leader hoping a huge turnout among the poor will keep him in power.    Activists on both sides set off fireworks and blared recordings of bugle music to wake voters hours before dawn, hoping for a flood of early votes in their favor...\",\n",
       " 'Floridians Return to Storm-Ravaged Homes PUNTA GORDA, Fla. - After getting a first look at the widespread damage left behind by Hurricane Charley, Florida residents were faced with the arduous task of sorting through the wreckage, and for some, starting over again...',\n",
       " \"Charley May Not Spike Insurance Premiums MIAMI - Hurricane Charley probably will not cause Floridians' insurance premiums to skyrocket like 1992's Andrew, and fewer insurers should go bankrupt from paying out damages expected to reach the billions of dollars, state and industry officials said Saturday.    They say previous premium increases and overhauls made because of Andrew, the most expensive natural disaster in U.S...\",\n",
       " 'Florida Residents Face Hurricane Wreckage PUNTA GORDA, Fla. - After getting a first look at the widespread damage left behind by Hurricane Charley, Florida residents were faced with the arduous task of sorting through the wreckage, and for some, starting over again...',\n",
       " \"Phelps, Thorpe Advance in 200 Freestyle ATHENS, Greece - Michael Phelps took care of qualifying for the Olympic 200-meter freestyle semifinals Sunday, and then found out he had been added to the American team for the evening's 400 freestyle relay final. Phelps' rivals Ian Thorpe and Pieter van den Hoogenband and teammate Klete Keller were faster than the teenager in the 200 free preliminaries...\",\n",
       " \"Venezuela Opposition Holds Recall Vote CARACAS, Venezuela - The opposition's long and bitter campaign to oust Venezuelan President Hugo Chavez finally came down to a recall referendum Sunday, with the leftist leader hoping a huge turnout among the poor will keep him in power.    Officials from around the world - including Pope John Paul II and U.S...\",\n",
       " \"Bomb at India Independence Parade Kills 15 NEW DELHI - A bomb exploded during an Independence Day parade in India's remote northeast on Sunday, killing at least 15 people, officials said, just an hour after Prime Minister Manmohan Singh pledged to fight terrorism. The outlawed United Liberation Front of Asom was suspected of being behind the attack in Assam state and a second one later in the area, said Assam Inspector General of Police Khagen Sharma...\",\n",
       " 'Memorial Service Held for Lori Hacking OREM, Utah - Family and friends of Lori Hacking gathered Saturday for a memorial service to remember the woman whom authorities believe was slain by her husband while she slept.    About 600 people attended the service, including the parents of both Lori Hacking and her husband, Mark, who has been charged with her murder...',\n",
       " \"Phelps, Thorpe Advance in 200 Freestyle ATHENS, Greece - Michael Phelps took care of qualifying for the Olympic 200-meter freestyle semifinals Sunday, and then found out he had been added to the American team for the evening's 400 freestyle relay final.    Phelps' rivals Ian Thorpe and Pieter van den Hoogenband and teammate Klete Keller were faster than the teenager in the 200 free preliminaries...\",\n",
       " \"Pilgrims Crowd Field for Mass With Pope LOURDES, France - A frail Pope John Paul II celebrated an open-air Mass on Sunday as several hundred thousand pilgrims, many in wheelchairs, crowded onto a field near a French shrine to the Virgin Mary that is associated with miraculous cures of the sick.    The Mass was a highlight of the Pope's two-day visit to Lourdes, a town in the Pyrenees where Roman Catholic tradition says St...\",\n",
       " 'Iraqi Troops to Take Lead in Fighting Militia Iraq will send troops to Najaf to battle a Shiite Muslim militia after peace talks collapsed between the government and Moqtada Sadr.',\n",
       " \"High Stakes Showdown in Najaf The fallout from Shiites fighting U.S. Marines in a holy city could weaken Iraq's new government\",\n",
       " \"Strategies for a Sideways Market (Reuters) Reuters - The bulls and the bears are in this\\\\together, scratching their heads and wondering what's going to\\\\happen next.\",\n",
       " 'Art Looks Like Fine Investment for Funds (Reuters) Reuters - Some mutual funds invest in stocks;\\\\others invest in bonds. Now a new breed of funds is offering\\\\the chance to own fine art.',\n",
       " \"Oil and Economy Cloud Stocks' Outlook (Reuters) Reuters - Soaring crude prices plus worries\\\\about the economy and the outlook for earnings are expected to\\\\hang over the stock market this week during the depth of the\\\\summer doldrums.\",\n",
       " \"Strategies for a Sideways Market  WASHINGTON (Reuters) - The bulls and the bears are in this  together, scratching their heads and wondering what's going to  happen next.\",\n",
       " 'Art Looks Like Fine Investment for Funds  NEW YORK (Reuters) - Some mutual funds invest in stocks;  others invest in bonds. Now a new breed of funds is offering  the chance to own fine art.',\n",
       " \"Oil and Economy Cloud Stocks' Outlook  NEW YORK (Reuters) - Soaring crude prices plus worries  about the economy and the outlook for earnings are expected to  hang over the stock market this week during the depth of the  summer doldrums.\",\n",
       " \"A Digital Doctor Treats Computer Contamination (washingtonpost.com) washingtonpost.com - Before me lies the patient, a Gateway computer running Windows 98. It is suffering from extremely clogged Internet arteries, unable to reach the Web. As one of The Washington Post's digital doctors, my task is to nurse the machine back to health so my colleague Kathleen Day can access her e-mail and file stories from home.\",\n",
       " 'Microsoft Lists Apps Affected by XP SP2 (Ziff Davis) Ziff Davis - Microsoft has published a list of nearly 50 software programs that require tweaking in order to work with its most recent Windows update.',\n",
       " \"Europe's Eel Population Collapsing (AP) AP - When a poacher with a baseball bat mugged Willem Dekker for his baby eels, it was further confirmation for the Dutch biologist that the species is in trouble.\",\n",
       " 'Genetic Material May Help Make Nano-Devices: Study (Reuters) Reuters - The genetic building blocks that\\\\form the basis for life may also be used to build the tiny\\\\machines of nanotechnology, U.S. researchers said on Thursday.',\n",
       " 'Progress Cargo Ship Launched From Russia (AP) AP - A Russian cargo ship loaded with supplies and equipment blasted off from the Baikonour cosmodrome in Kazakhstan on Wednesday headed for the international space station, a Russian space official said.',\n",
       " 'Computer Naivete Costs A Bundle The meltdown of my home computer was my fault, the result of having switched to a high-speed Internet connection without installing a firewall or heeding those pesky warnings to download critical updates for Windows and anti-virus software. &lt;FONT face=\"verdana,MS Sans Serif,arial,helvetica\" size=\"-2\"\\\\ color=\"#666666\"&gt;&lt;B&gt;-The Washington Post&lt;/b&gt;&lt;/font&gt;',\n",
       " 'NASA Develops Robust Artificial Intelligence for Planetary Rovers NASA is planning to add a strong dose of artificial intelligence (AI) to planetary rovers to make them much more self-reliant, capable of making basic decisions during a mission. Scientists are developing very complex AI software that enables a higher level of robotic intelligence.',\n",
       " \"Science and President Bush Collide in Election Year With more than 4,000 scientists, including 48 Nobel Prize winners, having signed a statement opposing the Bush administration's use of scientific advice, this election year is seeing a new development in the uneasy relationship between science and politics.\",\n",
       " 'Hurricane Charley\\'s Force Took Experts by Surprise By MARCIA DUNN     (AP) -- Hurricane Charley\\'s 145-mph force took forecasters by surprise and showed just how shaky a science it still is to predict a storm\\'s intensity - even with all the latest satellite and radar technology.    \"Most major hurricanes become major by going through a rapid intensification...',\n",
       " \"New Computer Games Teach Nutrition to Needy In an effort to educate the nation's neediest children on nutrition, a new project uses the familiar medium of video games to broadcast its message. The Fantastic Food Challenge, a package of four computer games, is designed to teach people who get nutrition aid such as federal food stamps how to make better use of their food.\",\n",
       " 'Sprint Set to Debut Video-Streaming Cell Phone OVERLAND PARK, Kan. (AP) -- Channel surfing is moving off the couch as Sprint Corp...',\n",
       " \"Kobe Bryant Due Back in Court Monday (AP) AP - With Kobe Bryant's sexual assault trial scheduled to begin in less than two weeks, speculation is mounting that prosecutors are looking for a way to dismiss the charge after a series of setbacks.\",\n",
       " 'Rangers Designate Bacsik for Assignment (AP) AP - Pitcher Mike Bacsik was designated for assignment by the Texas Rangers on Sunday after going 1-1 with a 4.60 ERA in three starts.',\n",
       " 'Arsenal Beats Everton to Extend Streak (AP) AP - Arsenal opened its defense of its English title with a 4-1 win at Everton on Sunday, making it 41 straight games without a loss in the Premier League.',\n",
       " \"Nadal Wins in Poland for First ATP Title (AP) AP - Spain's Rafael Nadal won his first ATP singles title Sunday, beating Argentina's Jose Acasuso 6-3, 6-4 in the final at the Idea Prokom Open.\",\n",
       " \"Zahringer Leads Field at U.S. Amateur (AP) AP - George Zahringer III is back for another shot at the U.S. Amateur. The New Yorker is one of three returning quarterfinalists for the tournament, which begins Monday at the Winged Foot Golf Club. Lee Williams of Alexander City, Ala., and Patrick Carter of Lesage, W.Va., complete the trio from last year's championship that was won by Nick Flanagan of Australia.\",\n",
       " \"Pau Edges Yao in Clash of the Giants  ATHENS (Reuters) - Spain's Pau Gasol got the better of  China's Yao Ming in Olympic basketball's own clash of the  giants Sunday.\",\n",
       " 'Hamilton Sets Early Pace as Woods Struggles  KOHLER, Wis. (Reuters) - British Open champion Todd  Hamilton made the first significant move in the U.S. PGA  Championship final round Sunday as overnight pacesetter Vijay  Singh prepared for an afternoon tee-off.',\n",
       " \"Iran Defies Olympic Spirit by Shunning Israel  ATHENS (Reuters) - Iran's world judo champion Arash  Miresmaeili refused to compete against an Israeli Sunday,  triggering a fresh crisis at the Olympic Games where race,  creed or color are barred from interfering in sport.\",\n",
       " 'U.S. Softball Team Puts Australia in Its Place  ATHENS (Reuters) - The United States kept itself firmly on  course for a third straight Olympic softball gold medal when it  thrashed Australia 10-0 Sunday.',\n",
       " \"Schumacher Triumphs as Ferrari Clinches Title  BUDAPEST (Reuters) - Michael Schumacher cruised to a record  12th win of the season in the Hungarian Grand Prix on Sunday to  hand his Ferrari team a sixth successive constructors' title.\",\n",
       " \"Nearly 10 Million Afghans to Embrace Democracy (Reuters) Reuters - Thousands of U.S. troops in Afghanistan\\\\may have failed to catch Osama bin Laden but they are credited\\\\with encouraging millions of Afghans to register for the\\\\country's historic election in October.\",\n",
       " \"Mortars Mark Opening of Iraqi Political Conference (Reuters) Reuters - Insurgents fired mortars at a meeting\\\\where Iraqi leaders met to pick an interim national assembly\\\\Sunday, killing at least two people in a grim reminder of the\\\\country's tortuous path toward democracy.\",\n",
       " \"Conference Gives Iraq Democracy First Test (AP) AP - Despite the steady clang of mortar shells outside and persistent violence in the country, many delegates at the opening on Sunday of Iraq's National Conference held out hope that this first fragile taste of democracy would succeed.\",\n",
       " 'Countries Run Drills for Panana Attack (AP) AP - The U.S. Coast Guard boarded the ship in the choppy Caribbean waters and began counting crew members, but the numbers did not match those given earlier.',\n",
       " \"Police push for surveillance fee on customers' phone, Internet bills (Canadian Press) Canadian Press - OTTAWA (CP) - Canada's police chiefs propose a surcharge of about 25 cents on monthly telephone and Internet bills to cover the cost of tapping into the communications of terrorists and other criminals.\",\n",
       " 'Bush should have tackled reform before naming CIA boss: lawmaker (AFP) AFP - The top Democrat on the House intelligence committee urged fellow lawmakers not to allow confirmation hearings on a new CIA director to derail efforts to overhaul US spy agencies.',\n",
       " \"Venezuelans Rush to Vote in Referendum on Chavez  CARACAS, Venezuela (Reuters) - Venezuelans crowded polling  stations on Sunday to vote on whether to recall left-wing  President Hugo Chavez or back his mandate to govern the world's  No. 5 oil exporter for the next two years.\",\n",
       " 'TV: Iraqi Kidnappers of Iran Envoy Want POWs Freed  TEHRAN (Reuters) - Kidnappers holding an Iranian diplomat  in Iraq will \"punish\" him within 48 hours if Iran does not  release 500 prisoners captured in its 1980-1988 war with Iraq,  Iranian state television said Sunday.',\n",
       " \"Nearly 10 Million Afghans to Embrace Democracy  KABUL (Reuters) - Thousands of U.S. troops in Afghanistan  may have failed to catch Osama bin Laden but they are credited  with encouraging millions of Afghans to register for the  country's historic election in October.\",\n",
       " 'Rebranded Liechtenstein Welcomes Fresh Prince  VADUZ, Liechtenstein (Reuters) - The people of  Liechtenstein ushered in a new era Sunday as the tiny Alpine  principality welcomed a new ruler and sought to shed its image  as a haven for money launderers.',\n",
       " \"France marks the 'other D-Day' Two days of celebrations to honour the Allied veterans who liberated southern France near a climax.\",\n",
       " 'Phish farewell attracts thousands \"Jam band\" Phish play their last gigs together at a special festival in the US which has attracted thousands of fans.',\n",
       " 'Iraq troops move angers S Koreans Clashes with riot police erupt as thousands protest in Seoul against plans to send troops to help US-led forces in Iraq.',\n",
       " \"Bush Surveys Damage in Florida as Toll Is Expected to Mount Hurricane Charley - one of the most powerful storms in the nation's history - caused at least \\\\$20 billion in damage in Florida alone.\",\n",
       " \"Phelps, Rival Thorpe in 200M-Free Semis ATHENS, Greece - Michael Phelps took care of qualifying for the Olympic 200-meter freestyle semifinals Sunday, and then found out he had been added to the American team for the evening's 400 freestyle relay final.    Phelps' rivals Ian Thorpe and Pieter van den Hoogenband and teammate Klete Keller were faster than the teenager in the 200 free preliminaries...\",\n",
       " 'Pope Struggles Through Mass at Lourdes LOURDES, France - A sick man among the sick, Pope John Paul II struggled through Sunday Mass at a French shrine that draws desperate people seeking miracle cures. The 84-year-old pontiff gasped, trembled and asked aides for help during the 2 1/2 hour service in sizzling heat...',\n",
       " \"Singh, Leonard in Final Pairing at PGA HAVEN, Wis. - Whistling Straits is suddenly the least of anyone's worries...\",\n",
       " 'Venezuela Voters Turn Out in Huge Numbers CARACAS, Venezuela - Voters turned out in huge numbers Sunday to decide whether to keep populist President Hugo Chavez in power or oust him and his social revolution that critics say has sidelined the middle class and fueled tensions between rich and poor.    Activists on both sides set off huge firecrackers and played recorded bugle songs to wake voters hours before dawn...',\n",
       " 'Reservists Say War Makes Them Lose Jobs WASHINGTON - Increasing numbers of National Guard and Reserve troops who have returned from war in Iraq and Afghanistan are encountering new battles with their civilian employers at home. Jobs were eliminated, benefits reduced and promotions forgotten...',\n",
       " 'Wildfire Sweeps by Old Calif. Mining Town REDDING, Calif. - A wind-fueled wildfire roared through an old mining town near Redding on Sunday, destroying 20 homes and forcing nearly 125 residents to flee, officials said...',\n",
       " 'Charley Damage Estimated at \\\\$11 Billion PUNTA GORDA, Fla. - As Florida residents began sweeping up the wreckage left behind by Hurricane Charley, officials on Sunday estimated damages as high as \\\\$11 billion for insured homes alone...',\n",
       " 'Entertainment World Wary of Microsoft (AP) AP - CinemaNow Inc., the Internet-based movie service, is a rarity in Hollywood  #151; a company that eagerly embraces Microsoft Corp. technology and relies on it exclusively to transmit, protect and display the movies it rents to customers. Then again, Microsoft is a major investor in the company, which is also owned by independent studio Lions Gate.',\n",
       " 'Cat Clones \\\\\\\\From CNN  (which didn\\'t permalink this article so no PageRank for you!):\\\\\\\\\"Baba Ganoush and Tabouli, the first cats cloned by chromatin transfer, tackle a\\\\cat toy in San Francisco Thursday. The technology was developed by Genetic\\\\Savings   Clone, a company that produces cat clones.\"\\\\\\\\',\n",
       " 'US NBA players become the Nightmare Team after epic loss (AFP) AFP - Call them the \"Nightmare Team\".',\n",
       " 'Report: Roenick Paid for Betting Tips (AP) AP - Flyers star Jeremy Roenick paid more than  #36;100,000 to a Florida firm that made millions selling betting tips to gamblers, law enforcement officials told The Philadelphia Inquirer.',\n",
       " 'U.S. Basketball Team Loses to Puerto Rico  ATHENS (Reuters) - The United States lost their first  basketball match at the Olympics since 1988 on Sunday when  Puerto Rico gave them a shock 92-73 trouncing.',\n",
       " \"South Africa Ends Phelps Medal Quest  ATHENS (Reuters) - South Africa ruined Michael Phelps's  dream of winning a record eight gold medals at the Athens  Olympics with a stunning victory in the men's 4x100 meters  freestyle final on Sunday.\",\n",
       " 'Iran Snub to Israel Challenges IOC  ATHENS (Reuters) - Iran defied the Olympic spirit on Sunday  by refusing to contest a judo bout with an Israeli at the  Athens Games, making no effort to hide the fact it was putting  solidarity with the Palestinians before gold medals.',\n",
       " \"Romanian Gymnasts Edge Ahead of U.S. Women  ATHENS (Reuters) - Daniela Sofronie displayed all her  athleticism to edge Romania ahead of the United States in the  Olympic women's gymnastics team qualifying Sunday.\",\n",
       " 'Roenick Paid for Betting Tips Flyers center Jeremy Roenick paid more than \\\\$100,000 to a Florida firm that made millions selling betting tips to gamblers, law enforcement officials told The Philadelphia Inquirer.',\n",
       " 'Parks Canada protest greets prime minister at closing of Acadian Congress (Canadian Press) Canadian Press - GRAND PRE, N.S. (CP) - Prime Minister Paul Martin was met with a silent protest Sunday as he attended the closing of the World Acadian Congress in Nova Scotia.',\n",
       " \"Palestinians in Israeli Jails Start Hunger Strike  RAMALLAH, West Bank (Reuters) - Thousands of Palestinian  prisoners in Israeli jails began a hunger strike for better  conditions on Sunday, but Israel's security minister said he  didn't care if they starved to death.\",\n",
       " 'Frail Pope Ends Tiring Lourdes Pilgrimage  LOURDES, France (Reuters) - Pope John Paul, a sick man  among the sick, wound up a emotional visit to this miracle  shrine Sunday and struggled with iron determination to finish a  sermon in order to encourage others suffering around him.',\n",
       " 'No Gold for Phelps As Relay Team Falters ATHENS, Greece - Mark Spitz can rest easy. The best Michael Phelps can do is win seven gold medals at these Olympics...',\n",
       " \"Dream Team Stunned by Puerto Rico 92-73 ATHENS, Greece - In an upset that was as historic as it was inevitable, the U.S. men's basketball team lost for only the third time ever in the Olympics on Sunday, 92-73 to Puerto Rico...\",\n",
       " \"Roddick, Venus, Navratilova Win Openers (AP) AP - Bothered more by the wind and her wrist wrap than her opponent, defending gold medalist Venus Williams overpowered Melinda Czink of Hungary 6-1, 6-2 in the opening match of the Athens Games' tennis tournament. Andy Roddick made his Olympic debut with a 6-3, 7-6 (4) victory over Flavio Saretta of Brazil, swatting 12 aces and 16 service winners.\",\n",
       " 'American Duo Wins Opening Beach Volleyball Match  ATHENS (Reuters) - American Misty May gave team mate Kerri  Walsh an ideal 26th birthday present with an easy victory over  Japan in their opening match of the Olympics beach volleyball  tournament on Sunday.',\n",
       " \"Puerto Rico Upsets United States Men The United States men's basketball team lost to Puerto Rico, 92-73. The loss could put the American gold medal hopes in jeopardy.\",\n",
       " \"Venezuelans Throng to Polls in Chavez Referendum  CARACAS, Venezuela (Reuters) - Venezuelans crowded polling  stations on Sunday to vote on whether to recall left-wing  President Hugo Chavez or back his mandate to govern the world's  No. 5 oil exporter for the next two years.\",\n",
       " \"Schumacher Triumphs as Ferrari Seals Formula One Title  BUDAPEST (Reuters) - Michael Schumacher cruised to a record  12th win of the season in the Hungarian Grand Prix on Sunday to  hand his Ferrari team a sixth successive constructors' title.\",\n",
       " 'Pope Struggles Through Mass at Lourdes (AP) AP - A sick man among the sick, Pope John Paul II struggled through Sunday Mass at a French shrine that draws desperate people seeking miracle cures. The 84-year-old pontiff gasped, trembled and asked aides for help during the 2 1/2 hour service in sizzling heat.',\n",
       " 'Nicholls State Fires Football Coach (AP) AP - Nicholls State football coach Daryl Daye was fired Sunday over accusations of academic fraud involving players and an assistant coach. Daye was not implicated in the alleged fraud, but an investigation found he failed to \"maintain proper controls\" of the assistant, the Southland Conference school said.',\n",
       " \"Florida Starts Massive Hurricane Cleanup PUNTA GORDA, Fla. - Residents left homeless by Hurricane Charley's 145 mph winds dug through their ravaged homes on Sunday, sweeping up shattered glass and rescuing what they could as President Bush promised rapid delivery of disaster aid...\",\n",
       " 'Nicky Hilton Marries in Vegas LAS VEGAS - Hotel heiress Nicky Hilton married a New York money manager before dawn Sunday in an impromptu ceremony, according to court filings obtained by The Associated Press.    Hilton, 20, married Todd Andrew Meister, 33, at the Las Vegas Wedding Chapel, according a Clark County marriage license...',\n",
       " 'Election-Year Rate Hike Puzzles Some WASHINGTON - Going against conventional wisdom, the Federal Reserve is raising interest rates in an election year. And it is Fed Chairman Alan Greenspan, a Republican, who is leading the charge even though an incumbent Republican in the White House is facing voter unrest about the state of the economy...',\n",
       " \"Explosions Echo Throughout Najaf NAJAF, Iraq - U.S. tanks and troops rolled back into the center of Najaf and battled with Shiite militants Sunday, reigniting violence in the holy city just as delegates in Baghdad opened a conference meant to be a landmark in the country's movement toward democracy...\",\n",
       " 'Venezuela Voters Turn Out in Huge Numbers CARACAS, Venezuela - Summoned by bugle calls and firecrackers, millions of Venezuelans turned out in unprecedented numbers Sunday to vote on whether to force leftist President Hugo Chavez from office.    Lines snaked for blocks in upscale neighborhoods, where suspicion is high that the leftist leader plans a Cuba-style dictatorship, and in the slums, where support for his \"revolution for the poor\" is fervent...',\n",
       " \"Man Linked to N.J. Gov. Says He's Straight JERUSALEM - The Israeli man at the center of New Jersey Gov. James E...\",\n",
       " \"Iraq Reaches Olympic Soccer Quarterfinals  ATHENS (Reuters) - Iraq's fairytale Olympic run continued  on Sunday when they beat Costa Rica 2-0 to reach the  quarter-finals of the Athens Games.\",\n",
       " \"No Gold for Phelps as Relay Team Falters South Africa won the gold medal Sunday in the men's 400-meter freestyle relay with a world-record time of 3 minutes 13.17 seconds.\",\n",
       " \"I Confess.  I'm a Software Pirate. \\\\\\\\I'm guilty.  I'm a Software Pirate!  Not just one or two copies of DOS but\\\\probably hundreds of thousands of dollars worth of software.\\\\\\\\Growing up my parents didn't have much money.  Certainly not hundred of\\\\thousands of dollars for me to blow on software.  I was curious and had a\\\\passion for computers that I couldn't control.  I simply wanted to learn and\\\\couldn't afford to pay for software.\\\\\\\\Luckily I did this when I was a kid so hopefully I won't be prosecuted.  I also\\\\believe that everything I did was ethical.  I didn't take any money out of the\\\\hands of the software industry and I've already contributed WAY more to the\\\\industry than a few hundred thousand in software sales.\\\\\\\\This is th ...\\\\\\\\\",\n",
       " \"Venezuela Oil Official Predicts Stability (AP) AP - Venezuela's oil industry will enter a new period of stability and growth after Sunday's referendum on Hugo Chavez's presidency, the president of the state-run oil company said Sunday.\",\n",
       " 'Funds: Are Bond Funds Hazardous?  (Clint Willis is a freelance writer who covers mutual funds  for Reuters. Any opinions in the column are solely those of Mr.  Willis.)',\n",
       " \"O's Beat Blue Jays With Eight-Run Eighth (AP) AP - David Newhan tied a career high with four hits, including a go-ahead double in Baltimore's eight-run eighth inning, and the Orioles rallied for an 11-7 victory over the Toronto Blue Jays on Sunday.\",\n",
       " 'Italy on alert after purported Al-Qaeda ultimatum expires (AFP) AFP - Italy was on high alert as a group linked to Al-Qaeda reportedly threatened to attack, singling out Prime Minister Silvio Berlusconi as a target, after the expiry of a deadline for Rome to pull its troops out of Iraq.',\n",
       " \"Edwards Caps Intense Push in Iowa (AP) AP - Capping an intense 10-day competition for Iowa's seven electoral votes, Democratic vice presidential nominee John Edwards accused the Bush administration on Sunday of being captured by drug and insurance interests at the expense of working families.\",\n",
       " 'Two visions of Iraq struggle to take hold Fighting in Najaf threatened to undermine a conference to choose a national assembly.',\n",
       " 'Giants Top Phillies 3-1 to Finish Sweep (AP) AP - Brett Tomko allowed one run in six innings for his first win in nearly a month and helped San Francisco complete a three-game sweep of the Philadelphia Phillies with a 3-1 victory Sunday.',\n",
       " \"South Africa Ends Phelps' Gold Medal Quest  ATHENS (Reuters) - South Africa ruined Michael Phelps's  dream of winning a record eight gold medals in a dramatic and  controversial day of swimming at the Athens Olympics on Sunday.\",\n",
       " 'Johnson Helps D - Backs End Nine - Game Slide NEW YORK (AP) -- Randy Johnson took a four-hitter into the ninth inning to help the Arizona Diamondbacks end a nine-game losing streak Sunday, beating Steve Trachsel and the New York Mets 2-0.',\n",
       " 'Perry Out for Season Eagles running back Bruce Perry will miss his rookie season after dislocating a shoulder in an exhibition game against the New England Patriots.',\n",
       " 'Millions Wait Hours in Venezuela to Vote in Recall Election The unprecedented vote was sluggish as huge crowds lined up at voting booths. Results were not expected until 8 p.m., or later.',\n",
       " 'Leonard Forges Two Clear with Nine to Play at PGA  KOHLER, Wisconsin (Reuters) - American Justin Leonard  stayed on track for his second major title in the U.S. PGA  Championship final round on Sunday, moving two shots clear with  nine holes to play.',\n",
       " '\\'Alien Vs. Predator\\' Smacks Down Rivals LOS ANGELES - Movie-goers were easy prey for a double dose of space invaders. The sci-fi smackdown \"Alien vs...',\n",
       " 'U.S. Men Stunned by Puerto Rico, 92-73 ATHENS, Greece - In an upset as historic as it was inevitable, Tim Duncan, Allen Iverson and the rest of the U.S. basketball team lost 92-73 to Puerto Rico on Sunday, only the third Olympic loss ever for America and its first since adding pros...',\n",
       " \"49ers' Beasley Could Miss Several Weeks (AP) AP - Fullback Fred Beasley could be sidelined until the 49ers' season opener Sept. 12 against the Atlanta Falcons with a high left ankle sprain.\",\n",
       " 'Dodgers Rally in 8th to Defeat Cubs 8-5 (AP) AP - Adrian Beltre and Shawn Green homered, and Steve Finley hit a go-ahead RBI single in the eighth inning as the Los Angeles Dodgers rallied for an 8-5 victory over the Chicago Cubs on Sunday.',\n",
       " 'UN Weighs Situation in Burundi Following Massacre  UNITED NATIONS (Reuters) - The U.N. Security Council met in  emergency session concerning Burundi on Sunday following the  massacre of more than 150 Tutsi Congolese refugees at a camp in  western Burundi.',\n",
       " \"Cold Winters Slow Northeast Hemlock Pest (AP) AP - New England's bitterly cold winters may be hard on people, but they have been even harder on an Asian insect that's threatening to destroy hemlocks, one of the signature trees of the region's forests.\",\n",
       " 'Teen Is First Black National USTA Champion (AP) AP - Scoville Jenkins, a 17-year-old from Atlanta, became the first black to win the 18s singles championship of the U.S. Tennis Association Boys Nationals.',\n",
       " 'Rwanda Troops Start AU Mission in Darfur (Reuters) Reuters - Rwandan troops arrived in\\\\Darfur Sunday as the first foreign force there, mandated to\\\\protect observers monitoring a shaky cease-fire between the\\\\Sudanese government and rebels in the remote western region.',\n",
       " 'Rwanda Troops Start AU Mission in Darfur  EL FASHER, Sudan (Reuters) - Rwandan troops arrived in  Darfur Sunday as the first foreign force there, mandated to  protect observers monitoring a shaky cease-fire between the  Sudanese government and rebels in the remote western region.',\n",
       " 'Marlins Beat Brewers 5-3 in 10 Innings (AP) AP - Luis Castillo tied the score with a ninth-inning single, and pinch-hitter Damion Easley hit a two-run double in the 10th inning that led the Florida Marlins over the Milwaukee Brewers 5-3 Sunday.',\n",
       " \"U.S. Soldiers Battle Shiites in Najaf NAJAF, Iraq - U.S. tanks and troops rolled back into the center of Najaf and battled with Shiite militants Sunday, reigniting violence in the holy city just as delegates in Baghdad opened a conference meant to be a landmark in the country's movement toward democracy...\",\n",
       " 'NL Wrap: Johnson Fans 14 Mets as Arizona Snaps Slide (Reuters) Reuters - Randy Johnson struck out 14 batters in\\\\8 1/3 innings to help the Arizona Diamondbacks end a nine-game\\\\losing streak with a 2-0 win over the New York Mets on Sunday.',\n",
       " 'NL Wrap: Johnson Fans 14 Mets as Arizona Snaps Slide  NEW YORK (Reuters) - Randy Johnson struck out 14 batters in  8 1/3 innings to help the Arizona Diamondbacks end a nine-game  losing streak with a 2-0 win over the New York Mets on Sunday.',\n",
       " 'New U.N. Official Assumes Kosovo Control (AP) AP - The new U.N. administrator for Kosovo took control Sunday of the Serbian province, which has remained deeply divided along ethnic lines since the end of a 1999 war.',\n",
       " 'Venezuelans Line Up to Vote on Chavez CARACAS, Venezuela - Summoned by bugle calls and the detonations of huge firecrackers, Venezuelans turned out in unprecedented numbers Sunday to vote on whether to force leftist President Hugo Chavez from office.    Some lines at polling places extended for 1.25 miles, stunning even veteran election monitors...',\n",
       " 'AL Wrap: Koskie Slugs Homer in 10th as Twins Edge Indians  NEW YORK (Reuters) - Corey Koskie clubbed a two-run homer  in the top of the 10th inning to help the Minnesota Twins hold  on to first place in the American League Central with a 4-2  road win over the Cleveland Indians.',\n",
       " \"Whistling Straits Proves It's Major League Whistling Straits has received magnificent reviews during the P.G.A. Championship, which is currently in a three-man playoff between Justin Leonard, Vijay Singh and Chris DiMarco.\",\n",
       " \"Puerto Rico Stuns U.S. in Opening Round Puerto Rico upsets the United States, 92-73, at the men's basketball preliminaries on Sunday, the first loss at the Games for the three-time defending gold medalists since 1988.\",\n",
       " 'Monday Morning The regular Monday Morning contributors will return to this page next week, as will the weekly poll.',\n",
       " 'Homer Sinks Indians Corey Koskie hit a two-run homer in the 10th inning as the Twins overcame a two-run deficit for a 4-2 win Sunday, giving them a two-game lead over the second-place Indians.',\n",
       " \"Despite Setbacks, Stahl Maintains Healthy Dose of Optimism At 23, pitcher Richard Stahl knows there's still time to impress the Baltimore Orioles' front office. He just needs to stay on the mound long enough.\",\n",
       " 'AL Wrap: Koskie Slugs Homer in 10th as Twins Edge Indians (Reuters) Reuters - Corey Koskie clubbed a two-run homer\\\\in the top of the 10th inning to help the Minnesota Twins hold\\\\on to first place in the American League Central with a 4-2\\\\road win over the Cleveland Indians.',\n",
       " \"Venezuela Voters Crowd Polls in Chavez Referendum  CARACAS, Venezuela (Reuters) - Venezuelans crowded polling  stations on Sunday to vote on whether to recall left-wing  President Hugo Chavez or back his mandate to govern the world's  No. 5 oil exporter for the next two years.\",\n",
       " \"Device 'may aid kidney dialysis' Scientists are developing a device which could improve the lives of kidney dialysis patients.\",\n",
       " 'Shippers: Venezuela Oil Unfazed by Poll  CARACAS, Venezuela (Reuters) - Oil exports by Venezuela  have not been disturbed by the referendum on the rule of  President Hugo Chavez, shipping sources said late Sunday.',\n",
       " 'Singh Wins PGA Championship in Playoff (AP) AP - The only birdie Vijay Singh made all day was the only one that mattered. All but counted out of the PGA Championship with a putter that failed him, Singh took advantage of a late collapse by Justin Leonard to get into a three-way playoff Sunday at Whistling Straits, then made the only birdie over the three extra holes to win the final major of the year.',\n",
       " 'Singh Snares PGA Title Vijay Singh outlasts Justin Leonard and Chris DiMarco in a three-way playoff to win the PGA Championship on Sunday at Whistling Straits in Haven, Wisconsin.',\n",
       " \"U.S. Battles Shiites in Iraqi Holy City (AP) AP - U.S. tanks and troops rolled back into the center of Najaf and battled with Shiite militants Sunday, reigniting violence in the holy city just as delegates in Baghdad opened a conference meant to be a landmark in the country's movement toward democracy.\",\n",
       " \"Rumsfeld Briefs Russia on Shift of Forces WASHINGTON - Defense Secretary Donald Rumsfeld briefed his Russian counterpart over the weekend on U.S. plans to shift its forces stationed around the globe, in some cases potentially bringing them closer to Russia's borders...\",\n",
       " \"China's Panchen Lama visits Tibet The boy named by the Chinese authorities as the 11th Panchen Lama visits a temple in Tibet.\",\n",
       " \"DiMarco, Riley Play Way Into Ryder Cup (AP) AP - Chris DiMarco and Chris Riley faced knee-knocking pressure in the last round of the PGA Championship. And what did they get for their efforts? More of the same. DiMarco and Riley played themselves into the pressure-packed Ryder Cup with their performances Sunday in the year's final major. DiMarco finished second after a three-man, three-hole playoff and Riley was fourth  #151; good enough to knock Jay Haas and Steve Flesch out of the top 10 in the Ryder Cup point standings.\",\n",
       " 'Bomb Kills 16 During Indian Celebration A powerful bomb killed at least 16 people, many of them schoolchildren, and wounded about 40 others as they assembled for an Independence Day parade Sunday in the northeastern state of Assam, authorities said.',\n",
       " 'Shippers: Venezuela Oil Unfazed by Poll (Reuters) Reuters - Oil exports by Venezuela\\\\have not been disturbed by the referendum on the rule of\\\\President Hugo Chavez, shipping sources said late Sunday.',\n",
       " \"Phelps' Quest to Win 8 Gold Medals Ends (AP) AP - Michael Phelps surely didn't bargain for this. His quest to win eight gold medals is over, doomed by America's worst showing in the 400-meter freestyle relay. Gary Hall Jr. is ticked off. And now comes the toughest race of all against Ian Thorpe. Not exactly what Phelps had in mind when he decided to challenge Mark Spitz.\",\n",
       " 'Nhleko Scores As Burn Beat MetroStars 1-0 (AP) AP - Reserve forward Toni Nhleko knocked in a header one minute into stoppage time, leading the Dallas Burn to a 1-0 victory over the first-place MetroStars on Sunday.',\n",
       " \"Rwandan troops arrive in Darfur as president vows force to protect civilians (Canadian Press) Canadian Press - AL-FASHER, Sudan (AP) - Dozens of Rwandan soldiers arrived in Sudan's troubled Darfur region Sunday, the first foreign armed force deployed in the area since Arab militiamen began a rampage against black African farmers, killing thousands.\",\n",
       " 'Dollar Falls to Fresh Low Vs Euro (Reuters) Reuters - The dollar fell to a fresh four-week low\\\\versus the euro on Monday after a widening of the U.S. trade\\\\gap to record levels raised worries about capital inflows in\\\\the United States and a possible slowdown in the economy.',\n",
       " \"Nikkei Falls Over 1 Pct on Oil Worries  TOKYO (Reuters) - Tokyo's Nikkei fell more than one percent  by mid-morning on Monday as investors stepped up selling of  exporters such as Toyota Motor Corp. amid growing fears of the  impact of surging oil prices on the global economy.\",\n",
       " \"The Region's Highest-Paid Executives Pay for the Washington area's top executives rose significantly last year, reversing the downward trend that set in with the recession in 2001.\",\n",
       " \"As XM Stock Recovered, Executives' Pay Modest Thanks to the SEC, shareholders now get a long-term picture of how their stock is doing, which helps in evaluating executive pay.\",\n",
       " 'Lucrative Cash Package Came as Fairchild Reported \\\\$53.2 Million Loss  For Jeffrey J. Steiner, chairman and chief executive of Fairchild Corp., nearly \\\\$2.5 million in salary last year was just the beginning.',\n",
       " \"Board Members, Executives and Family Members Can Still Benefit  Many of Corporate Washington's executives and board members have side deals with the companies they oversee.\",\n",
       " 'Survey Estimates Values of Options, Excludes Exercises Figuring out how much executives get paid can be like predicting the weather -- an inexact science.',\n",
       " 'Government Spending Up Sharply Locally  Federal procurement spending in the Washington area rose last year at its highest rate since the 1980s, according to a study to be released today, creating tens of thousands of jobs and increasing economic growth disproportionately in Northern Virginia.',\n",
       " \"Woods Comes Up Empty, but Still No. 1 (AP) AP - Tiger Woods came up empty in a major again, but he's still the No. 1 ranked player in the world.\",\n",
       " \"Tennessee Tech's Worrell Extends Contract (AP) AP - Longtime Tennessee Tech women's basketball coach Bill Worrell has agreed to a new three-year contract with the option for three more years, the school announced Sunday.\",\n",
       " \"Brad Ott Gets First Nationwide Victory (AP) AP - Brad Ott shot an 8-under 64 on Sunday to win the Nationwide Tour's Price Cutter Charity Championship for his first Nationwide victory.\",\n",
       " \"Snow Storms Blanket Southern New Zealand (AP) AP - Snow storms isolated New Zealand's fourth biggest city of Dunedin on Monday, closing major roads, shutting schools and factories, and freezing newborn lambs.\",\n",
       " \"Swimming showdown Ian Thorpe and Michael Phelps will chase gold in the men's 200m freestyle on day three of the Olympics.\",\n",
       " 'Puerto Rico Stuns Dream Team, 92-73 ATHENS, Greece - In an upset as historic as it was inevitable, Tim Duncan, Allen Iverson and the rest of the U.S. basketball team lost 92-73 to Puerto Rico on Sunday, only the third Olympic loss ever for America and its first since adding pros...',\n",
       " \"Scrimmage Gets Ugly Ralph Friedgen used a four-letter word to describe his Maryland team's offensive performance in Sunday's practice: blah.\",\n",
       " 'Schumacher Sets Mark Michael Schumacher won the Hungarian Grand Prix Sunday in Budapest, setting yet another record by becoming the first Formula One driver with 12 victories in a season.',\n",
       " 'Business Is Business When it comes to qualifying for the main draw of the Legg Mason Tennis Classic, Robert Kendrick knows that survival takes precedence and friendships are put on hold.',\n",
       " 'Iraqi Conference on Election Plan Sinks Into Chaos The conference was thrown into disorder by delegates staging protests against the U.S.-led military operation in Najaf.',\n",
       " 'F.B.I. Goes Knocking for Political Troublemakers The F.B.I. has been questioning demonstrators in an effort to forestall violent protests at the Republican National Convention.',\n",
       " \"Nikkei Falls Over 1 Pct on Oil Worries (Reuters) Reuters - Tokyo's Nikkei fell more than one percent\\\\by mid-morning on Monday as investors stepped up selling of\\\\exporters such as Toyota Motor Corp. amid growing fears of the\\\\impact of surging oil prices on the global economy.\",\n",
       " \"Falcons' Kerney Sprains Knee in Practice (AP) AP - Atlanta Falcons defensive end Patrick Kerney sprained his right knee in practice on Sunday when a lineman rolled on his leg.\",\n",
       " 'McGahee Helps Bills Beat Broncos 16-6 (AP) AP - This is what everyone was waiting for from Willis McGahee. After 19 months of recuperation and countless questions about the strength of his left knee, the Buffalo Bills running back finally provided some answers. McGahee had the go-ahead score on a 1-yard run in his NFL preseason debut, helping the Bills to a 16-6 win over the Denver Broncos on Sunday.',\n",
       " \"Tropical Storm Earl Hits Caribbean Isles ST. GEORGE'S, Grenada - Tropical Storm Earl unleashed heavy rains and violent winds that felled trees and ripped off roofs Sunday in the eastern Caribbean, while hundreds of people sought refuge in shelters...\",\n",
       " 'Report: Michael Jackson Not \\'Manhandled\\' LOS ANGELES - The state attorney general\\'s office has concluded that Michael Jackson was not \"manhandled\" by sheriff\\'s deputies who took him into custody last year on child molestation charges, CBS News reported Sunday.    The findings were contained in a three-page letter Martin A...',\n",
       " 'Democrats Pressure McGreevey to Leave Soon TRENTON, N.J. - High-level New Jersey Democrats said Sunday that pressure is building among members of Gov...',\n",
       " \"Bush Vows Rapid Aid to Hurricane Victims PUNTA GORDA, Fla. - Residents left homeless by Hurricane Charley's 145 mph winds dug through their ravaged homes on Sunday, sweeping up shattered glass and rescuing what they could as President Bush promised rapid delivery of disaster aid...\",\n",
       " \"Nikkei Down at Midday on Oil Worries  TOKYO (Reuters) - Tokyo's Nikkei fell 1.66 percent by  midday on Monday, extending losses into a third day as growing  fears about the impact of surging oil prices on the global  economy hit exporters such as Toyota Motor Corp.\",\n",
       " \"Dell Exits Low-End China Consumer PC Market (Reuters) Reuters - Dell Inc. (DELL.O), the world's\\\\largest PC maker, said on Monday it has left the low-end\\\\consumer PC market in China and cut its overall growth target\\\\for the country this year due to stiff competition in the\\\\segment.\",\n",
       " 'Singh Wins Playoff and P.G.A. Title Several players outplayed Vijay Singh on Sunday, but nobody outlasted him at the 86th P.G.A. Championship.',\n",
       " \"Caterpillar Union Rejects Contract Offer  CHICAGO (Reuters) - United Auto Workers (UAW) said its  members at Caterpillar Inc on Sunday voted to reject the  construction equipment maker's contract proposal, the second  time this year workers have voted against a Caterpillar  contract offer.\",\n",
       " 'NYMEX Crude Hits Record \\\\$46.76  SINGAPORE (Reuters) - NYMEX crude oil futures &lt;CLc1&gt; hit a  new record of \\\\$46.76 on Monday on worries about possible unrest  and disruption to oil supply as Venezuelans voted in a  referendum on whether to recall President Hugo Chavez.',\n",
       " \"Singh Wins Playoff to Seize Third Major Title  KOHLER, Wisconsin (Reuters) - Fiji's Vijay Singh held his  composure to win the 86th U.S. PGA Championship in a three-way  playoff on Sunday, clinching the third major title of his  career.\",\n",
       " \"South Korea Warns of Possible North Terrorism (Reuters) Reuters - North Korea is threatening to use\\\\terrorism against the South, Seoul's intelligence agency said\\\\in a rare public advisory on Monday, and warned South Korean\\\\citizens in China and Southeast Asia to be on their guard.\",\n",
       " 'Afghans Hail Chance for a Choice BAZARAK, Afghanistan&lt;br&gt;Like virtually every adult in this Panjshir Valley village, Rahmal Beg registered to vote weeks ago. Indeed, popular enthusiasm is so high for the Oct. 9 presidential election -- the first in Afghan history -- that thousands of people in the valley have reportedly...',\n",
       " \"Caterpillar Union Rejects Contract Offer  CHICAGO (Reuters) - The main union at Caterpillar Inc. said  its members voted on Sunday to reject the construction  equipment maker's contract proposal, the second time this year  the workers have voted against an offer.\",\n",
       " \"GM's Made-In-China Cadillacs in Early '05  SHANGHAI (Reuters) - General Motors, the world's largest  automaker, will start selling its first made-in-China Cadillacs  in early 2005 in a market it expects eventually to account for  a fifth of global sales of the luxury brand.\",\n",
       " 'Gas Prices Drop, but Increase Expected CAMARILLO, Calif. - Gas prices have dropped nearly 5 cents in the past three weeks with an increase in supply, but soaring crude oil prices could cause rates to rise again soon, an industry analyst said Sunday...',\n",
       " 'Funk Still Gets Cup Spot Though Fred Funk had been rather morose after missing the cut by a stroke in the 86th PGA Championship on Friday, there was great joy on Sunday.',\n",
       " 'Report: U.S. to Approve Sale of Aegis Ships to Taiwan (Reuters) Reuters - The United States will announce the sale\\\\of four Aegis missile-defense warships to Taiwan next year with\\\\delivery likely to begin in 2011, a newspaper said on Monday.',\n",
       " \"Nikkei Down, Oil Worries Hit Exporters (Reuters) Reuters - Tokyo's Nikkei fell 1.66 percent by\\\\midday on Monday, extending losses into a third day as another\\\\surge in oil prices deepened worries about the global economic\\\\impact and knocked down exporters such as Toyota Motor Corp.\",\n",
       " 'Report: U.S. to Approve Sale of Aegis Ships to Taiwan  TAIPEI (Reuters) - The United States will announce the sale  of four Aegis missile-defense warships to Taiwan next year with  delivery likely to begin in 2011, a newspaper said on Monday.',\n",
       " 'Wal-Mart Tries to Shine Its Image by Supporting Public Broadcasting Wal-Mart, stung by criticism of its business tactics, is working to improve its image by supporting public broadcasting.',\n",
       " 'Muddling Through (or Not): Mid-2004 Update on the Philippines Looks like the Philippines, despite itself, has survived the election without excessive violence, major civil unrest, or untoward People Power eruptions. GMA finally has that elusive electoral mandate, and the air of uncertainty that pervaded Manila in the weeks leading up to the election has given way to (for some) an air of cautious optimism or (for others) resignation that nothing ever changes much in the Philippines and that the strong leadership and fundamental changes needed to save the country are long shots.',\n",
       " 'Unseeded Vaidisova Wins Vancouver Open (AP) AP - Unseeded teenager Nicole Vaidisova defeated American Laura Granville 2-6, 6-4, 6-2 in the final of the Vancouver Open on Sunday.',\n",
       " 'F.B.I. Goes Knocking for Political Troublemakers The F.B.I. has been questioning demonstrators in an effort to forestall violent protests at the Republican convention.',\n",
       " 'Sybase looks ahead to RFID The database and mobile software company is set to reveal details on updates to its flagship products and outline RFID plans.',\n",
       " 'Nanotech funding to grow to \\\\$8.6 billion Spending on research will more than double this year, with a growing amount coming from the private sector.',\n",
       " \"Gateway lands on another retailer's shelves Company is set to sell desktops on CompUSA's shelves, providing more competition for HP.\",\n",
       " 'Cardinals Ride Rolen Scott Rolen homered twice to become the first NL player to reach 100 RBIs this season as the St. Louis Cardinals downed the Atlanta Braves, 10-4, on Sunday night.',\n",
       " 'Braves Hum Along Braves General Manager John Schuerholz shuffled his deck more than usual this past offseason so doubts were high. Such a challenge makes this season all the sweeter.',\n",
       " \"Tibet's Second-Holiest Monk Makes Rare Lhasa Visit (Reuters) Reuters - Tibet's second-holiest monk, the Panchen\\\\Lama, has visited Lhasa on a rare trip to the Himalayan region\\\\by the living Buddha, whose selection in 1995 was marred by\\\\controversy after the exiled Dalai Lama chose another boy.\",\n",
       " 'Greek duo could miss drugs hearing Kostas Kenteris and Katerina Thanou may not be fit enough to attend the hearing into their missed drugs test.',\n",
       " 'Package prompts US embassy alert An unidentified substance  sent to the US embassy in the Malaysian capital Kuala Lumpur leads to a security scare. ',\n",
       " \"Don't Fear Internet Anonymity Tools (Ziff Davis) Ziff Davis - There are lots of good reasons for 'net anonymity.\",\n",
       " \"Time Is Now for Linux Vendors to Protect Users (Ziff Davis) Ziff Davis - Opinion: It's time for other Linux vendors to follow Red Hat's lead and offer patent infringement protection to their customers.\",\n",
       " \"Self-Healing Tech Could Boost IBM's Yield (Ziff Davis) Ziff Davis - Designed to let processors adjust themselves dynamically in response to problems or systems demands without human intervention, the chip-morphing technology could help IBM  keep up with demand for good chips.\",\n",
       " 'Emergency defers Maldives debate A parliamentary session due to have begun on Monday in the Maldives has been postponed indefinitely.',\n",
       " \"Tigers reject Sri Lanka counter proposal to revive talks (AFP) AFP - Sri Lanka's Tamil Tiger rebels said they will spurn any new government proposals to revive peace talks not giving them self-rule as peacebroker Norway was set to try to jumpstart the negotiations.\",\n",
       " \"In Google's Auction, It's Not Easy to Tell a Bid From a Bet In a competition combining suspense and strategy, countless brave souls are hoping to buy a small piece of Google in an auction this week.\",\n",
       " 'Suspicious Powder Found at U.S. Embassy in Malaysia  KUALA LUMPUR (Reuters) - Suspicious white powder has been  found in an envelope that arrived at the U.S. embassy in  Malaysia and three staff members quarantined, an embassy  official and police said on Monday.  \"A letter was delivered that had a suspicious powder in it,\"  said an embassy spokesman in Kuala Lumpur. \"The powder is being  sent for testing.\"',\n",
       " \"Nikkei Hits 3-Mth Closing Low  TOKYO (Reuters) - Tokyo's Nikkei average fell 0.65 percent  to a fresh three-month closing low on Monday as crude oil  prices again hit record highs in Asian trading hours, clouding  the outlook for the global economy.\",\n",
       " 'DiMarco, Riley Get on Ryder Cup Team (AP) AP - Hal Sutton had a good idea what kind of U.S. team he would take to the Ryder Cup. All that changed in the final round of the PGA Championship.',\n",
       " 'Chinese dig for villagers buried under landslides after deadly typhoon (Canadian Press) Canadian Press - SHANGHAI, China (AP) - Villagers in an eastern province dug with farm tools Monday to search for 24 people missing in massive landslides unleashed by Typhoon Rananim, which has already been blamed for 115 deaths and is the worst such storm to hit China in seven years.',\n",
       " 'Americans appear in Kabul trial The second hearing in the trial of three Americans accused of torture and running a jail begins in Kabul.',\n",
       " \"Stocks Fall as Oil Hits High  SINGAPORE (Reuters) - Exporters led a fall in Asian shares  on Monday as oil prices set new highs near \\\\$47 and data showing  the U.S. trade deficit widened to a record raised fresh concern  about the health of the world's largest economy.\",\n",
       " \"Stocks Fall as Oil Hits High (Reuters) Reuters - Exporters led a fall in Asian shares\\\\on Monday as oil prices set new highs near  #36;47 and data showing\\\\the U.S. trade deficit widened to a record raised fresh concern\\\\about the health of the world's largest economy.\",\n",
       " 'Israel Turns Up Heat on Palestinian Hunger Strike (Reuters) Reuters - Israel declared psychological war on\\\\hunger-striking Palestinian prisoners on Monday, saying it\\\\would barbecue meat outside their cells to try to break their\\\\will.',\n",
       " \"Two Chinese salesman gunned down in Thailand's restive south (AFP) AFP - Two Chinese travelling salesmen have been gunned down in southern Thailand as part of separatist violence which has claimed more than 275 lives since the start of the year, officials said.\",\n",
       " 'Israel Turns Up Heat on Palestinian Hunger Strike  JERUSALEM (Reuters) - Israel declared psychological war on  hunger-striking Palestinian prisoners on Monday, saying it  would barbecue meat outside their cells to try to break their  will.',\n",
       " 'Iranian economic reform falters The Iranian parliament votes against key parts of a reform plan aimed at opening the economy to foreign investment.',\n",
       " \"Space-age sport  GPS is invading recreational sports. Under clear skies, those signals beaming to earth from satellites can find you on a hilly running trail, in a kayak on the ocean, or on a green fairway where you're trying to fade a 230-yard drive into the wind.\",\n",
       " 'Eyes tired? Musical alerts ease computer user #146;s day What was the last sound your computer made? It may have emitted a chime when e-mail arrived, or a heraldic swish when you started up Windows.',\n",
       " 'As money-raisers, 2004 #146;s initial offerings fall short When Inhibitex Inc. set the terms of its initial public offering in March, it thought it was being conservative, expecting shares to sell for \\\\$10 to \\\\$12 apiece.',\n",
       " 'Internet publishing attracting academics BALTIMORE -- Manuel Llinas knew his career was at stake. The young scientist had just finished work on an eye-catching paper on the genome of a parasite that causes malaria. Now he and his lab director faced a critical decision: where to submit the article for publication.',\n",
       " \"Computers with multiple personalities The jury's still out on whether a computer can ever truly be intelligent, but there's no question that it can have multiple personalities. It's just a matter of software.\",\n",
       " \"Paint it bleak If the Rolling Stones were hired to write the theme song for this year's Red Sox, the group might overhaul one of their classics. Instead of  quot;Satisfaction, quot; they could go with  quot;Separation. quot; That's because no matter how hard they try, the Sox can't get no separation in their quest for the top spot in the wild-card race.\",\n",
       " \"He #146;s not short on confidence It's a case he could have made more convincingly with something other than a half-swing tapper to the pitcher for the final out of yet another in a seemingly endless series of one-run losses for the Red Sox. But Orlando Cabrera wants fans to believe this: For all the futile swings he has made in his two-week incarnation as a ...\",\n",
       " \"Pronger opts out of World Cup Names Chris Pronger of the St. Louis Blues pulled out of the World Cup of Hockey yesterday with an undisclosed injury, and was replaced on the Canadian team by Jay Bouwmeester of the Florida Panthers. Pronger's decision comes less than a week before the Canadian team opens training camp. The team will practice for the first time Friday in Ottawa. ...\",\n",
       " 'Giants finish off Phillies Brett Tomko allowed one run in six innings for his first win in nearly a month, and the San Francisco Giants closed in on the wild-card lead with a 3-1 victory over the Phillies yesterday in Philadelphia, completing a three-game sweep.',\n",
       " 'Texas goes wild The Red Sox have company atop the wild-card standings. In Arlington, Texas, Laynce Nix homered and drove in three runs, including a tiebreaking sacrifice fly, and the Rangers beat the Tampa Bay Devil Rays, 6-2, yesterday to sweep the three-game series.',\n",
       " \"49ers #146; Beasley out till opener The cheers went up the instant Willis McGahee took the field. How's that for pressure?\",\n",
       " \"At least Light #146;s sense of humor still intact FOXBOROUGH -- Matt Light lost his appendix this summer and, as a result, quite a few pounds, but he didn't lose one ounce of his wit.\",\n",
       " \"Dorman #146;s been dandy of late Revolution coach Steve Nicol is not taking credit for the emergence of Andy Dorman. But Nicol's tactical moves helped place Dorman in a position to score his first two goals as a professional, in the final seconds of a 3-0 win at Dallas Wednesday and on his first touch of Saturday night's game at D.C. United for the Revolution's second ...\",\n",
       " 'Sudan refugees report new attacks More Sudanese refugees flee across the border into Chad following reports of renewed violence in the Darfur region.',\n",
       " 'Bomb at parade in India leaves 16 dead, 40 hurt NEW DELHI -- A powerful bomb killed at least 16 people, many of them schoolchildren, and wounded about 40 others as they assembled for an Independence Day parade yesterday in the northeastern state of Assam, authorities said.',\n",
       " \"Israeli speaks out on McGreevey JERUSALEM -- The Israeli man at the center of the resignation of New Jersey's governor, James E. McGreevey, over a gay affair said in an interview published yesterday that he is straight and had no idea at first that his boss is homosexual.\",\n",
       " 'France remembers WWII Riviera mission ABOARD THE CHARLES DE GAULLE -- France yesterday honored soldiers, including tens of thousands of Africans, who staged an assault on the French Riviera 60 years ago to break the Nazi grip -- one of the least-remembered military operations of World War II.',\n",
       " 'Pope struggles at shrine Mass LOURDES, France -- A sick man among the sick, Pope John Paul II struggled yesterday through Sunday Mass at a French shrine that draws desperate people seeking miracle cures. The 84-year-old pontiff gasped, trembled, and asked aides for help during the 2-hour service in the sizzling heat.',\n",
       " 'Uncertainty as Venezuela Awaits Referendum Result  CARACAS, Venezuela (Reuters) - Three Venezuelan government  ministers said on Monday President Hugo Chavez had easily  survived a referendum on whether to recall him but their  comments conflicted with heavy opposition hints they had won.',\n",
       " \"Watchdog attacks ID card scheme Proposals for identity cards and a population register are opposed by Britain's information watchdog.\",\n",
       " \"Ebookers sees 'encouraging' signs Internet-based holiday company Ebookers says second-quarter loses have been cut compared with the same period a year ago.\",\n",
       " 'Chavez Wins Venezuela Referendum-Official Results (Reuters) Reuters - Venezuelan President Hugo\\\\Chavez has survived a referendum to recall him, according to\\\\results released by electoral authorities on Monday with 94\\\\percent of the vote counted.',\n",
       " \"US embassy in Malaysia in 'anthrax scare' (AFP) AFP - Malaysian emergency services rushed to the tightly-guarded US embassy in Kuala Lumpur after a powder which police said could be anthrax was found in a letter.\",\n",
       " 'UN creates game to tackle hunger A forthcoming video game aims to educate children about the global fight against hunger.',\n",
       " \"Chavez Wins Venezuela Referendum-Preliminary Result  CARACAS, Venezuela (Reuters) - Venezuelan President Hugo  Chavez has survived a referendum to recall him, according to  preliminary results released by the country's top electoral  officer on Monday.\",\n",
       " \"Oil Prices Hit Record (Reuters) Reuters - Oil prices jumped to a new record\\\\high near  #36;47 on Monday with traders on tenterhooks for the\\\\result of Venezuela's weekend referendum and Iraq's exports\\\\again disrupted by a Shi'ite uprising in the south.\",\n",
       " \"They flocked from Games ATHENS -- During yesterday's celebration of the assumption of the Virgin Mary, the Greek orthodox clergy had a stern reminder for the organizers of the Olympic Games: No matter what the advertisements and speeches say about Greece's modern, Western orientation, this country is still the domain of its decidedly traditional, ubiquitous state-sanctioned religion. Speaking over the Byzantine chants of a ...\",\n",
       " \"Ginobili gives Argentina big lift at the buzzer Manu Ginobili's off-balance shot left his hand just a split-second before the final buzzer, dropping through the basket to give Argentina an 83-82 victory over Serbia-Montenegro yesterday on the first day of Olympic men's basketball in Athens.\",\n",
       " 'Stewart spoils upset bid Sports car ace Ron Fellows nearly pulled off what arguably would have been the biggest upset in NASCAR history, finishing second after starting last yesterday at Watkins Glen (N.Y.) International.',\n",
       " \"US eights glide to finals in record times The US men's and women's eights pulled off huge victories in yesterday's Olympic rowing heats, each setting world bests to advance directly to Sunday's finals.\",\n",
       " \"Phelps #146;s quest for 8 golds goes under ATHENS -- The evening began on a down note for the US swimming team, and descended from there. First, world champion Jenny Thompson struggled home fifth in the 100-meter butterfly. Then world record-holder Brendan Hansen was caught by Japan's Kosuke Kitajima in the 100 breaststroke. Finally, the men's 4 x 100 freestyle relay finished third behind South Africa and the ...\",\n",
       " 'Azevedo shot does trick Tony Azevedo whizzed a last-second shot past Croatian goalkeeper Frano Vican to give the American water polo team a 7-6 victory in its tournament opener yesterday.',\n",
       " \"US team kicks over this result ATHENS -- Did Japan's Kosuke Kitajima break the rules when he beat world record-holder Brendan Hansen by 17-100ths of a second in yesterday's Olympic 100-meter breaststroke? Absolutely, insisted Hansen's US teammates, who claimed Kitajima routinely uses the illegal dolphin kick.\",\n",
       " 'Clout shown in rout ATHENS -- When the Olympic softball schedule was released, Lisa Fernandez grabbed a marker and began counting down the days.  quot;This game is always on my calendar, quot; she said.  quot;I have a tremendous history with Australia. quot; And until yesterday, mostly a haunting one.',\n",
       " \"Punching his way forward ATHENS -- There's only room for one Cinderella in a boxing ring. That was the sad lesson Andre Berto learned last night as his long road to the Olympic Games came to an abrupt end at the Peristeri Boxing Hall in his first fight in the welterweight division. First fight, that is, unless you understand what it took for him ...\",\n",
       " \"Fighting rages in South Ossetia Heavy fighting erupts in Georgia's breakaway South Ossetia region, shattering a two-day ceasefire.\",\n",
       " 'Sprint Puts Streaming Media on Phones PCS Vision Multimedia streams faster video plus audio channels to Samsung phone.',\n",
       " 'Phelps, Thorpe Face Dutch Threat  ATHENS (Reuters) - Michael Phelps, one gold won but one of  his eight title chances now lost, takes on Ian Thorpe and  Pieter van den Hoogenband in their long-awaited showdown in the  200 meters freestyle final on Monday.',\n",
       " \"Liechtenstein royals swap power Liechtenstein's Prince Hans-Adam hands over power to his son and invites the whole nation to a garden party.\",\n",
       " \"Venezuelan President Survives Recall Vote CARACAS, Venezuela - President Hugo Chavez appeared to have survived a popular referendum to oust him, according to early results Monday, while Venezuela's opposition swiftly claimed fraud.    Backers of the leftist populist president set off fireworks and began celebrating in the streets of the capital in the pre-dawn darkness upon hearing the news from Francisco Carrasquero, president of the National Elections Council...\",\n",
       " 'Rescue Teams Aid Hurricane Charley Victims PUNTA GORDA, Fla. - Urban rescue teams, insurance adjusters and National Guard troops were scattered across Florida to help residents rally from the brunt of Hurricane Charley, the worst storm to hit the state in a dozen years...',\n",
       " 'Journalist, Translator Missing in Iraq (AP) AP - A French-American journalist has disappeared along with his Iraqi translator in the southern Iraqi city of Nasiriyah, the provincial deputy governor said Monday.',\n",
       " 'Prudential drops bid for S.Korean assest managing firm (AFP) AFP - A consortium led by British insurer Prudential PLC has dropped its bid for a major South Korean state asset managing company.',\n",
       " \"Bush Plans to Withdraw Troops From Abroad (AP) AP - President Bush's plan to call tens of thousands of U.S. troops home from Europe and Asia could gain him election-year applause from military families, but won't ease the strain on soldiers still battling violent factions in Iraq and Afghanistan.\",\n",
       " \"Pair tell of 'Falconio' sighting Two witnesses tell an Australian court they saw UK backpacker Peter Falconio more than a week after he disappeared.\",\n",
       " \"'Virtual' repairs for Cutty Sark Digital models of an historic ship are created as part of its restoration to test if it will survive the process.\",\n",
       " \"Mass. Republicans Eye Kerry's Senate Seat (AP) AP - Massachusetts Republicans, while supportive of President Bush's re-election, are mindful of the opportunity created should John Kerry beat him in November's election: the state's first Senate vacancy in two decades and a chance to break the Democratic monopoly on its 12-member delegation in Congress.\",\n",
       " 'Swatch tax complaint dismissed US officials dismiss claims of tax evasion levelled at watchmaker Swatch by two former employees.',\n",
       " 'Small firms struggle as oil soars Small manufacturers in the UK are struggling in the face of soaring oil prices and higher interest rates, the CBI says.',\n",
       " 'Microsoft takes down SP2 swappers Microsoft is stopping people getting hold of a key security update via net-based file- sharing systems.',\n",
       " 'Symantec Readies Patching Tool ON IPatch monitors, ensures networked Windows systems are current in midsize businesss.',\n",
       " \"Panchen Lama Visits Tibet Capital (AP) AP - The boy chosen by the Chinese government as the reincarnation of the Panchen Lama was greeted warmly by dozens of monks when he visited Tibet's most sacred temple, state television reported, giving rare publicity to one of his appearances.\",\n",
       " \"BearingPoint Wins ID Project at TSA BearingPoint Inc. of McLean won a \\\\$12 million contract from the Transportation Security Administration to begin the third phase in the agency's program to create a standard identification card for U.S. transportation employees.\",\n",
       " 'Government Spending Up Sharply Locally Federal procurement spending in the Washington area rose last year at its highest rate since the 1980s, according to a study to be released today, creating tens of thousands of jobs and increasing economic growth disproportionately in Northern Virginia.',\n",
       " 'Expense Issue Draws Mixed Views From Companies The debate over whether companies should  treat stock options as an expense draws mixed reactions from Washington area businesses, some of which have a lot to lose if the accounting rule changes.',\n",
       " \"Palestinian Prisoners Launch Hunger Strike JERUSALEM - More than a thousand Palestinian prisoners went on a hunger strike to press for better conditions, but Israel responded by tightening inmate restrictions, and a Cabinet minister said he wouldn't care if they starved to death.    About 1,600 prisoners struck on Sunday...\",\n",
       " 'Europe and US in aircraft aid row The European Commission and President George Bush are in a war of words over subsidies given to aircraft makers Airbus and Boeing.',\n",
       " 'Ex-Chess Champion Fischer to Marry Japanese Woman  TOKYO (Reuters) - In a bold gambit worthy of the chess  champion he once was, Bobby Fischer plans to wed a four-time  Japan great in the hope of avoiding deportation home to the  United States, where he is wanted for breaking sanctions.',\n",
       " \"Rogue proteins give yeast an edge Rogue proteins that behave like those linked to vCJD and Alzheimer's can give yeast a survival advantage.\",\n",
       " 'Twins Rally to Beat Indians in 10 Innings (AP) AP - The Minnesota Twins left Cleveland clinging to first place in the AL Central  #151; and already looking ahead to their next showdown with the surprising Indians.',\n",
       " \"Doping-Greek Sprint Duo's Hearing Postponed  ATHENS (Reuters) - Greek sprinters Costas Kenteris and  Katerina Thanou won a two-day reprieve at the Athens Olympics  when a disciplinary hearing investigating their missed drugs  tests was adjourned until Wednesday.\",\n",
       " \"Why cyberscofflaws get off easy CNET News.com's Declan McCullagh explains why convicted virus and worm authors are more likely to do Club Fed than hard time.\",\n",
       " \"Pakistan still supporting Kashmiri rebels: Indian Home Ministry (AFP) AFP - Pakistan continues to support Islamic insurgency in Kashmir and will use militant attacks to influence ongoing peace talks with rival India, India's Home Ministry said in its annual report.\",\n",
       " \"Lowe's Second-Quarter Profit Rises (Reuters) Reuters - Lowe's Cos. (LOW.N), the second-largest\\\\home improvement retailer behind Home Depot Inc. (HD.N), on\\\\Monday said quarterly profit rose, but trailed estimates.\",\n",
       " 'Stocks Seen Little Changed; Oil Weighs  NEW YORK (Reuters) - Stocks are seen opening little changed  on Monday as crude prices remain high, but insurers may dip on  worries about their potential liabilities after a hurricane  struck Florida on Friday.',\n",
       " \"Lowe's Second-Quarter Profit Rises  ATLANTA (Reuters) - Lowe's Cos. &lt;LOW.N&gt;, the second-largest  home improvement retailer behind Home Depot Inc. &lt;HD.N&gt;, on  Monday said quarterly profit rose, but trailed estimates.\",\n",
       " \"Oil Prices Hold Near Record  LONDON (Reuters) - Oil prices simmered near fresh highs  Monday even though early reports of victory for Venezuelan  President Hugo Chavez in a referendum on his rule eased fears  that unrest could upset the country's oil exports.\",\n",
       " 'BA workers approve holiday strike British Airways workers plan to strike for 24 hours during the August Bank Holiday weekend unless a pay row is settled, the GMB union said.',\n",
       " \"Doping Probe of Greeks Staggers Toward Farce  ATHENS (Reuters) - A doping probe that has dogged the host  country's Olympic Games staggered toward farce on Monday when a  hearing involving Greece's two top sprinters was postponed  again.\",\n",
       " \"Lowe's 2Q Earnings Higher on Home Market (AP) AP - Home improvement retailer Lowe's Cos. reported Monday that a robust housing market drove second-quarter earnings higher year-over-year, but results failed to meet Wall Street expectations.\",\n",
       " \"Sri Lanka hit by oil strike Workers at Sri Lanka's main oil company end a two-day strike, held in protest at government plans to sell more of the company.\",\n",
       " 'Internet calls add foreign accent (USATODAY.com) USATODAY.com - In the digital age, the next best thing to being there might be this: a French phone number.',\n",
       " \"FCC mobile spam rule doesn't cover some SMS (MacCentral) MacCentral - A rule prohibiting mobile-phone spam adopted by the U.S. Federal Communications Commission (FCC) earlier this month doesn't prohibit phone-to-phone text messaging, but FCC officials believe the new rule, combined with a 13-year-old law, should protect U.S. mobile phone customers against unsolicited commercial e-mail.\",\n",
       " 'Ky. Professor Looks to Set Up Telescope (AP) AP - A University of Kentucky professor is pushing to set up a telescope in Australia that students could use via the Internet.',\n",
       " \"Survival of software's fittest Darwin may work in the flat enterprise software market--mergers and acquisitions are expected to increase the clout of leading firms.\",\n",
       " 'Playing the convergence game Sony and Microsoft confront consumer apathy as they attempt to turn game consoles into multipurpose entertainment gadgets.',\n",
       " \"Singh Wins Playoff to Seize Third Major Title  KOHLER, Wis. (Reuters) - Fiji's Vijay Singh held his  composure to win the 86th U.S. PGA Championship in a three-way  playoff on Sunday, clinching the third major title of his  career.\",\n",
       " 'Williams Has No Problem Running with Jones  ATHENS (Reuters) - American sprinter Lauryn Williams said  on Monday she would have no problem competing on the same team  as Marion Jones in the Olympic 4x100 meters relay.',\n",
       " \"Moya Tames Olympic Wind and Enqvist; Dementieva Out  ATHENS (Reuters) - Spanish third seed Carlos Moya tamed a  swirling wind and dogged Swedish opponent Thomas Enqvist to  reach the second round of the Olympic men's singles with a 7-6,  6-7, 9-7 victory Monday.\",\n",
       " 'Britain \\'sleepwalking\\' into big-brother state, watchdog warns (AFP) AFP - Britain is \"sleepwalking into a surveillance society\" because of government plans to introduce ID cards and a population register, the nation\\'s information watchdog was quoted as saying.',\n",
       " 'India urges Bangladesh not to kill stray elephants (Reuters) Reuters - Authorities in northeast India urged Bangladesh on Monday not to kill about 100 wild elephants that have strayed across the border and gone on a rampage, killing 13 people and injuring dozens more.',\n",
       " 'Israel Turns Up Heat on Palestinian Hunger Strike  JERUSALEM (Reuters) - Israel declared psychological war on  hunger-striking Palestinian prisoners Monday, saying it would  barbecue meat outside their cells to try to break their will.',\n",
       " 'Cost Cuts Boost Kmart Quarterly Profit (Reuters) Reuters - Kmart Holding Corp. (KMRT.O) on Monday\\\\reported its third consecutive quarterly profit as cost cuts\\\\made up for slumping sales, and its cash pile grew to about\\\\ #36;2.6 billion.',\n",
       " 'Cost Cuts Boost Kmart Quarterly Profit  CHICAGO (Reuters) - Kmart Holding Corp. &lt;KMRT.O&gt; on Monday  reported its third consecutive quarterly profit as cost cuts  made up for slumping sales, and its cash pile grew to about  \\\\$2.6 billion.',\n",
       " 'Wall Street to Open Little Changed  NEW YORK (Reuters) - Wall Street is seen opening little  changed on Monday as crude prices remain high, but insurers may  dip on worries about their potential liabilities after a  hurricane struck Florida on Friday.',\n",
       " 'Sysco Profit Rises; Sales Have Slowed  NEW YORK (Reuters) - Sysco Corp. &lt;SYY.N&gt;, the largest U.S.  distributor of food to restaurants and hospitals, on Monday  said quarterly profit rose as an extra week in the period and  acquisitions helped offset the effects of higher food prices.',\n",
       " \"Lowe's Profit Rises But Trails Estimates  ATLANTA (Reuters) - Lowe's Cos. &lt;LOW.N&gt;, the No. 2 home  improvement retailer behind Home Depot Inc., on Monday reported  an 18 percent increase in second-quarter profit, but results  trailed estimates as sales weakened in June.\",\n",
       " 'Kmart Swings to Second-Quarter Profit (AP) AP - Discount retailer Kmart Holding Corp. reported Monday that the company swung to a profit in the second quarter, but same-store sales were still in decline.',\n",
       " 'Vodafone names former rival as new head of Japanese unit (AFP) AFP - British mobile phone operator Vodafone said it has brought in an executive from Japanese rival NTT DoCoMo to head up its struggling Japanese unit, Vodafone K.K.',\n",
       " \"Cheap Windows comes under fire Microsoft's attempt to win over new users with a cut-down edition of Windows comes in for strong criticism.\",\n",
       " 'Wal-Mart Maintains August Sales Forecast (Reuters) Reuters - Wal-Mart Stores Inc. (WMT.N) on Monday\\\\maintained its August sales forecast and said demand was\\\\particularly strong in the U.S. Southeast last week as people\\\\stocked up on duct tape, rope and water in preparation for\\\\Hurricane Charley.',\n",
       " 'Cost Cuts Help Kmart Post Profit  CHICAGO (Reuters) - Kmart Holding Corp. &lt;KMRT.O&gt; on Monday  reported its third consecutive quarterly profit as cost cuts  made up for slumping sales, and its cash pile grew to about  \\\\$2.6 billion.',\n",
       " \"China's Red Flag Linux to focus on enterprise The company behind China's leading Linux client distribution, Red Flag Software Co. Ltd., is shifting its main focus to its server operating system and enterprise customers, and planning to expand sales overseas, the company's acting president said in an interview on Friday.\",\n",
       " 'Symantec releases patching tool Security company Symantec Corp. plans to announce the release of a patch management product on Monday that it says will enable small and medium-sized businesses (SMBs) to stay on top of software vulnerabilities.',\n",
       " 'Chavez Claims Victory in Referendum on His Rule Venezuelan President Hugo Chavez won backing from 58 percent of voters, with 94 percent of electoral rolls counted, in a referendum on whether to recall him.',\n",
       " \"U.S. Tries to Rebound From Loss in Athens (AP) AP - Greetings from the Olympic men's basketball tournament, where America is tied for last place with Angola, Australia, New Zealand, China and the defending world champions from Serbia-Montenegro.\",\n",
       " 'Olympian on Briton death charge An Olympic sailor is charged with the manslaughter of a Briton who died after being hit by a car in Athens.',\n",
       " 'AccuRev touts software configuration management approach AccuRev on Monday will release an upgrade to its SCM (software configuration management) package that the company argues offers a superior alternative to file-based SCM systems.',\n",
       " \"End of the line for HP's Alpha processor Hewlett-Packard Co. will release the final processor upgrade for its AlphaServer line of Unix servers on Monday.\",\n",
       " \"HP pushes parity for Itanium, PA-RISC servers At its annual HP World user conference in Chicago this week, Hewlett-Packard Co. (HP) will announce a number of enhancements to its HP-UX operating system, designed to narrow the gap between the capabilities of the company's Integrity and HP 9000 servers.\",\n",
       " \"Darfur Displaced Return to 'Live in Fear' of Militia (Reuters) Reuters - Villagers returning to their\\\\homes in Sudan's Darfur region are living in fear of the Arab\\\\militiamen who initially drove them away, the United Nations\\\\said in a report received by Reuters Monday.\",\n",
       " 'Sudan Trying to Keep Darfur Promises-U.N. (Reuters) Reuters - Raids by Sudanese forces and Arab\\\\militiamen have worsened a desperate situation in Darfur,\\\\rights groups say, but the United Nations said Khartoum was\\\\making serious efforts to keep pledges to curb the violence.',\n",
       " \"Darfur Displaced Return to 'Live in Fear' of Militia  KHARTOUM, Sudan (Reuters) - Villagers returning to their  homes in Sudan's Darfur region are living in fear of the Arab  militiamen who initially drove them away, the United Nations  said in a report received by Reuters Monday.\",\n",
       " 'Ex-Chess Champion Fischer to Marry Japanese Woman  TOKYO (Reuters) - In a bold gambit worthy of the chess  champion he once was, Bobby Fischer plans to wed a four-time  Japanese great in the hope of avoiding deportation home to the  United States, where he is wanted for breaking sanctions.',\n",
       " 'Heiress Nicky Hilton Marries in Vegas LAS VEGAS - Nicky Hilton, the hotel heiress and socialite, has tied the knot with her beau in a late-night ceremony, according to court filings obtained by The Associated Press.    Hilton, 20, married New York money manager Todd Andrew Meister, 33, at the Las Vegas Wedding Chapel early Sunday, according a Clark County marriage license...',\n",
       " \"Anarchists' Convention Debates Voting ATHENS, Ohio - A group of anarchists is taking an unusual step to make its political voice heard - going to the polls.    Anarchists generally pride themselves on their rejection of government and its authority...\",\n",
       " 'Allstate Says Charley Could Hurt Results  NEW YORK (Reuters) - Allstate Corp. &lt;ALL.N&gt;, the No. 2 U.S.  home and auto insurer, on Monday said potential losses stemming  from Hurricane Charley could hurt its current results.',\n",
       " 'Hungarian central bank cuts key interest rate by half percentage point (AFP) AFP - The Hungarian central bank cut its benchmark interest rate by 50 basis points from 11.5 percent to 11.0 percent, the bank said in a statement posted on its website.',\n",
       " \"CompUSA Stores to Sell Gateway PCs (Reuters) Reuters - Gateway Inc. (GTW.N), the computer\\\\maker that recently shuttered its chain of 188 stores, will\\\\begin selling its desktops at CompUSA Inc.'s outlets later this\\\\week, the two companies said on Monday.\",\n",
       " \"CompUSA Stores to Sell Gateway PCs  NEW YORK (Reuters) - Gateway Inc. &lt;GTW.N&gt;, the computer  maker that recently shuttered its chain of 188 stores, will  begin selling its desktops at CompUSA Inc.'s outlets later this  week, the two companies said on Monday.\",\n",
       " 'Lebanese shun mobile phones for a day in protest at high costs (AFP) AFP - Lebanese mobile phone users were urged to leave their portable telephones at home or switched off in protest at what is considered one of the costliest services in the world.',\n",
       " 'Forming galaxy cluster captured The Chandra telescope has seen huge gas clouds in space in the act of merging to form a massive galaxy cluster.',\n",
       " 'U.S. Embassy in Malaysia Has Anthrax Scare (AP) AP - Authorities are testing a suspicious powder mailed to the U.S. Embassy in Malaysia to determine whether it is anthrax, officials said Monday after the second such scare at a U.S. mission in Asia within a week.',\n",
       " 'Suspicious Powder Found at U.S. Embassy in Malaysia  KUALA LUMPUR, Malaysia (Reuters) - An envelope containing  suspicious white powder and threats against Americans was  delivered to the U.S. embassy in Malaysia, prompting health  checks on three staff, the embassy and police said Monday.',\n",
       " 'Megawati Defends Achievements Ahead of Vote  JAKARTA (Reuters) - Indonesian President Megawati  Sukarnoputri, trying to maintain momentum in a tight election  battle, said Monday her government had stabilized the economy  and cracked down hard on militants and separatists.',\n",
       " 'Syrian Rights Activist to Be Released Pending Trial  DAMASCUS (Reuters) - A Syrian court has agreed to release  on bail a prominent rights activist who faces trial on charges  of tarnishing the image of the Arab state by publishing false  information, one of his lawyers said Monday.',\n",
       " 'Kmart Posts Profit After Cost Cuts  CHICAGO (Reuters) - Kmart Holding Corp. &lt;KMRT.O&gt; on Monday  reported its third consecutive quarterly profit despite  slumping sales as it cut jobs and reduced advertising and  discounts, boosting its cash pile to \\\\$2.6 billion.',\n",
       " 'LifePoint in \\\\$1.1 Billion Province Deal  NEW YORK (Reuters) - Rural hospital operator LifePoint  Hospitals Inc. &lt;LPNT.O&gt; has agreed to acquire rival Province  Healthcare Co. &lt;PRV.N&gt; for \\\\$1.125 billion in cash and stock to  broaden its geographic reach, the companies said on Monday.',\n",
       " 'Commuter tackles bad train service by starting own railway (AFP) AFP - Grumbling about trains is part of the way of life, but one commuter has decided to do something about it -- by starting his own railway.',\n",
       " 'Israel turns up heat on prisoners Israel launches psychological war against hundreds of Palestinian inmates on hunger strike for better conditions.',\n",
       " 'Czech Coach Hlinka Dies in Car Accident (AP) AP - Czech Republic national ice hockey team coach, and former Pittsburgh Penguins coach, Ivan Hlinka died Monday after sustaining serious injuries in a car crash, an official said.',\n",
       " 'Stocks Set to Open Little Changed  NEW YORK (Reuters) - Wall Street is set to open little  changed on Monday as crude prices remain near their record  highs, but insurers may slip on worries about their potential  liabilities after a hurricane struck Florida on Friday.',\n",
       " 'Wherenet adds biz rules to RFID The first indication that the value of RFID (radio frequency identification) will extend beyond the supply warehouse was shown last week by WhereNet, a provider of wireless location and communications technology.',\n",
       " 'Oracle readies CRM updates Oracle Corp. plans to release the latest version of its CRM (customer relationship management) applications within the next two months, as part of an ongoing update of its E-Business Suite.',\n",
       " 'Grieving families cremate dead after Assam bombing (Reuters) Reuters - Grieving relatives on Monday cremated victims, mostly women and children, of a separatist bombing in northeastern India, while hundreds of angry people rallied against the rising bloodshed.',\n",
       " \"Chechnya marks 'special' birthday The authorities in war-torn Chechnya announce cash gifts for boys born on the slain leader's birthday.\",\n",
       " 'Feedster Includes Kanoodle Ads in RSS Feeds Feedster Includes Kanoodle Ads in RSS Feeds\\\\\\\\Feedster, Inc. today announced the launch of its RSS feed media program. The Company rsquo;s RSS search feeds will soon contain context targeted ads from Kanoodle, Inc., a leading provider of sponsored links for search results and content pages. Alternatively searchers may opt to pay ...',\n",
       " \"Google IPO Continues Despite Playboy Boob Google IPO Continues Despite Playboy Boob\\\\\\\\Google's IPO ran into another problem last week with investors being allowed to start bidding on the company last Friday. Google rsquo;s founders will appear in an upcoming issue of Playboy magazine which will be on the shelves this Friday. Although the interview was apparently held ...\",\n",
       " 'Greek Sprinters Given Two-Day Reprieve  ATHENS (Reuters) - Greek sprinters Costas Kenteris and  Katerina Thanou won a two-day reprieve at the Athens Olympics  Monday so they could appear in person at a disciplinary hearing  into their missed drugs tests and protest their innocence.',\n",
       " \"Sysco Corp.'s 4Q Profit Up 16 Percent Sysco's fiscal fourth-quarter profit rose 16 percent due to an extra week in the quarter, customer-service initiatives and operating efficiency.\",\n",
       " 'Chvez Is Declared the Winner in Venezuela Referendum The president won the backing of 58 percent of voters, officials said, but the opposition said that the government had cheated.',\n",
       " \"Stocks Open Near Flat as Oil Near Record  NEW YORK (Reuters) - U.S. stocks opened little changed on  Monday as crude prices remain near their record highs, but  early reports of victory for the Venezuelan president in a  referendum on his rule eased fears about the country's oil  exports.\",\n",
       " \"Letter, suspicious powder spark anthrax scare at U.S. Embassy in Malaysia (Canadian Press) Canadian Press - KUALA LUMPUR, Malaysia (AP) - Authorities are testing a suspicious powder mailed to the U.S. Embassy in Malaysia to determine whether it's anthrax, officials said Monday. It's the second such scare at a U.S. mission in Asia within a week.\",\n",
       " \"Patriots Sign First-Round Pick Watson (AP) AP - The New England Patriots signed first-round draft pick Benjamin Watson on Monday, ending the tight end's lengthy holdout.\",\n",
       " 'Indonesia urges debt flexibility Indonesia calls on the International Monetary Fund to help reschedule its debts, as figures reveal a slowdown in economic growth.',\n",
       " 'Oil Holds Near Record Level Oil prices fell 23 cents to \\\\$46.35 a barrel after Venezuelan Hugo Chavez won a recall referendum, appeasing worried energy markets.',\n",
       " 'Ride This Gem Amusement park operators have produced volatile results, but this company has stood the test of time.',\n",
       " \"HP Faces New Realities in a 64-Bit World (Ziff Davis) Ziff Davis - The company this week will unveil more programs and technologies designed to ease users of its high-end servers onto its Integrity line, which uses Intel's 64-bit Itanium processor.\",\n",
       " 'EU Extends Microsoft-Time Warner Review (AP) AP - European antitrust regulators said Monday they have extended their review of a deal between Microsoft Corp. and Time Warner Inc. to make anti-piracy software together.',\n",
       " 'Insurers Begin Tallying Charley Losses (Reuters) Reuters - U.S. insurers on Monday predicted that\\\\Hurricane Charley could be the most costly U.S. storm since\\\\Andrew in 1992, with Florida officials initially estimating\\\\economic losses at  #36;15 billion.',\n",
       " 'Google Stays on Track Despite Best Efforts It looks like Google\\'s public stock offering will proceed, no matter how hard the company tries to shoot itself in the foot. Not only that, its unique approach to the IPO game could result in an overhaul of federal securities regulations. &lt;FONT face=\"verdana,MS Sans Serif,arial,helvetica\" size=\"-2\"\\\\ color=\"#666666\"&gt;&lt;B&gt;-washingtonpost.com&lt;/b&gt;&lt;/font&gt;',\n",
       " 'Microsoft lists SP2 conflicts Software giant releases just which programs are having issues with its Service Pack 2 update for Windows XP.',\n",
       " 'Chavez Declares Recall Victory; Foes Claim Fraud  CARACAS, Venezuela (Reuters) - Venezuela\\'s left-wing  President Hugo Chavez on Monday declared victory in a historic  recall referendum on his rule, but his opponents vowed to  challenge vote results they rejected as a \"gigantic fraud.\"',\n",
       " 'Singh Wins PGA Championship in Playoff HAVEN, Wis. - Vijay Singh shot a 4-over 76 to eke into a three-way playoff Sunday, then made his only birdie of the day on the first of three extra holes to beat Justin Leonard and Chris DiMarco in the PGA Championship at Whistling Straits...',\n",
       " 'Crews Rush to Hurricane-Ravaged Florida PUNTA GORDA, Fla. - Urban rescue teams, insurance adjusters and National Guard troops scattered across Florida Monday to help residents rally from the brunt of Hurricane Charley, the worst storm to hit the state in a dozen years...',\n",
       " \"Stocks Higher Despite Soaring Oil Prices NEW YORK - Wall Street shifted higher Monday as bargain hunters shrugged off skyrocketing oil prices and bought shares following an upbeat sales report from Wal-Mart Stores and a bright outlook from Lowe's.    The Dow Jones industrial average was up 84.07, or 0.9 percent, at 9,909.42, after edging 0.1 percent higher last week...\",\n",
       " 'China  Condemns Whistle-Blower A Communist Party whistle-blower who created a national sensation in China by publicly accusing his superiors of tolerating official corruption has been condemned for breaking party rules and ordered to \"do a complete self-examination,\" authorities announced.',\n",
       " 'KMart Posts Profit; Cash Pile Grows  CHICAGO (Reuters) - Kmart Holding Corp. &lt;KMRT.O&gt; on Monday  reported its third consecutive quarterly profit despite  slumping sales as it cut jobs and reduced advertising and  discounts, boosting its cash pile to \\\\$2.6 billion.',\n",
       " 'Thomson Buys Test Provider Capstar  TORONTO (Reuters) - Electronic publisher Thomson Corp.  &lt;TOC.TO&gt; said on Monday it will buy test provider Capstar from  Educational Testing Service, the latest in a string of  acquisitions designed to flesh out its product offerings.',\n",
       " \"Lowe's Reports Increase in Second-Quarter Net Income Lowe's reported a 17.9 percent increase in net income during its second quarter, but results missed Wall Street expectations.\",\n",
       " 'New tool identifies \\'phishy\\' Web sites A new software tool from WholeSecurity Inc. can spot fraudulent Web sites used in online cons known as \"phishing\" scams, according to a statement from the company.',\n",
       " \"Lowe's Net Trails Views, But Shares Rise  ATLANTA (Reuters) - Lowe's Cos. &lt;LOW.N&gt;, the No. 2 home  improvement retailer behind Home Depot Inc., on Monday reported  an 18 percent increase in second-quarter profit, but results  trailed estimates as sales weakened in June.\",\n",
       " \"On the Beastie Boys 'virus' CD &lt;strong&gt;Review&lt;/strong&gt; Does not attempt world domination, but\",\n",
       " \"Briefly: AOL kicks off free fantasy sports roundup Plus: HP partners with 3G gear maker...AMD starts shipping 90-nanometer chips...ABC.com to air on Real's SuperPass.\",\n",
       " \"EC puts off decision on Microsoft, Time Warner deal Regulators could still launch an investigation into the two titans' acquisition of ContentGuard, a digital rights company.\",\n",
       " 'An Olympic Selection of Search Resources The 2004 Summer Olympics are underway in Athens and the web is home to plenty of information that makes watching the games even more interesting. ',\n",
       " 'KMart Posts Profit; Cash Pile Grows (Reuters) Reuters - Kmart Holding Corp. (KMRT.O) on Monday\\\\reported its third consecutive quarterly profit despite\\\\slumping sales as it cut jobs and reduced advertising and\\\\discounts, boosting its cash pile to  #36;2.6 billion.',\n",
       " \"Oil Slips from Record High of \\\\$46.30  LONDON (Reuters) - Oil prices eased from new record highs  on Monday as victory for Venezuelan President Hugo Chavez in a  referendum on his rule eased fears that unrest could upset the  country's oil exports.\",\n",
       " \"Stocks Gain as Oil Prices Ease  NEW YORK (Reuters) - U.S. stocks gained on Monday as oil  prices dipped after reports of victory for the Venezuelan  president in a referendum on his rule eased fears about the  country's oil exports.\",\n",
       " 'News: Technology Already Exists to Stabilize Global Warming Existing technologies could stop the escalation of global warming for 50 years and work on implementing them can begin immediately, according to an analysis by Princeton University scientists.  (Princeton University press release)',\n",
       " 'News: Future Heat Waves: More Severe, More Frequent, and Longer Lasting Heat waves in Chicago, Paris, and elsewhere in North America and Europe will become more intense, more frequent, and longer lasting in the 21st century, according to a new modeling study by two scientists at the National Center for Atmospheric Research (NCAR). (NCAR press release)',\n",
       " 'News: New Hypoxic Event Found Off Oregon Coast For the second time in three years, a hypoxic \"dead zone\" has formed off the central Oregon Coast. It\\'s killing fish, crabs and other marine life and leading researchers to believe that a fundamental change may be taking place in ocean conditions in the northern Pacific Ocean. (Oregon State University press release)',\n",
       " 'HP invokes Adaptive Enterprise mantra Hewlett-Packard will detail enhancements to its virtualization products, the HP-UX 11i Unix operating system, and its AlphaServers this week during its HP World 2004 conference in Chicago.',\n",
       " \"Haas, Cink Join Ryder Cup Team Jay Haas became the second-oldest player to be on the Ryder Cup team, joining Stewart Cink as the two captain's picks Monday for a U.S. team that will try to regain the cup from Europe next month.\",\n",
       " \"American Aphrodite Brooklyn-native Yvette Jarvis is an 'every woman' in Greece: professional basketball player, model, TV and talk show star and Athens councilwoman.\",\n",
       " 'Edwards Appears for Hearing U.S. sprinter Torri Edwards appeared for a hearing on her doping case that will determine whether the reigning 100-meter world champion competes in the Athens Games.',\n",
       " \"Superstar's uncivil behavior is criminal (Chicago Tribune) Chicago Tribune - Pop stars are no strangers to bad behavior. Smashed guitars, ruined hotel rooms--such misdeeds often are chuckled over later, written up in the tabloids, perhaps listed on invoices for damage. Not so in Russia, where the public expects its performers to remember that they walk in Tchaikovsky's footsteps.\",\n",
       " 'Canada must help raise profile of development issues in Africa: Goodale (Canadian Press) Canadian Press - OTTAWA (CP) - Canada intends to return to the forefront on African development issues, beginning with a renewed effort at helping the troubled continent grow out of poverty, says Finance Minister Ralph Goodale.',\n",
       " 'Govt likely to cut oil product duties - official (Reuters) Reuters - The government is expected to slash customs and excise duties on petroleum products in a bid to control inflation without hurting the profitability of oil firms, an oil industry official said on Monday.',\n",
       " 'National pharmacare program would reduce hospital waiting lists: McGuinty (Canadian Press) Canadian Press - TORONTO (CP) - A national pharmacare program funded by the federal  government would indirectly result in shorter waiting lists, Ontario Premier Dalton McGuinty said Monday.',\n",
       " \"Losses and Lessons for Bush and Kerry (Los Angeles Times) Los Angeles Times - They lost at politics at an early age. Since then, they've rarely made the same campaign mistakes twice.\",\n",
       " 'Pakistan Military Plays Down \\'Terror Summit\\' Report  ISLAMABAD (Reuters) - Pakistan\\'s military Monday played  down a report in the latest edition of Time magazine describing  what it called a \"summit of terrorists\" held in March in  lawless tribal areas bordering Afghanistan.',\n",
       " 'Trial on Private Prison in Afghanistan Is Underway Jonathan Keith \"Jack\" Idema, the American accused of running a free-lance anti-terror operation and private prison in Afghanistan, testified in court Monday that he could prove U.S. and Afghan authorities were fully aware of his actions.',\n",
       " \"Bush's Withdrawal Plan Could Draw Votes WASHINGTON - President Bush's plan to call tens of thousands of U.S. troops home from Europe and Asia could gain him election-year applause from military families, but won't ease the strain on soldiers still battling violent factions in Iraq and Afghanistan...\",\n",
       " \"Delegates Urge Al-Sadr to Leave Shrine BAGHDAD, Iraq - Delegates at Iraq's National Conference called Monday for radical Shiite cleric Muqtada al-Sadr to abandon his uprising against U.S. and Iraqi troops and pull his fighters out of a holy shrine in Najaf...\",\n",
       " \"Phelps to Take on Thorpe in Busy Night ATHENS, Greece - Michael Phelps, still smarting after America's upset loss to South Africa in the 400 freestyle relay, returned to the pool Monday and qualified fastest for the Olympic 200-meter butterfly. Phelps' quest to break Mark Spitz's record of seven gold medals at the 1972 Munich Games was dashed with the Americans' bronze medal in the relay Sunday night...\",\n",
       " \"Haas, Cink Selected for Ryder Cup Team MILWAUKEE - Jay Haas became the second-oldest player to be on the Ryder Cup team, joining Stewart Cink as the two captain's picks Monday for a U.S. team that will try to regain the cup from Europe next month...\",\n",
       " 'Florida Hurricane Death Toll Rises to 17 PUNTA GORDA, Fla. - Urban rescue teams, insurance adjusters and National Guard troops scattered across Florida Monday to dig out victims of Hurricane Charley and deliver water and other supplies to thousands of people left homeless...',\n",
       " \"Stocks Sharply Higher on Dip in Oil Prices NEW YORK - A drop in oil prices and upbeat outlooks from Wal-Mart and Lowe's prompted new bargain-hunting on Wall Street Monday, sending stocks sharply higher. The Dow climbed more than 110 points in morning trading...\",\n",
       " \"How to Hire a Financial Planner (The Motley Fool) The Motley Fool - You've got a money question, and the guy in the next cubicle hasn't a clue how to answer. You need trustworthy information. But where to start?\",\n",
       " 'Daimler Nets \\\\$900 Mln Via Hyundai Sale  LONDON/FRANKFURT (Reuters) - DaimlerChrysler said it raised  more than \\\\$900 million by selling its 10.5 percent stake in  Hyundai Motor Co. Ltd. on Monday, a remnant of its dented  ambitions to build a global carmaking empire.',\n",
       " 'AP: Group Discovers John the Baptist Cave (AP) AP - Archaeologists said Monday they have found a cave where they believe John the Baptist anointed many of his disciples  #151; a huge cistern with 28 steps leading to an underground pool of water.',\n",
       " \"Speed Up Saddam's Trial, Allawi Tells Court (Reuters) Reuters - Interim Prime Minister Iyad Allawi\\\\urged an Iraqi court Monday to speed up proceedings against\\\\toppled leader Saddam Hussein and his close aides.\",\n",
       " \"The Internet Is Calling Web phone service is exploding. And maverick Jeffrey Citron lit the industry's fuse\",\n",
       " \"A Stereo with a Brain You can train Bose's new system to play songs you like. Is it worth the price?\",\n",
       " \"The Sponsor Moves In The Days, owned by its advertisers, may boost ABC'S bottom line. But will they control content?\",\n",
       " 'South African telephone monopoly to go ahead with lay-offs despite court ban (AFP) AFP - South African fixed line monopoly Telkom vowed to go ahead with plans to cut 4,000 jobs despite a court injunction forcing the state-run enterprise to seek agreement with the unions.',\n",
       " 'China Typhoon Death Toll Rises; 40 Missing (AP) AP - China raised its official death toll from Typhoon Rananim to at least 147 on Monday, as villagers with farm tools dug through massive landslides searching for 40 people still missing.',\n",
       " \"Speed Up Saddam's Trial, Allawi Tells Court  BAGHDAD (Reuters) - Interim Prime Minister Iyad Allawi  urged an Iraqi court Monday to speed up proceedings against  toppled leader Saddam Hussein and his close aides.\",\n",
       " \"Singer 'may move to French jail' French rock star Bertrand Cantat could return home from Lithuania to complete his jail term for killing his lover.\",\n",
       " 'What is this Man Plotting? A newly revealed summit of terrorists raises fears of a fresh plan to attack the U.S. This bombmaker and pilot could be a key player ',\n",
       " \"Stocks Higher on Oil Price Relief  NEW YORK (Reuters) - U.S. stocks gained on Monday, getting  a boost from lower oil prices after news the Venezuelan  president survived a recall eased fears about the country's oil  exports.\",\n",
       " 'Nanotech Research Spending Seen Reaching  #36;8.6 Bln (Reuters) Reuters - Worldwide research and\\\\development spending in the emerging field of nanotechnology\\\\should rise about 10 percent this year to  #36;8.6 billion, a\\\\research firm said on Monday.',\n",
       " 'Kan. to Move Forward on Dinosaur Exhibit (AP) AP - Concerns about funding and poor attendance will not stop plans to bring a dinosaur exhibit to Science City at Union Station, University of Kansas and Science City officials said.',\n",
       " 'Nanotech Research Spending Seen Reaching \\\\$8.6 Bln  SAN FRANCISCO (Reuters) - Worldwide research and  development spending in the emerging field of nanotechnology  should rise about 10 percent this year to \\\\$8.6 billion, a  research firm said on Monday.',\n",
       " \"Bombs explode at Nepal luxury hotel, no casualties (Reuters) Reuters - A man on a bicycle threw at least four bombs into the compound of a luxury hotel in Nepal's capital on Monday but the blasts caused no casualties, authorities said.\",\n",
       " 'AdWatch: Bush Raps Kerry on Intel Reform (AP) AP - Details of new television ad from President Bush to begin airing Monday:',\n",
       " 'Is 4Kids 4 Investors? 4Kids Entertainment got karate-chopped last week. Can it get back up off the mat?',\n",
       " \"Google: Now Playboy's Latest Bunny (washingtonpost.com) washingtonpost.com - Investors in the company that's trying to come off as cute as a bunny could find themselves holding a fistful of vipers if the founders of Google Inc. continue to chart their erratic course.\",\n",
       " 'Security expert warns computer hackers keeping up with technology (AFP) AFP - Computer hackers are keeping up with the times and are putting an increasingly technology-dependent world at risk, the chairman of leading US-based IT security firm McAfee said.',\n",
       " 'E.U. Extends Review of Anti-Piracy Software Deal European antitrust regulators said Monday they have extended their review of a deal between Microsoft Corp. and Time Warner Inc. to make anti-piracy software together.',\n",
       " \"Bicycle Bomber Attacks Nepal Hotel  KATHMANDU, Nepal (Reuters) - A man on a bicycle threw at  least four bombs into the compound of a luxury hotel in Nepal's  capital Monday but the blasts caused no casualties, authorities  said.\",\n",
       " 'Charley Sends Mobile Home Stocks Soaring  NEW YORK (Reuters) - Shares of mobile home manufacturers  soared on Monday on hopes of increased business after the  destruction Hurricane Charley wreaked in Florida over the  weekend, an analyst said.',\n",
       " 'Windows update causes headaches Games and security programs are on a long list of software that does not work well with the Windows SP2 update.',\n",
       " 'Nanotech Research Spending Seen Reaching \\\\$8.6B Worldwide research and\\\\development spending in the emerging field of nanotechnology\\\\should rise about 10 percent this year to \\\\$8.6 billion, a\\\\research firm said on Monday.',\n",
       " 'Donkey cart beats out Porsche in Portuguese road race (AFP) AFP - A donkey cart beat a Porsche in a race held in a northern Portuguese city over the weekend to see which mode of transportation could best handle car congestion.',\n",
       " 'Sudan army voices opposition to upgrading of African Union mission (AFP) AFP - The Sudanese army expressed opposition to the upgrading of an African Union protection mission newly arrived in the wartorn western region of Darfur into a full-blown peacekeeping force.',\n",
       " \"Stocks Higher on Oil Price Relief (Reuters) Reuters - U.S. stocks gained on Monday, getting\\\\a boost from lower oil prices after news the Venezuelan\\\\president survived a recall eased fears about the country's oil\\\\exports.\",\n",
       " \"Intelsat to Be Bought for  #36;5 Billion (Reuters) Reuters - Intelsat Ltd., the world's\\\\second-largest satellite operator, said on Monday it agreed to\\\\be bought by a consortium of four private equity firms for  #36;5\\\\billion, including assumption of  #36;2 billion of debt.\",\n",
       " \"Intelsat to Be Bought for \\\\$5 Billion  NEW YORK (Reuters) - Intelsat Ltd., the world's  second-largest satellite operator, said on Monday it agreed to  be bought by a consortium of four private equity firms for \\\\$5  billion, including assumption of \\\\$2 billion of debt.\",\n",
       " 'Stamps.com Asks You to Picture This The online postage service offers a chance to put personal pictures on official stamps.',\n",
       " 'Will Schwab Reward Patience? The company saw an improvement in its trades, but will this market be kind to the brokerages?',\n",
       " 'Bacteria Give Coral Its Orange Glow, Study Finds (Reuters) Reuters - The soft orange glow of a common\\\\Caribbean coral comes not from the coral itself but from\\\\bacteria that live inside it, U.S. scientists said on Thursday.',\n",
       " 'HP unveils Unix roadmaps &lt;strong&gt;HP World&lt;/strong&gt; Free Alpha upgrades to stem defections',\n",
       " \"McAfee grabs Foundstone The former plans to team up its intrusion prevention technology with the latter's vulnerability management software.\",\n",
       " \"U.N. Official Urges Political Independence (AP) AP - The United Nations should find ways to demonstrate political independence, regain the neutrality it lost after the Sept. 11 attacks and better communicate with the world's 1 billion Muslims, a top U.N. official said Monday.\",\n",
       " \"Jackson Squares Off With Attorney SANTA MARIA, Calif. - Dozens of Michael Jackson's fans pressed against a chain-link fence outside court Monday, staking out viewing spots hours before the pop star was to arrive to face off against the prosecutor who has pursued him for years on child molestation charges...\",\n",
       " 'AP: Group Discovers John the Baptist Cave KIBBUTZ TZUBA, Israel - Archaeologists said Monday they have found a cave where they believe John the Baptist anointed many of his disciples - a huge cistern with 28 steps leading to an underground pool of water.    During an exclusive tour of the cave by The Associated Press, archaeologists presented wall carvings they said tell the story of the fiery New Testament preacher, as well as a stone they believe was used for ceremonial foot washing...',\n",
       " 'Delegates Urge Al-Sadr to Leave Shrine NAJAF, Iraq - U.S. tanks rolled into the Old City of Najaf toward a holy Shiite shrine where militants were hiding Monday as participants at a national conference voted to send a delegation here to try to negotiate an end to the fighting...',\n",
       " 'Bush Announces Plan for Troop Realignment WASHINGTON - President Bush on Monday announced plans to shift 60,000 to 70,000 U.S. troops who are now stationed in Europe and Asia in one of the largest troop realignments since the end of the Cold War...',\n",
       " \"'SP2' a Must For XP Users (washingtonpost.com) washingtonpost.com - To get an idea of how Windows got to be such a mess, think of it as a house that was built on an island in the middle of a lake, deep in the countryside.\",\n",
       " \"Rough patches for Microsoft's SP2 Windows update doesn't play well with all applications, even Redmond's. Also: CNET Reviews on security work still to be done.\",\n",
       " \"Bryant Defense Wins Ruling In another setback to the prosecution in the Kobe Bryant sexual assault case, the court maintains ruling that allows information about the accuser's sex life into court.\",\n",
       " \"Stocks Up, Oil Price Ease Gives Relief  NEW YORK (Reuters) - U.S. stocks climbed on Monday, getting  a boost from lower oil prices after Venezuela's president  declared he had survived a recall referendum, easing fears  about the country's oil exports.\",\n",
       " 'KMart Posts Profit; Cash Hits \\\\$2.6 Bln  CHICAGO (Reuters) - Kmart Holdings Corp. &lt;A HREF=\"http://www.investor.reuters.com/FullQuote.aspx?ticker=KMRT.O target=/stocks/quickinfo/fullquote\"&gt;KMRT.O&lt;/A&gt; on Monday  reported its third consecutive quarterly profit and boosted its  cash pile to \\\\$2.6 billion as it cut spending on advertising and  discounts, sending its stock up 14 percent.',\n",
       " \"Personal Tech: Cybersecurity Fast Forward columnist Rob Pegoraro will be online to talk about The Washington Post's special cybersecurity report.\",\n",
       " 'PivX hardens Windows with Qwik-Fix Pro PivX Solutions, Inc. of Newport Beach, California, on Monday announced the availability of Qwik-Fix Pro, an intrusion prevention software product for Windows machines that disables or modifies features of Microsoft Corp. Windows and the Internet Explorer (IE) Web browser that are frequent targets of malicious computer hackers and virus writers.',\n",
       " \"No Respite for Microsoft European antitrust regulators extend their review of Microsoft-Time Warner deal. Also: Gateway plans to sell desktops at CompUSA   hellip;. Vodafone's Japanese unit headhunts an executive from rival NTT DoCoMo   hellip;. and more.\",\n",
       " 'Overland Bullish on Tech Investors are dumping tech stocks with abandon. As for Overland Storage, it is a buyer.',\n",
       " 'Plurality of Worlds in the Universe Did the same Greek philosophers who declared the first truce for Olympic competition have the foresight to imagine a universe not just where many countries could coexist, but also a universe occupied by many such habitable worlds?',\n",
       " 'CompUSA Agrees to Sell Gateway PCs (PC World) PC World - Desktop systems will be available in 226 stores across the U.S.',\n",
       " 'Lowe\\'s Reports 18 Pct. Hike in Profits  ATLANTA (Reuters) - Lowe\\'s Cos. &lt;A HREF=\"http://www.investor.reuters.com/FullQuote.aspx?ticker=LOW.N target=/stocks/quickinfo/fullquote\"&gt;LOW.N&lt;/A&gt;, the world\\'s No. 2  home improvement retailer, on Monday reported an 18 percent  increase in second-quarter profit and said earnings for the  rest of the year would top current estimates.',\n",
       " 'Toymakers\\' Stocks Hit Lows on Downgrade  NEW YORK (Reuters) - Shares of top toy maker Mattel Inc.  &lt;A HREF=\"http://www.investor.reuters.com/FullQuote.aspx?ticker=MAT.N target=/stocks/quickinfo/fullquote\"&gt;MAT.N&lt;/A&gt; and rival Hasbro Inc. &lt;A HREF=\"http://www.investor.reuters.com/FullQuote.aspx?ticker=HAS.N target=/stocks/quickinfo/fullquote\"&gt;HAS.N&lt;/A&gt; fell to their lowest  levels at least 14 months on Monday after a downgrade by Lehman  Brothers, which cited deteriorating industry conditions.',\n",
       " 'Microsoft ships updated Works Version 8 of the low-priced productivity package includes a stand-alone dictionary and a PowerPoint add-on.',\n",
       " 'Briefly: FaceTime pulls in \\\\$16 million roundup Plus: Bladed desktop pioneer gets \\\\$25 million...AOL kicks off free fantasy sports...HP partners with 3G gear maker.',\n",
       " \"Microsoft, Time Warner DRM buy on EU review shelf Regulators could still launch an investigation into the two titans' acquisition of ContentGuard this month.\",\n",
       " 'Ex-Polaroid exec takes top finance job at 3Com Donald Halsted, one target of a class-action suit alleging financial improprieties at bankrupt Polaroid, officially becomes CFO.',\n",
       " \"Intel delays first TV chip In another setback, the chipmaker says a processor for large-screen projection TVs won't come out this year.\",\n",
       " 'Sybase upgrades PowerBuilder, plots RFID move Sybase Inc. released a new version of its application development tool on Monday, called PowerBuilder 10, and outlined plans for an upgrade to its database software, Adaptive Server Enterprise, which will go into beta at the end of this month and is due for release next year.',\n",
       " 'Infocus: Detecting Worms and Abnormal Activities with NetFlow, Part 1 This paper discusses the use of NetFlow, a traffic profile monitoring technology available on many routers, for use in the early detection of worms, spammers, and other abnormal network activity in large enterprise networks and service providers.',\n",
       " 'Escobedo Keeps U.S. Unbeaten in Boxing (AP) AP - They washed cars, put up posters and sold T-shirts to raise the money to be here. When it was finally time for Vicente Escobedo to fight, his family and friends welcomed him into the arena by waving his picture and chanting \"Chente, Chente.\"',\n",
       " 'Chronology of Key Events in Kobe Bryant (AP) AP - Timeline of the sexual assault case against Los Angeles Lakers star Kobe Bryant:',\n",
       " 'Blackhawks Re-Sign Defenseman Berard  Chicago, Ill. (Sports Network) - The Chicago Blackhawks  Monday agreed to terms on a one-year contract with defenseman  Bryan Berard. As per team policy, financial terms of the deal  were not disclosed.',\n",
       " 'India makes elephants appeal Indian asks Bangladesh to spare the lives of around 100 elephants which have strayed across the border.',\n",
       " 'Murder search police make arrest Police investigating the murder of newlywed Chanel Taylor make an arrest.',\n",
       " 'Bush Announces Plan to Realign Thousands of Troops President Bush today announced plans to shift 60,000 to 70,000 U.S. troops who are now stationed in Europe and Asia.',\n",
       " 'Bush Announces Plan for Troop Realignment CINCINNATI - President Bush on Monday announced plans to shift as many as 70,000 U.S. troops who are now stationed in Western Europe and Asia in one of the largest realignments since the end of the Cold War...',\n",
       " 'Jackson Squares Off With Attorney SANTA MARIA, Calif. - Fans of Michael Jackson erupted in cheers Monday as the pop star emerged from a double-decker tour bus and went into court for a showdown with the prosecutor who has pursued him for years on child molestation charges...',\n",
       " \"Does That Web Site Look Phishy? (PC World) PC World - WholeSecurity's new software claims to identify fraudulent sites.\",\n",
       " 'Product Review: Nokia 6820 Wireless Messaging Handset (NewsFactor) NewsFactor - The Nokia (NYSE: NOK) 6820 is an ergonomically pleasing handheld device that integrates short text, multimedia and \\\\instant messaging capabilities with all of the features and functions that one normally would expect to find in a dedicated GSM/GPRS cellular phone.',\n",
       " 'Sprint Broadens Its Vision (NewsFactor) NewsFactor - Sprint (NYSE: FON) is taking its mobile-data services to the next level, targeting both consumers and business customers, as the carrier rolls out the Sprint TV multimedia service and adds the popular \\\\BlackBerry e-mail application to its portfolio.',\n",
       " \"Microsoft Lists XP SP2 Problems (NewsFactor) NewsFactor - With automatic download of Microsoft's (Nasdaq: MSFT) enormous SP2 security patch to the Windows XP operating system set to begin, the industry still waits to understand its ramifications. Home users that have their preferences set to receive operating-system updates as they are made available by Microsoft may be surprised to learn that some of the software they already run on their systems could be disabled by SP2 or may run very differently.\",\n",
       " '2 More Turkish Men Taken Hostage in Iraq (AP) AP - Armed assailants attacked a convoy of Turkish trucks delivering supplies to U.S. forces in Iraq and took two Turkish drivers hostage, their company said Monday.',\n",
       " 'Group to Talk Coal-Bed Methane Drilling (AP) AP - Dozens of scientists plan to converge at the University of Wyoming to talk about West Nile virus, water pollution and other issues related to coal-bed methane drilling.',\n",
       " 'FDA Approves New Device to Clear Blood Clots By DIEDTRA HENDERSON    WASHINGTON (AP) -- The first device to remove blood clots from the brains of people suffering strokes - a new treatment option that could save lives and shave the \\\\$53 billion annual bill to treat strokes, has been approved by the government.    In 80 percent of strokes, a blood vessel in the brain becomes clogged by a blood clot, increasing the chance of severe disability or death...',\n",
       " 'Briefly: Sprint to bake in BlackBerry roundup Plus: Microsoft ships updated Works...FaceTime pulls in \\\\$16 million...Bladed desktop pioneer gets \\\\$25 million.',\n",
       " 'Former Polaroid exec takes top finance job at 3Com Donald Halsted, one target of a class action suit alleging financial improprieties at bankrupt Polaroid, officially becomes CFO.',\n",
       " \"Sprint to bake in BlackBerry for businesses Research In Motion's BlackBerry e-mail and data services will be carried on Sprint's networks.\",\n",
       " 'U.S. Stocks Rebound as Oil Prices Ease  NEW YORK (Reuters) - U.S. stocks rebounded on Monday as oil  prices retreated from their highs, while upbeat earnings  announcements from retailers fueled the improved sentiment.',\n",
       " 'Dollar Rises Vs Euro After Asset Data  NEW YORK (Reuters) - The dollar gained against the euro on  Monday after a report on flows into U.S. assets showed enough  of a rise in foreign investments to offset the current account  gap for the month.',\n",
       " 'Bikes Bring Internet to Indian Villagers (AP) AP - For 12-year-old Anju Sharma, hope for a better life arrives in her poor farming village three days a week on a bicycle rickshaw that carries a computer with a high-speed, wireless Internet connection.',\n",
       " \"Celebrity Chefs Are Everywhere in Vegas By ADAM GOLDMAN    LAS VEGAS (AP) -- The waiter appears tableside in the cozy dining room laden with oil paintings, stained glass and hints of cherry and oak. Before reciting the day's special menu items, he recounts the restaurant's devotion to farm-fresh produce and tosses out a morsel about its namesake, chef Bradley Ogden...\",\n",
       " 'Entertainment World Wary of Microsoft Technology By GARY GENTILE    LOS ANGELES (AP) -- CinemaNow Inc., the Internet-based movie service, is a rarity in Hollywood - a company that eagerly embraces Microsoft Corp. (MSFT) technology and relies on it exclusively to transmit, protect and display the movies it rents to customers...',\n",
       " ...]"
      ]
     },
     "execution_count": 122,
     "metadata": {},
     "output_type": "execute_result"
    }
   ],
   "source": [
    "train_data"
   ]
  },
  {
   "cell_type": "code",
   "execution_count": 123,
   "metadata": {},
   "outputs": [],
   "source": [
    "# on text we can fine \\\\ charactors what we don't want\n",
    "# I can add this part on parse function to replace with space\n",
    "# but for now I will replace \\\\ as space\n",
    "train_data = [data.replace(\"\\\\\", \" \") for data in train_data]"
   ]
  },
  {
   "cell_type": "markdown",
   "metadata": {},
   "source": [
    "### Vectorisation\n",
    "\n",
    "On pourra utiliser les stopwords anglais de NLTK. Pour cela :\n",
    "* importer le corpus des stopwords en faisant `from nltk.corpus import stopwords`\n",
    "* si NLTK n'est pas installé, faites-le avec `pip` ; il vous faudra ensuite exécuter, dans un interpréteur python utilisant le même `virtualenv`, la commande `nltk.download()`, et télécharger le corpus `stopwords`.\n",
    "* récupérer dans une liste les stopwords anglais en faisant `stopwords = stopwords.words(\"english\")`"
   ]
  },
  {
   "cell_type": "code",
   "execution_count": 124,
   "metadata": {},
   "outputs": [],
   "source": [
    "# !pip install nltk"
   ]
  },
  {
   "cell_type": "code",
   "execution_count": 125,
   "metadata": {},
   "outputs": [],
   "source": [
    "from nltk.corpus import stopwords\n",
    "\n",
    "# get the stopwords by NLTK and will use instead of stopwords of example\n",
    "stopwords = stopwords.words(\"english\")"
   ]
  },
  {
   "cell_type": "code",
   "execution_count": 126,
   "metadata": {},
   "outputs": [],
   "source": [
    "train_lists = [parse(data) for data in train_data]"
   ]
  },
  {
   "cell_type": "code",
   "execution_count": 127,
   "metadata": {},
   "outputs": [],
   "source": [
    "# vectorization\n",
    "train_matrix, train_feature_names = vectorize(train_lists)"
   ]
  },
  {
   "cell_type": "code",
   "execution_count": 128,
   "metadata": {},
   "outputs": [
    {
     "data": {
      "text/plain": [
       "(120000, 59245)"
      ]
     },
     "execution_count": 128,
     "metadata": {},
     "output_type": "execute_result"
    }
   ],
   "source": [
    "train_matrix.shape"
   ]
  },
  {
   "cell_type": "markdown",
   "metadata": {},
   "source": [
    "### Utilisation de scikit-learn\n",
    "\n",
    "On va utiliser la classe [TruncatedSVD](http://scikit-learn.org/stable/modules/generated/sklearn.decomposition.TruncatedSVD.html#sklearn.decomposition.TruncatedSVD) de scikit-learn, qui fait le calcul de SVD de manière plus rapide.\n",
    "\n",
    "from sklearn.decomposition import TruncatedSVDIl suffit de d'initialiser une instance de la classe et d'appeler la méthode `.fit_transform()` avec notre matrice X en argument."
   ]
  },
  {
   "cell_type": "code",
   "execution_count": 129,
   "metadata": {},
   "outputs": [],
   "source": [
    "from sklearn.decomposition import TruncatedSVD\n",
    "\n",
    "svd_transformer = TruncatedSVD(n_components=200)\n",
    "train_matrix_k = svd_transformer.fit_transform(train_matrix)"
   ]
  },
  {
   "cell_type": "markdown",
   "metadata": {},
   "source": [
    "Comparer la dimension des matrices X et Xk et commenter."
   ]
  },
  {
   "cell_type": "code",
   "execution_count": 130,
   "metadata": {},
   "outputs": [
    {
     "data": {
      "text/plain": [
       "(120000, 59245)"
      ]
     },
     "execution_count": 130,
     "metadata": {},
     "output_type": "execute_result"
    }
   ],
   "source": [
    "train_matrix.shape"
   ]
  },
  {
   "cell_type": "code",
   "execution_count": 131,
   "metadata": {},
   "outputs": [
    {
     "data": {
      "text/plain": [
       "(120000, 200)"
      ]
     },
     "execution_count": 131,
     "metadata": {},
     "output_type": "execute_result"
    }
   ],
   "source": [
    "train_matrix_k.shape"
   ]
  },
  {
   "cell_type": "markdown",
   "metadata": {},
   "source": [
    "`TruncatedSVD` ne renvoit donc qu'une seule matrice $X_k$ au lieu de trois matrices $U_k$, $\\Sigma_k$ et $V_k^\\top$. Ce n'est pas grave car ce qui nous intéresse dans un pipeline de traitement est bien la matrice $X_k$.\n",
    "\n",
    "De plus, on peut passer d'une formulation à l'autre puisque :\n",
    "* $X_k = U_k \\Sigma_k$\n",
    "* les valeurs de la diagonale de $\\Sigma_k$ sont stockées dans le membre `singular_values_` de `TruncatedSVD`\n",
    "* la matrice $V_k^\\top$ est stockée dans le membre `components_` de `TruncatedSVD`\n",
    "\n",
    "Cette différence d'implémentation et d'utilisation est expliquée en détails dans la [documentation de scikit-learn](http://scikit-learn.org/stable/modules/decomposition.html#lsa)."
   ]
  },
  {
   "cell_type": "code",
   "execution_count": 132,
   "metadata": {},
   "outputs": [
    {
     "data": {
      "text/plain": [
       "array([218.0793276 , 158.99968685, 145.28913315, 133.00427652,\n",
       "       126.45637604, 119.93858087, 113.56370596, 106.60435646,\n",
       "       100.47682822, 100.01232709,  97.58227734,  97.03097736,\n",
       "        95.22333708,  94.47945682,  93.28520272,  91.81996907,\n",
       "        89.81324666,  88.9052566 ,  86.72189044,  85.97937035,\n",
       "        85.52692698,  84.88648424,  83.92832212,  83.39678148,\n",
       "        82.93552775,  81.57552245,  81.11983133,  80.40218688,\n",
       "        80.11446795,  79.47627031,  79.37836518,  78.59738988,\n",
       "        78.01229298,  77.85436323,  77.66908857,  77.55122043,\n",
       "        76.89007249,  76.4228545 ,  76.00041321,  75.8040907 ,\n",
       "        74.81249081,  74.66342717,  74.4527842 ,  74.04383107,\n",
       "        73.64524381,  73.46501358,  72.83129493,  72.41118917,\n",
       "        72.2921712 ,  71.93940583,  71.81216017,  71.10131821,\n",
       "        70.9391992 ,  70.84011935,  70.53096615,  70.35139426,\n",
       "        69.93999802,  69.78243341,  69.27086653,  69.21460675,\n",
       "        69.01900921,  68.70456244,  68.50383137,  68.30414436,\n",
       "        68.17576847,  68.01991078,  67.51411851,  67.22183468,\n",
       "        66.8839515 ,  66.58148613,  66.36274995,  66.16704794,\n",
       "        65.79794365,  65.72333486,  65.40024145,  65.08588537,\n",
       "        64.6404417 ,  64.53304639,  64.20368572,  64.03131449,\n",
       "        63.92466611,  63.66553119,  63.33558342,  63.29692968,\n",
       "        63.09420435,  62.94898362,  62.68354728,  62.5229606 ,\n",
       "        62.41169773,  62.29448664,  61.95329382,  61.92396733,\n",
       "        61.75295145,  61.47465867,  61.26626033,  61.07062033,\n",
       "        60.89903307,  60.85048778,  60.57778787,  60.41079736,\n",
       "        60.33054497,  60.28287609,  59.96364752,  59.85744362,\n",
       "        59.45413293,  59.32372804,  59.23013625,  59.06072475,\n",
       "        58.97391383,  58.92610565,  58.56479286,  58.37386528,\n",
       "        58.31642657,  58.03153204,  57.74283188,  57.59433001,\n",
       "        57.42880291,  57.35016103,  57.12931153,  57.09075197,\n",
       "        56.99744949,  56.80408371,  56.58635472,  56.44382638,\n",
       "        56.2388444 ,  55.8076241 ,  55.59504262,  55.57770573,\n",
       "        55.38165126,  55.21206736,  55.08090266,  54.9049173 ,\n",
       "        54.70183977,  54.57379975,  54.2676554 ,  54.20080013,\n",
       "        54.11569611,  53.91010277,  53.72372715,  53.51085082,\n",
       "        53.30285624,  53.23776628,  53.09182544,  52.90201026,\n",
       "        52.64249451,  52.56385187,  52.36883707,  52.32162246,\n",
       "        52.14789601,  51.86773002,  51.78494992,  51.69826826,\n",
       "        51.53173807,  51.47747681,  51.38077987,  51.32280976,\n",
       "        51.08306022,  51.00381382,  50.79186067,  50.71483524,\n",
       "        50.58835577,  50.36527395,  50.2880925 ,  50.15850535,\n",
       "        50.08915342,  50.0431976 ,  49.91715951,  49.85763092,\n",
       "        49.66167565,  49.55544267,  49.46273016,  49.28550439,\n",
       "        49.16813928,  49.00461771,  48.89013185,  48.74561002,\n",
       "        48.70443665,  48.57385749,  48.40950117,  48.23052513,\n",
       "        48.11912208,  47.98047626,  47.87033267,  47.68743982,\n",
       "        47.61832904,  47.45130163,  47.32270136,  47.25567667,\n",
       "        47.09150121,  47.04330096,  46.87517079,  46.64385472,\n",
       "        46.55012983,  46.42913635,  46.33095118,  46.13583485,\n",
       "        46.04534217,  45.89547615,  45.71297325,  45.5620524 ])"
      ]
     },
     "execution_count": 132,
     "metadata": {},
     "output_type": "execute_result"
    }
   ],
   "source": [
    "svd_transformer.singular_values_"
   ]
  },
  {
   "cell_type": "markdown",
   "metadata": {},
   "source": [
    "### Classification\n",
    "\n",
    "On peut maintenant brancher notre pipeline à un classifieur, comme dans le premier TP.\n",
    "\n",
    "Reprendre la fonction `classify_and_evaluate()` et l'appliquer à `X` et `y` ci-dessous."
   ]
  },
  {
   "cell_type": "code",
   "execution_count": 133,
   "metadata": {},
   "outputs": [],
   "source": [
    "from sklearn.naive_bayes import MultinomialNB \n",
    "from sklearn.model_selection import cross_val_predict\n",
    "from sklearn.metrics import classification_report\n",
    "\n",
    "def classify_and_evaluate(X, y):\n",
    "    cls = MultinomialNB()\n",
    "    predictions = cross_val_predict(cls, X, y)\n",
    "    print(\"Nombre d'erreurs :\", len([(truth, prediction)\\\n",
    "                                     for truth, prediction in zip(y, predictions)\\\n",
    "                                     if truth != prediction]), end=\"\\n\\n\")\n",
    "    print(classification_report(y, predictions))"
   ]
  },
  {
   "cell_type": "code",
   "execution_count": 134,
   "metadata": {},
   "outputs": [
    {
     "name": "stdout",
     "output_type": "stream",
     "text": [
      "Nombre d'erreurs : 12694\n",
      "\n",
      "              precision    recall  f1-score   support\n",
      "\n",
      "    Business       0.86      0.85      0.86     30000\n",
      "    Sci/Tech       0.86      0.87      0.86     30000\n",
      "      Sports       0.95      0.97      0.96     30000\n",
      "       World       0.91      0.88      0.90     30000\n",
      "\n",
      "    accuracy                           0.89    120000\n",
      "   macro avg       0.89      0.89      0.89    120000\n",
      "weighted avg       0.89      0.89      0.89    120000\n",
      "\n"
     ]
    }
   ],
   "source": [
    "classify_and_evaluate(train_matrix, y_train)"
   ]
  },
  {
   "cell_type": "markdown",
   "metadata": {},
   "source": [
    "### Visualisation des mots les plus importants\n",
    "\n",
    "On va visualiser en deux dimensions les 50 mots les plus importants, ainsi que 50 articles tirés au hasard pour les classes `\"Sports\"` et `\"Sci/Tech\"`.\n",
    "\n",
    "Pour cela, exécuter les cellules ci-dessous."
   ]
  },
  {
   "cell_type": "code",
   "execution_count": 135,
   "metadata": {},
   "outputs": [],
   "source": [
    "# Filtrage des mots peu présents, récupération de ces mots dans une liste\n",
    "\n",
    "# On utilise le même type de filtrage que vu plus pour supprimer plus de colonnes (donc de mots).\n",
    "X, feature_names = vectorize(map(parse, train_data))\n",
    "keeping = (X.sum(axis=0) > 3).A.ravel()\n",
    "X = X[:,keeping]\n",
    "# On peut utiliser le vecteur de booléens `keeping` pour construire la liste des mots gardés.\n",
    "# C'est facile puisque `keeping` et `feature_names` sont alignés, c'est-à-dire que ce sont des listes\n",
    "# de même taille, stockant des informations sur les mêmes choses dans le même ordre, par construction.\n",
    "kept_features = [f_name for f_name, keep in zip(feature_names, keeping) if keep]"
   ]
  },
  {
   "cell_type": "code",
   "execution_count": 136,
   "metadata": {},
   "outputs": [],
   "source": [
    "# Normalisation TF.IDF\n",
    "X = TfidfTransformer(norm=False).fit_transform(X)"
   ]
  },
  {
   "cell_type": "code",
   "execution_count": 137,
   "metadata": {},
   "outputs": [],
   "source": [
    "# On filtre sur les classes qui nous intéressent\n",
    "kept_rows = [i for i, elem in enumerate(y_train) if elem in [\"Sci/Tech\", \"Sports\"]]\n",
    "y = [y_train[i] for i in kept_rows]\n",
    "X = X[kept_rows]"
   ]
  },
  {
   "cell_type": "code",
   "execution_count": 138,
   "metadata": {},
   "outputs": [],
   "source": [
    "# Calcul des mots les plus représentés\n",
    "best_words_idx = np.argsort(X.sum(axis=0).A.ravel())[-50:]\n",
    "best_words = [kept_features[i] for i in best_words_idx]"
   ]
  },
  {
   "cell_type": "code",
   "execution_count": 139,
   "metadata": {},
   "outputs": [],
   "source": [
    "# Transformation LSA\n",
    "svd_transformer = TruncatedSVD(n_components=200)\n",
    "Xk = svd_transformer.fit_transform(X)"
   ]
  },
  {
   "cell_type": "code",
   "execution_count": 140,
   "metadata": {},
   "outputs": [
    {
     "data": {
      "image/png": "[encoded data removed]",
      "text/plain": [
       "<Figure size 1080x864 with 1 Axes>"
      ]
     },
     "metadata": {
      "needs_background": "light"
     },
     "output_type": "display_data"
    }
   ],
   "source": [
    "# Visualisation\n",
    "fig, ax = plt.subplots()\n",
    "fig.set_size_inches(15, 12)\n",
    "\n",
    "# On sélectionne 50 articles au hasard\n",
    "import random\n",
    "random_lines = random.sample(range(X.shape[0]), 50)\n",
    "\n",
    "x_doc, y_doc = (Xk[:,1:3] * (1. / svd_transformer.singular_values_[1:3]))[random_lines].T\n",
    "labels_selected_articles = [y[i] for i in random_lines]\n",
    "\n",
    "for topic in set(labels_selected_articles):\n",
    "    x_doc_ = [x_doc[i] for i, e in enumerate(labels_selected_articles) if e == topic]\n",
    "    y_doc_ = [y_doc[i] for i, e in enumerate(labels_selected_articles) if e == topic]\n",
    "    ax.scatter(x_doc_, y_doc_, alpha=0.5, label=\"Articles topic \" + topic)\n",
    "\n",
    "ax.set_ylim(top=0.1, bottom=-0.15)\n",
    "ax.set_xlim(right=0.2, left=-0.2)\n",
    "\n",
    "x_term, y_term = svd_transformer.components_[1:3,best_words_idx]\n",
    "ax.scatter(x_term, y_term, c=\"g\", alpha=0.5, label=\"Words\")\n",
    "for x_, y_, s in zip(x_term, y_term, best_words):\n",
    "    if x_ >= ax.get_xlim()[0] and x_ <= ax.get_xlim()[1] and y_ >= ax.get_ylim()[0] and y_ <= ax.get_ylim()[1]:\n",
    "        ax.text(x_ + 0.002, y_ - 0.002, s, fontsize=12)\n",
    "\n",
    "ax.grid()\n",
    "ax.legend(fontsize=15, loc=0)\n",
    "ax.set_xlabel(\"Dimension 2\")\n",
    "ax.set_ylabel(\"Dimension 3\")\n",
    "ax.set_title(\"Visualisation dans l'espace projeté\");"
   ]
  },
  {
   "cell_type": "code",
   "execution_count": 141,
   "metadata": {},
   "outputs": [],
   "source": [
    "# because we project datas, the classification is not perfectly clear\n",
    "# but if we focus on (0,0)\n",
    "# the data of Sci/Tech are distributed right side\n",
    "# the data of Sports are distributed left side"
   ]
  },
  {
   "cell_type": "markdown",
   "metadata": {},
   "source": [
    "Commenter la visualisation."
   ]
  },
  {
   "cell_type": "code",
   "execution_count": 142,
   "metadata": {},
   "outputs": [
    {
     "data": {
      "text/plain": [
       "Text(0.5, 1.0, \"Visualisation dans l'espace projeté\")"
      ]
     },
     "execution_count": 142,
     "metadata": {},
     "output_type": "execute_result"
    },
    {
     "data": {
      "image/png": "[encoded data removed]",
      "text/plain": [
       "<Figure size 1080x864 with 1 Axes>"
      ]
     },
     "metadata": {
      "needs_background": "light"
     },
     "output_type": "display_data"
    }
   ],
   "source": [
    "fig, ax = plt.subplots()\n",
    "fig.set_size_inches(15, 12)\n",
    "\n",
    "# On sélectionne 50 articles au hasard\n",
    "import random\n",
    "random_lines = random.sample(range(X.shape[0]), 50)\n",
    "\n",
    "x_doc, y_doc = (Xk[:,1:3] * (1. / svd_transformer.singular_values_[1:3]))[random_lines].T\n",
    "labels_selected_articles = [y[i] for i in random_lines]\n",
    "\n",
    "for topic in set(labels_selected_articles):\n",
    "    x_doc_ = [x_doc[i] for i, e in enumerate(labels_selected_articles) if e == topic]\n",
    "    y_doc_ = [y_doc[i] for i, e in enumerate(labels_selected_articles) if e == topic]\n",
    "    ax.scatter(x_doc_, y_doc_, alpha=0.5, label=\"Articles topic \" + topic)\n",
    "\n",
    "ax.set_ylim(top=0.05, bottom=-0.05)\n",
    "ax.set_xlim(right=0.05, left=-0.05)\n",
    "\n",
    "x_term, y_term = svd_transformer.components_[1:3,best_words_idx]\n",
    "ax.scatter(x_term, y_term, c=\"g\", alpha=0.5, label=\"Words\")\n",
    "for x_, y_, s in zip(x_term, y_term, best_words):\n",
    "    if x_ >= ax.get_xlim()[0] and x_ <= ax.get_xlim()[1] and y_ >= ax.get_ylim()[0] and y_ <= ax.get_ylim()[1]:\n",
    "        ax.text(x_ + 0.002, y_ - 0.002, s, fontsize=12)\n",
    "\n",
    "ax.grid()\n",
    "ax.legend(fontsize=15, loc=0)\n",
    "ax.set_xlabel(\"Dimension 2\")\n",
    "ax.set_ylabel(\"Dimension 3\")\n",
    "ax.set_title(\"Visualisation dans l'espace projeté\")"
   ]
  },
  {
   "cell_type": "code",
   "execution_count": 143,
   "metadata": {},
   "outputs": [],
   "source": [
    "# to be clear, I zoomed in the graph a bit\n",
    "# as we can see, data can be separately classified by two classes\n",
    "# because on the minus x axis, the border of two classes is not clear so\n",
    "# it should be reinforced"
   ]
  },
  {
   "cell_type": "markdown",
   "metadata": {},
   "source": [
    "# Deuxième partie : word2vec\n",
    "\n",
    "On va utiliser un modèle pré-entraîné sur un dump de Wikipedia :\n",
    "1. Commencer par télécharger les données de [ce lien](https://ibm.ent.box.com/s/77etivy69jmga0x0u6vs2n47ul8baks4).\n",
    "2. Décompresser le fichier (`tar -xvfz /chemin/vers/votre/dossier/apnews_sg.tgz`)\n",
    "3. Installer gensim (`pip3 install imutils --user`)\n",
    "4. Charger le modèle."
   ]
  },
  {
   "cell_type": "code",
   "execution_count": 144,
   "metadata": {},
   "outputs": [],
   "source": [
    "from gensim.models.word2vec import Word2Vec\n",
    "\n",
    "model = Word2Vec.load(\"word2vec.bin\")"
   ]
  },
  {
   "cell_type": "markdown",
   "metadata": {},
   "source": [
    "On obtient une représentation dense de chaque mot."
   ]
  },
  {
   "cell_type": "code",
   "execution_count": 145,
   "metadata": {
    "scrolled": true
   },
   "outputs": [
    {
     "name": "stderr",
     "output_type": "stream",
     "text": [
      "/var/folders/ng/5wp3n5rj2j1_j1cdnlxjw88m0000gn/T/ipykernel_56545/4042434277.py:1: DeprecationWarning: Call to deprecated `__getitem__` (Method will be removed in 4.0.0, use self.wv.__getitem__() instead).\n",
      "  model[\"man\"]\n"
     ]
    },
    {
     "data": {
      "text/plain": [
       "array([ 4.27164972e-01,  5.73221892e-02,  6.15567043e-02,  9.54020619e-02,\n",
       "        1.82786472e-02, -1.46983370e-01,  7.13451132e-02,  6.06862940e-02,\n",
       "       -8.39615762e-02, -1.53227329e-01,  4.43859462e-04, -2.30238095e-01,\n",
       "       -1.63750932e-01, -7.88985044e-02, -2.19980270e-01, -1.10849805e-01,\n",
       "       -3.16224456e-01,  4.73360568e-02, -1.36688143e-01, -8.47528279e-02,\n",
       "        4.17414382e-02, -2.37944260e-01, -8.70545283e-02, -1.48416489e-01,\n",
       "       -1.77778006e-01, -6.55186623e-02, -2.81852245e-01, -2.74993867e-01,\n",
       "       -8.86562616e-02,  9.41087212e-03,  6.84729740e-02, -1.02155343e-01,\n",
       "       -4.34809029e-02,  1.09360971e-01,  2.75213152e-01,  1.47406206e-01,\n",
       "        7.28204325e-02,  3.23610157e-02,  4.89586502e-01,  1.12016559e-01,\n",
       "       -1.97800457e-01,  4.54594083e-02,  5.05269766e-02,  1.43815288e-02,\n",
       "        2.31974587e-01,  4.53264602e-02, -1.64787903e-01,  1.11527778e-01,\n",
       "        1.40989259e-01, -1.53619364e-01,  1.47233874e-01, -1.28524601e-01,\n",
       "        2.60341875e-02,  9.74874645e-02,  4.23873868e-03, -1.07624270e-01,\n",
       "        1.06584772e-01,  3.35359084e-03, -3.00049245e-01,  2.33593091e-01,\n",
       "       -6.52639493e-02, -1.47511080e-01,  4.98417690e-02, -1.30651549e-01,\n",
       "       -1.50233179e-01, -2.57014036e-01, -1.58821587e-02,  7.19775483e-02,\n",
       "       -1.38204843e-01, -1.46211907e-01, -3.27892780e-01,  2.75716305e-01,\n",
       "       -1.52491823e-01, -4.12179567e-02,  2.32725829e-01, -2.41551355e-01,\n",
       "        1.06280640e-01,  8.27443749e-02, -1.85432240e-01,  1.16536386e-01,\n",
       "        2.79678226e-01, -4.51077521e-02, -1.64891377e-01, -1.74079493e-01,\n",
       "       -3.07216239e-03, -5.71444519e-02,  6.43087626e-02,  7.64348954e-02,\n",
       "        4.69745338e-01, -2.50494897e-01,  1.46444604e-01,  2.64988467e-03,\n",
       "       -1.26532003e-01,  2.49871582e-01,  4.68826741e-02,  3.19874257e-01,\n",
       "        4.97006476e-02, -2.61382103e-01,  4.89815697e-02,  8.64695311e-02,\n",
       "        4.14520472e-01, -1.69356629e-01,  8.93197730e-02,  9.95015427e-02,\n",
       "       -1.24806061e-01,  3.97186913e-02, -1.62570417e-01,  2.10888073e-01,\n",
       "       -9.10278484e-02,  1.10888340e-01, -2.06644498e-02, -6.73645735e-02,\n",
       "        1.53455973e-01, -2.53231198e-01, -2.85561383e-02,  7.56803006e-02,\n",
       "        1.84815571e-01,  9.71229672e-02,  1.53322846e-01,  1.55379653e-01,\n",
       "        1.30408317e-01, -1.32318795e-01,  6.66763559e-02, -1.38654679e-01,\n",
       "        5.56395240e-02,  1.17330007e-01, -8.38601962e-02, -1.48798421e-01,\n",
       "       -1.52436450e-01,  9.02312323e-02, -1.82768628e-01, -3.22378486e-01,\n",
       "        3.97838429e-02, -9.87916142e-02,  2.89884895e-01, -1.35879710e-01,\n",
       "        3.12051587e-02,  1.66031808e-01, -3.57788295e-01,  2.43389696e-01,\n",
       "        1.27446562e-01,  1.98519882e-02, -2.40686089e-02,  8.13124105e-02,\n",
       "       -3.39858644e-02, -1.97414696e-01,  1.10957185e-02,  7.67673999e-02,\n",
       "        6.82190806e-02, -1.35200201e-02,  6.38432875e-02, -2.99316555e-01,\n",
       "        3.38388532e-02, -7.81502128e-02,  6.28179908e-02,  8.66038203e-02,\n",
       "        1.80840448e-01,  1.49724916e-01,  2.43158862e-01,  1.19676553e-02,\n",
       "       -5.97718582e-02,  1.66426495e-01, -1.71326503e-01,  4.23935391e-02,\n",
       "        1.26215771e-01,  2.81723738e-01,  7.27373436e-02,  8.08010921e-02,\n",
       "       -1.68064401e-01,  2.84524590e-01, -3.80645782e-01,  1.80811390e-01,\n",
       "        1.28450841e-01, -2.38313526e-02, -5.99370971e-02, -1.69772625e-01,\n",
       "       -2.12584704e-01,  3.08737189e-01, -3.49337995e-01, -7.05239996e-02,\n",
       "       -1.29147559e-01, -2.18136221e-01,  2.24767514e-02, -1.14209294e-01,\n",
       "        1.78996980e-01, -1.76275671e-01,  8.19790736e-03,  2.51687169e-01,\n",
       "        8.92369673e-02, -2.40989570e-02,  7.27185681e-02,  1.89904254e-02,\n",
       "       -9.15990397e-02,  2.71253824e-01, -2.29353413e-01, -2.17561051e-01,\n",
       "       -1.72683284e-01, -2.38040999e-01,  7.96422437e-02,  1.15542300e-01,\n",
       "        3.65478337e-01, -1.98226459e-02,  1.36775404e-01, -7.03564212e-02,\n",
       "        3.42510305e-02, -1.22423626e-01, -1.69905275e-01,  7.10020587e-02,\n",
       "       -3.80710453e-01,  1.49054108e-02,  2.71857958e-02, -9.17801857e-02,\n",
       "        4.60883509e-03, -2.33091731e-02, -3.09676696e-02,  4.76326227e-01,\n",
       "       -1.18554719e-01,  1.13160774e-01, -3.29252601e-01,  8.69848505e-02,\n",
       "       -1.16257772e-01, -2.12181449e-01,  4.38766330e-01, -2.77908564e-01,\n",
       "        2.77529091e-01, -4.23656479e-02, -9.06059444e-02,  1.00608356e-02,\n",
       "        5.66284359e-03,  6.26715124e-02,  2.89687544e-01, -5.08948900e-02,\n",
       "        5.98819926e-02, -1.14349417e-01, -7.87470713e-02, -1.32735923e-01,\n",
       "       -1.51087329e-01, -1.42996475e-01,  7.19805211e-02,  3.08509022e-02,\n",
       "        1.08403459e-01, -8.75767469e-02,  1.19479977e-01,  7.95276985e-02,\n",
       "       -2.60471731e-01, -4.56268713e-03, -1.81850210e-01, -2.33671188e-01,\n",
       "       -2.92823672e-01, -2.25352541e-01,  3.21999043e-01,  7.49774128e-02,\n",
       "       -1.34837359e-01,  7.30496794e-02, -2.15504855e-01, -1.04478359e-01,\n",
       "        3.41849066e-02, -3.58586520e-01,  1.44850574e-02,  3.04097738e-02,\n",
       "        3.07105184e-01,  7.45716617e-02, -5.99257089e-02,  8.69186297e-02,\n",
       "       -4.73436974e-02,  7.41403773e-02,  1.91248447e-01, -8.85807909e-03,\n",
       "        2.18407035e-01, -3.29214782e-02, -3.73938113e-01,  1.72289327e-01,\n",
       "        1.70256086e-02,  1.40165031e-01, -1.08277477e-01, -1.24866970e-01,\n",
       "        1.51278928e-01,  2.31396869e-01, -3.08245085e-02, -2.41669670e-01,\n",
       "        2.23280907e-01,  2.30868869e-02, -1.83745340e-01,  4.63485777e-01,\n",
       "        1.26625404e-01,  1.06166899e-02,  3.87144238e-02, -6.30182996e-02,\n",
       "       -1.01268686e-01,  2.89677173e-01, -2.93039411e-01, -1.87975377e-01,\n",
       "       -1.29259415e-02,  2.72160351e-01, -4.67133671e-02,  1.15300648e-01,\n",
       "        2.02681690e-01,  1.33623555e-01, -2.50677288e-01,  1.46420181e-01],\n",
       "      dtype=float32)"
      ]
     },
     "execution_count": 145,
     "metadata": {},
     "output_type": "execute_result"
    }
   ],
   "source": [
    "model[\"man\"]"
   ]
  },
  {
   "cell_type": "markdown",
   "metadata": {},
   "source": [
    "Examiner cette représentation pour voir déterminer la dimension de l'espace."
   ]
  },
  {
   "cell_type": "code",
   "execution_count": 146,
   "metadata": {},
   "outputs": [
    {
     "name": "stderr",
     "output_type": "stream",
     "text": [
      "/var/folders/ng/5wp3n5rj2j1_j1cdnlxjw88m0000gn/T/ipykernel_56545/4268334186.py:1: DeprecationWarning: Call to deprecated `__getitem__` (Method will be removed in 4.0.0, use self.wv.__getitem__() instead).\n",
      "  model[\"man\"].shape\n"
     ]
    },
    {
     "data": {
      "text/plain": [
       "(300,)"
      ]
     },
     "execution_count": 146,
     "metadata": {},
     "output_type": "execute_result"
    }
   ],
   "source": [
    "model[\"man\"].shape"
   ]
  },
  {
   "cell_type": "markdown",
   "metadata": {},
   "source": [
    "On peut maintenant reproduire des exemples \"d'algèbre sur les mots\" : il faut indiquer les mots positifs et négatifs.\n",
    "\n",
    "Essayez quelques exemples. Les résultats sont-ils les mêmes que ceux vus en cours ? Si non, pourquoi ?"
   ]
  },
  {
   "cell_type": "code",
   "execution_count": 147,
   "metadata": {},
   "outputs": [
    {
     "name": "stderr",
     "output_type": "stream",
     "text": [
      "/var/folders/ng/5wp3n5rj2j1_j1cdnlxjw88m0000gn/T/ipykernel_56545/873844084.py:2: DeprecationWarning: Call to deprecated `most_similar` (Method will be removed in 4.0.0, use self.wv.most_similar() instead).\n",
      "  model.most_similar(positive=['girl', 'father'], negative=['boy'])\n"
     ]
    },
    {
     "data": {
      "text/plain": [
       "[('daughter', 0.8421739935874939),\n",
       " ('mother', 0.8219131827354431),\n",
       " ('son', 0.8104175925254822),\n",
       " ('husband', 0.7870069742202759),\n",
       " ('wife', 0.749029278755188),\n",
       " ('grandmother', 0.7245616316795349),\n",
       " ('her', 0.7234212160110474),\n",
       " ('brother', 0.7050185799598694),\n",
       " ('sister', 0.701641857624054),\n",
       " ('aunt', 0.6941375732421875)]"
      ]
     },
     "execution_count": 147,
     "metadata": {},
     "output_type": "execute_result"
    }
   ],
   "source": [
    "#the expected result is mother and the value of right answer has the second highest value.\n",
    "model.most_similar(positive=['girl', 'father'], negative=['boy'])"
   ]
  },
  {
   "cell_type": "code",
   "execution_count": 148,
   "metadata": {},
   "outputs": [
    {
     "name": "stderr",
     "output_type": "stream",
     "text": [
      "/var/folders/ng/5wp3n5rj2j1_j1cdnlxjw88m0000gn/T/ipykernel_56545/2984255688.py:7: DeprecationWarning: Call to deprecated `most_similar` (Method will be removed in 4.0.0, use self.wv.most_similar() instead).\n",
      "  model.most_similar(positive=['woman', 'king'], negative=['man'])\n"
     ]
    },
    {
     "data": {
      "text/plain": [
       "[('luther', 0.5677588582038879),\n",
       " ('queen', 0.4844968914985657),\n",
       " ('martin', 0.44604235887527466),\n",
       " ('princess', 0.4392106235027313),\n",
       " ('bernice', 0.43639644980430603),\n",
       " ('coretta', 0.42410361766815186),\n",
       " ('414-403-5314', 0.4220905303955078),\n",
       " ('viii', 0.41455304622650146),\n",
       " ('http://www.twitter.com/caitlinrking', 0.4006994962692261),\n",
       " ('vi', 0.3979029059410095)]"
      ]
     },
     "execution_count": 148,
     "metadata": {},
     "output_type": "execute_result"
    }
   ],
   "source": [
    "# the expected result is queen and the value of right answer has the second highest value.\n",
    "# wordvec can be easily understood if we think about vectors\n",
    "# woman + (king-man) = queen\n",
    "# king-man = royal\n",
    "# woman+royal = res\n",
    "# so the answer is \"queen\" that adds the value got between king and man to woman\n",
    "model.most_similar(positive=['woman', 'king'], negative=['man'])"
   ]
  },
  {
   "cell_type": "code",
   "execution_count": 149,
   "metadata": {},
   "outputs": [
    {
     "name": "stderr",
     "output_type": "stream",
     "text": [
      "/var/folders/ng/5wp3n5rj2j1_j1cdnlxjw88m0000gn/T/ipykernel_56545/3646266518.py:4: DeprecationWarning: Call to deprecated `most_similar` (Method will be removed in 4.0.0, use self.wv.most_similar() instead).\n",
      "  model.most_similar(positive=['queen', 'kings'], negative=['king'])\n"
     ]
    },
    {
     "data": {
      "text/plain": [
       "[('princesses', 0.3605149984359741),\n",
       " ('royals', 0.358207106590271),\n",
       " ('angels', 0.35462686419487),\n",
       " ('princess', 0.3503638207912445),\n",
       " ('rca/rmg', 0.34878426790237427),\n",
       " ('queens', 0.3408749997615814),\n",
       " ('bee', 0.33421576023101807),\n",
       " ('tuya', 0.3309422731399536),\n",
       " ('bon', 0.33064335584640503),\n",
       " ('royal', 0.32910266518592834)]"
      ]
     },
     "execution_count": 149,
     "metadata": {},
     "output_type": "execute_result"
    }
   ],
   "source": [
    "# in this case the expected answer is queens that is plurality of queen\n",
    "# queen + (kings-king) = queens\n",
    "# however in this case, the right answer coeff value is not that high compare with the others and similar...\n",
    "model.most_similar(positive=['queen', 'kings'], negative=['king'])"
   ]
  },
  {
   "cell_type": "code",
   "execution_count": 150,
   "metadata": {},
   "outputs": [],
   "source": [
    "# for now we have not that great result about the example we saw in class\n",
    "# to improve the accuracy of model, we should train the model as a supervised learning"
   ]
  },
  {
   "cell_type": "markdown",
   "metadata": {},
   "source": [
    "## Classification du corpus AG News\n",
    "\n",
    "Il faut repartir de la matrice simple de TF, et remplacer chaque mot par le vecteur correspondant ; le document est donc la moyenne des mots, chaque mot étant pondéré par sa fréquence d'apparition."
   ]
  },
  {
   "cell_type": "markdown",
   "metadata": {},
   "source": [
    "Première étape, on reconstruit la matrice de fréquences."
   ]
  },
  {
   "cell_type": "code",
   "execution_count": 151,
   "metadata": {},
   "outputs": [],
   "source": [
    "# we make new matrix and y value list\n",
    "X, feature_names = vectorize(map(parse, train_data))\n",
    "y = train[\"label\"].tolist()\n",
    "# transformation of TF.IDF\n",
    "X = TfidfTransformer().fit_transform(X)\n",
    "# delete the word mentioned less than 3\n",
    "keeping = (X.sum(axis=0) > 3).A.ravel()\n",
    "X = X[:,keeping]\n",
    "kept_features = [f_name for f_name, keep in zip(feature_names, keeping) if keep]"
   ]
  },
  {
   "cell_type": "markdown",
   "metadata": {},
   "source": [
    "On ne garde que les classes `\"Sports\"` et `\"Sci/Tech\"`."
   ]
  },
  {
   "cell_type": "code",
   "execution_count": 152,
   "metadata": {},
   "outputs": [],
   "source": [
    "kept_rows = [i for i, elem in enumerate(y) if elem in [\"Sci/Tech\", \"Sports\"]]\n",
    "y_binary = [y[i] for i in kept_rows]\n",
    "X_binary = X[kept_rows]"
   ]
  },
  {
   "cell_type": "markdown",
   "metadata": {},
   "source": [
    "Et voilà l'étape de construction de la matrice de documents.\n",
    "\n",
    "Examiner le code en essayant de comprendre chaque ligne et en expliquant en commentaires les grandes étapes."
   ]
  },
  {
   "cell_type": "code",
   "execution_count": 153,
   "metadata": {},
   "outputs": [
    {
     "name": "stderr",
     "output_type": "stream",
     "text": [
      "/var/folders/ng/5wp3n5rj2j1_j1cdnlxjw88m0000gn/T/ipykernel_56545/4282807999.py:24: DeprecationWarning: Call to deprecated `__getitem__` (Method will be removed in 4.0.0, use self.wv.__getitem__() instead).\n",
      "  embedded_words.append(model[word] * count)\n"
     ]
    }
   ],
   "source": [
    "# define the final list\n",
    "embedded_docs = []\n",
    "# we will repeat the procedure per line\n",
    "for row in X_binary:\n",
    "    # because we defined X_binary like \"X_binary = X[kept_rows]\"\n",
    "    # the row that has class of Sci/Tech or Sports will has nonzero value\n",
    "    # or will have zero value\n",
    "    # so at this part, we filter them\n",
    "    words_idx = row.nonzero()[1]\n",
    "    # if it's filtered right before, we will fill blank with 0 with numpy function\n",
    "    if not words_idx.shape[0]:\n",
    "        embedded_docs.append(np.zeros(300))\n",
    "        continue\n",
    "    # TF.IDF values\n",
    "    counts = row[0,words_idx].A.ravel()\n",
    "    # the words what their value is not zero\n",
    "    words = [kept_features[i] for i in words_idx]\n",
    "    \n",
    "    # the words consist line(row) will be saved on this list\n",
    "    embedded_words = []\n",
    "    for count, word in zip(counts, words):\n",
    "        try:\n",
    "            # TF.IDF(t, d) = TF(t, d) x IDF(t)\n",
    "            embedded_words.append(model[word] * count)\n",
    "        except KeyError:\n",
    "            # if there's no the word, fill with 0\n",
    "            embedded_words.append(np.zeros(300))\n",
    "    #doc = np.array(embedded_words).sum(axis=0)\n",
    "    # get the average of embedded_words and add on embedded_docs\n",
    "    embedded_docs.append(np.array(embedded_words).mean(axis=0))\n",
    "# make the format as numpt array\n",
    "embedded_docs = np.array(embedded_docs)"
   ]
  },
  {
   "cell_type": "markdown",
   "metadata": {},
   "source": [
    "Quelle est la dimension de `embedded_docs` ?"
   ]
  },
  {
   "cell_type": "code",
   "execution_count": 154,
   "metadata": {},
   "outputs": [
    {
     "data": {
      "text/plain": [
       "(60000, 300)"
      ]
     },
     "execution_count": 154,
     "metadata": {},
     "output_type": "execute_result"
    }
   ],
   "source": [
    "embedded_docs.shape"
   ]
  },
  {
   "cell_type": "markdown",
   "metadata": {},
   "source": [
    "Utiliser la fonction `classify_and_evaluate()` sur la matrice de TF et sur la matrice projetée.\n",
    "\n",
    "Commenter."
   ]
  },
  {
   "cell_type": "code",
   "execution_count": 155,
   "metadata": {},
   "outputs": [
    {
     "name": "stdout",
     "output_type": "stream",
     "text": [
      "Nombre d'erreurs : 2291\n",
      "\n",
      "              precision    recall  f1-score   support\n",
      "\n",
      "    Sci/Tech       0.99      0.94      0.96     30000\n",
      "      Sports       0.94      0.99      0.96     30000\n",
      "\n",
      "    accuracy                           0.96     60000\n",
      "   macro avg       0.96      0.96      0.96     60000\n",
      "weighted avg       0.96      0.96      0.96     60000\n",
      "\n"
     ]
    }
   ],
   "source": [
    "classify_and_evaluate(embedded_docs + np.fabs(embedded_docs.min()), y_binary)"
   ]
  },
  {
   "cell_type": "code",
   "execution_count": 156,
   "metadata": {},
   "outputs": [
    {
     "name": "stdout",
     "output_type": "stream",
     "text": [
      "Nombre d'erreurs : 839\n",
      "\n",
      "              precision    recall  f1-score   support\n",
      "\n",
      "    Sci/Tech       0.99      0.98      0.99     30000\n",
      "      Sports       0.98      0.99      0.99     30000\n",
      "\n",
      "    accuracy                           0.99     60000\n",
      "   macro avg       0.99      0.99      0.99     60000\n",
      "weighted avg       0.99      0.99      0.99     60000\n",
      "\n"
     ]
    }
   ],
   "source": [
    "classify_and_evaluate(X_binary + np.fabs(X_binary.min()), y_binary)"
   ]
  },
  {
   "cell_type": "code",
   "execution_count": 157,
   "metadata": {},
   "outputs": [],
   "source": [
    "# with linear svc, it works well\n",
    "from sklearn.svm import LinearSVC\n",
    "\n",
    "def classify_and_evaluate(X, y):\n",
    "    cls = LinearSVC()\n",
    "    predictions = cross_val_predict(cls, X, y)\n",
    "    print(\"Nombre d'erreurs :\", len([(truth, prediction)\\\n",
    "                                     for truth, prediction in zip(y, predictions)\\\n",
    "                                     if truth != prediction]), end=\"\\n\\n\")\n",
    "    print(classification_report(y, predictions))"
   ]
  },
  {
   "cell_type": "code",
   "execution_count": 158,
   "metadata": {},
   "outputs": [
    {
     "name": "stderr",
     "output_type": "stream",
     "text": [
      "/usr/local/lib/python3.9/site-packages/sklearn/svm/_base.py:985: ConvergenceWarning: Liblinear failed to converge, increase the number of iterations.\n",
      "  warnings.warn(\"Liblinear failed to converge, increase \"\n",
      "/usr/local/lib/python3.9/site-packages/sklearn/svm/_base.py:985: ConvergenceWarning: Liblinear failed to converge, increase the number of iterations.\n",
      "  warnings.warn(\"Liblinear failed to converge, increase \"\n",
      "/usr/local/lib/python3.9/site-packages/sklearn/svm/_base.py:985: ConvergenceWarning: Liblinear failed to converge, increase the number of iterations.\n",
      "  warnings.warn(\"Liblinear failed to converge, increase \"\n",
      "/usr/local/lib/python3.9/site-packages/sklearn/svm/_base.py:985: ConvergenceWarning: Liblinear failed to converge, increase the number of iterations.\n",
      "  warnings.warn(\"Liblinear failed to converge, increase \"\n",
      "/usr/local/lib/python3.9/site-packages/sklearn/svm/_base.py:985: ConvergenceWarning: Liblinear failed to converge, increase the number of iterations.\n",
      "  warnings.warn(\"Liblinear failed to converge, increase \"\n"
     ]
    },
    {
     "name": "stdout",
     "output_type": "stream",
     "text": [
      "Nombre d'erreurs : 852\n",
      "\n",
      "              precision    recall  f1-score   support\n",
      "\n",
      "    Sci/Tech       0.99      0.98      0.99     30000\n",
      "      Sports       0.98      0.99      0.99     30000\n",
      "\n",
      "    accuracy                           0.99     60000\n",
      "   macro avg       0.99      0.99      0.99     60000\n",
      "weighted avg       0.99      0.99      0.99     60000\n",
      "\n"
     ]
    }
   ],
   "source": [
    "classify_and_evaluate(embedded_docs + np.fabs(embedded_docs.min()), y_binary)"
   ]
  },
  {
   "cell_type": "code",
   "execution_count": 97,
   "metadata": {},
   "outputs": [
    {
     "name": "stdout",
     "output_type": "stream",
     "text": [
      "Nombre d'erreurs : 824\n",
      "\n",
      "              precision    recall  f1-score   support\n",
      "\n",
      "    Sci/Tech       0.99      0.99      0.99     30000\n",
      "      Sports       0.99      0.99      0.99     30000\n",
      "\n",
      "    accuracy                           0.99     60000\n",
      "   macro avg       0.99      0.99      0.99     60000\n",
      "weighted avg       0.99      0.99      0.99     60000\n",
      "\n"
     ]
    }
   ],
   "source": [
    "classify_and_evaluate(embedded_docs, y_binary)"
   ]
  },
  {
   "cell_type": "code",
   "execution_count": null,
   "metadata": {},
   "outputs": [],
   "source": [
    "# As we check, the accuracies are over 95 and it looks successful"
   ]
  }
 ],
 "metadata": {
  "kernelspec": {
   "display_name": "Python 3 (ipykernel)",
   "language": "python",
   "name": "python3"
  },
  "language_info": {
   "codemirror_mode": {
    "name": "ipython",
    "version": 3
   },
   "file_extension": ".py",
   "mimetype": "text/x-python",
   "name": "python",
   "nbconvert_exporter": "python",
   "pygments_lexer": "ipython3",
   "version": "3.9.9"
  },
  "toc": {
   "nav_menu": {},
   "number_sections": true,
   "sideBar": true,
   "skip_h1_title": false,
   "title_cell": "Table of Contents",
   "title_sidebar": "Contents",
   "toc_cell": false,
   "toc_position": {},
   "toc_section_display": true,
   "toc_window_display": false
  }
 },
 "nbformat": 4,
 "nbformat_minor": 2
}
